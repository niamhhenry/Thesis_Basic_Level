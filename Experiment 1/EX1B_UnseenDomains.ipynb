{
 "cells": [
  {
   "cell_type": "code",
   "execution_count": 1,
   "id": "ca099293-1248-4808-8f4d-ba9c88653272",
   "metadata": {},
   "outputs": [],
   "source": [
    "import pandas as pd\n",
    "import numpy as np\n",
    "from numpy import mean, std, median\n",
    "from sklearn.model_selection import KFold\n",
    "from sklearn.model_selection import cross_val_score,  train_test_split, RepeatedStratifiedKFold, GridSearchCV\n",
    "from sklearn.ensemble import RandomForestClassifier\n",
    "from sklearn.metrics import balanced_accuracy_score, make_scorer, classification_report, recall_score,r2_score, accuracy_score, cohen_kappa_score, classification_report, confusion_matrix, precision_score,f1_score \n",
    "from sklearn.model_selection import cross_validate, cross_val_predict, cross_val_score, KFold, StratifiedKFold \n",
    "from imblearn.pipeline import Pipeline \n",
    "from imblearn.pipeline import make_pipeline as imbpipeline\n",
    "from sklearn.pipeline import make_pipeline\n",
    "from imblearn.over_sampling import SMOTE, ADASYN\n",
    "import scikitplot as skplt\n",
    "from sklearn.preprocessing import StandardScaler, MinMaxScaler\n",
    "import matplotlib.pyplot as plt"
   ]
  },
  {
   "cell_type": "code",
   "execution_count": 2,
   "id": "048636cb-020a-49ae-a2c7-81e2e5647d90",
   "metadata": {},
   "outputs": [],
   "source": [
    "#Random seed used in R was 7\n",
    "random_seed=7"
   ]
  },
  {
   "cell_type": "code",
   "execution_count": 3,
   "id": "2585981b-20e0-4522-bd8a-df99b67fa755",
   "metadata": {},
   "outputs": [],
   "source": [
    "#read input data\n",
    "#data=pd.read_csv('GS_allfeatures1.csv')\n",
    "#data=pd.read_csv('EX1_Multi_GS_5.csv')\n",
    "#data=pd.read_csv('GS_allfeat_appears.csv')\n",
    "#data=pd.read_csv('GS_allagree_allfeat.csv')\n",
    "data=pd.read_csv('AA_norm.csv')"
   ]
  },
  {
   "cell_type": "code",
   "execution_count": 4,
   "id": "72588dae-27e5-4a70-8caa-b2c9a69908f4",
   "metadata": {},
   "outputs": [],
   "source": [
    "d_tools=pd.DataFrame(data.loc[data['domain_x']=='tool'])\n",
    "d_fruit=pd.DataFrame(data.loc[data['domain_x']=='fruit'])\n",
    "d_music=pd.DataFrame(data.loc[data['domain_x']=='music'])\n",
    "d_furn=pd.DataFrame(data.loc[data['domain_x']=='furn'])\n",
    "d_garm=pd.DataFrame(data.loc[data['domain_x']=='garm'])"
   ]
  },
  {
   "cell_type": "code",
   "execution_count": 5,
   "id": "a3b5cdd6-03ac-4884-865b-b67eb31f6f22",
   "metadata": {},
   "outputs": [],
   "source": [
    "three=data[data['domain_x']!='furn']"
   ]
  },
  {
   "cell_type": "code",
   "execution_count": 6,
   "id": "04003eb1-115e-4d35-8021-6655e398dbec",
   "metadata": {},
   "outputs": [],
   "source": [
    "fmt=three[three['domain_x']!='garm']"
   ]
  },
  {
   "cell_type": "code",
   "execution_count": 7,
   "id": "59c191dd-489e-4b6c-b9ed-539f0c32236a",
   "metadata": {
    "tags": []
   },
   "outputs": [
    {
     "data": {
      "text/plain": [
       "['Unnamed: 0',\n",
       " 'Unnamed: 0_x',\n",
       " 'Unnamed: 0.1',\n",
       " 'Unnamed: 0.1.1',\n",
       " 'Synsets',\n",
       " 'domain_x',\n",
       " 'nrhypos_x',\n",
       " 'nrdirhypers_x',\n",
       " 'nrpartrels_x',\n",
       " 'depthfromtopsynset_x',\n",
       " 'glosslength_x',\n",
       " 'minwordlength_x',\n",
       " 'nroflemmas_x',\n",
       " 'polyscore_max_x',\n",
       " 'ngrams_last_mean',\n",
       " 'nrpartrels_normalised_x',\n",
       " 'depthfromtopsynset_normalised_x',\n",
       " 'glosslength_normalised_x',\n",
       " 'res_ngrams_2008_mean',\n",
       " 'ngrams_2008_mean_log_y',\n",
       " 'ngrams_sum08',\n",
       " 'ngrams_max08',\n",
       " 'All_CHILDES_mean',\n",
       " 'All_CHILDES_mean_log',\n",
       " 'CHILDES_sum',\n",
       " 'CHILDES_Sum_log',\n",
       " 'CHILDES_max',\n",
       " 'CHILDES_max_log',\n",
       " 'KBNC_mean',\n",
       " 'KBNC_mean_log',\n",
       " 'KBNC_Sum',\n",
       " 'KBNC_Sum_log',\n",
       " 'KBNC_max',\n",
       " 'KBNC_max_log',\n",
       " 'CABNC_mean',\n",
       " 'CABNC_mean_log',\n",
       " 'CABNC_sum',\n",
       " 'CABNC_Sum_log',\n",
       " 'CABNC_max',\n",
       " 'CABNC_max_log',\n",
       " 'BNC_mean',\n",
       " 'BNC_mean_log',\n",
       " 'BNC_sum',\n",
       " 'BNC_Sum_log',\n",
       " 'BNC_max',\n",
       " 'BNC_max_log',\n",
       " 'A1_Label',\n",
       " 'A2_Label',\n",
       " 'A3_Label',\n",
       " 'MV',\n",
       " 'vote_x',\n",
       " 'CHILDES_Rel_mean',\n",
       " 'KBNC_Rel_mean',\n",
       " 'CABNC_Rel_mean',\n",
       " 'BNC_Rel_mean',\n",
       " 'CHILDES_Rel_mean_log',\n",
       " 'KBNC_Rel_mean_log',\n",
       " 'CABNC_Rel_mean_log',\n",
       " 'BNC_Rel_mean_log',\n",
       " 'CHILDES_Sum_Rel',\n",
       " 'KBNC_Sum_Rel',\n",
       " 'CABNC_Sum_Rel',\n",
       " 'BNC_Sum_Rel',\n",
       " 'CHILDES_appear',\n",
       " 'KBNC_appear',\n",
       " 'CABNC_appear',\n",
       " 'BNC_appear',\n",
       " 'Unnamed: 0_y',\n",
       " 'ID',\n",
       " 'res_nrdirhypos',\n",
       " 'res_nrdirhypers',\n",
       " 'res_nrhypos',\n",
       " 'res_depthfromtopsynset',\n",
       " 'res_glosslength',\n",
       " 'res_nroflemmas',\n",
       " 'res_freq',\n",
       " 'res_polyscore_max',\n",
       " 'res_polyscore_sum',\n",
       " 'res_wordlength',\n",
       " 'res_minwordlength',\n",
       " 'res_nrpartrels',\n",
       " 'res_nrmiscrels',\n",
       " 'depthfromtopsynset_normalised',\n",
       " 'glosslength_normalised',\n",
       " 'partrel_normalised',\n",
       " 'ngrams_2008_mean_log',\n",
       " 'All_CHILDES_mean_x',\n",
       " 'All_CHILDES_mean_log_x',\n",
       " 'CHILDES_sum_x',\n",
       " 'CHILDES_Sum_log_x',\n",
       " 'CHILDES_max_x',\n",
       " 'CHILDES_max_log_x',\n",
       " 'CHILDES_Rel_Mean',\n",
       " 'CHILDES_Rel_Sum',\n",
       " 'CHILDES_Rel_max',\n",
       " 'CHILDES_Rel_Mean_log',\n",
       " 'CHILDES_Rel_Sum_log',\n",
       " 'CHILDES_Rel_max_log',\n",
       " 'CHILDES_per100,000',\n",
       " 'KBNC_mean_x',\n",
       " 'KBNC_mean_log_x',\n",
       " 'KBNC_Sum_x',\n",
       " 'KBNC_Sum_log_x',\n",
       " 'KBNC_max_x',\n",
       " 'KBNC_max_log_x',\n",
       " 'KBNC_Rel_Mean',\n",
       " 'KBNC_Rel_Sum',\n",
       " 'KBNC_Rel_max',\n",
       " 'KBNC_Rel_Mean_log',\n",
       " 'KBNC_Rel_Sum_log',\n",
       " 'KBNC_Rel_max_log',\n",
       " 'KBNC_per100,000',\n",
       " 'CABNC_mean_x',\n",
       " 'CABNC_mean_log_x',\n",
       " 'CABNC_sum_x',\n",
       " 'CABNC_Sum_log_x',\n",
       " 'CABNC_max_x',\n",
       " 'CABNC_max_log_x',\n",
       " 'CABNC_Rel_Mean',\n",
       " 'CABNC_Rel_Sum',\n",
       " 'CABNC_Rel_max',\n",
       " 'CABNC_Rel_Mean_log',\n",
       " 'CABNC_Rel_Sum_log',\n",
       " 'CABNC_Rel_max_log',\n",
       " 'CABNC_per100,000',\n",
       " 'BNC_mean_x',\n",
       " 'BNC_mean_log_x',\n",
       " 'BNC_sum_x',\n",
       " 'BNC_Sum_log_x',\n",
       " 'BNC_max_x',\n",
       " 'BNC_max_log_x',\n",
       " 'BNC_Rel_Mean',\n",
       " 'BNC_Rel_Sum',\n",
       " 'BNC_Rel_max',\n",
       " 'BNC_Rel_Mean_log',\n",
       " 'BNC_Rel_Sum_log',\n",
       " 'BNC_Rel_max_log',\n",
       " 'BNC_per100,000',\n",
       " 'domain',\n",
       " 'dir_hypos_normalised',\n",
       " 'dir_hypers_normalised',\n",
       " 'hypos_normalised']"
      ]
     },
     "execution_count": 7,
     "metadata": {},
     "output_type": "execute_result"
    }
   ],
   "source": [
    "list(data)"
   ]
  },
  {
   "cell_type": "code",
   "execution_count": 8,
   "id": "ebc75a27-affa-46ca-91bc-ecee7f7a1364",
   "metadata": {},
   "outputs": [],
   "source": [
    "#set features and target variable\n",
    "features=['ngrams_last_mean',\n",
    " 'dir_hypers_normalised',\n",
    " 'hypos_normalised',\n",
    " 'nrpartrels_normalised_x',\n",
    " 'depthfromtopsynset_normalised_x',\n",
    " 'glosslength_normalised_x',\n",
    " 'minwordlength_x',\n",
    " 'nroflemmas_x',\n",
    " 'polyscore_max_x']\n",
    "target=['vote_x']"
   ]
  },
  {
   "cell_type": "code",
   "execution_count": 9,
   "id": "1f3f80c6-0141-44b4-95a4-6b6f796ec7bc",
   "metadata": {},
   "outputs": [],
   "source": [
    "#train on 2 domains test on one unseen to see performance across new domains\n",
    "music=[d_tools, d_fruit]\n",
    "fruit=[d_tools, d_music]\n",
    "tools=[d_fruit, d_music]\n",
    "m=pd.concat(music)\n",
    "f=pd.concat(fruit)\n",
    "t=pd.concat(tools)"
   ]
  },
  {
   "cell_type": "code",
   "execution_count": 10,
   "id": "2d9318af-3a93-4667-945a-7cbb8120756f",
   "metadata": {},
   "outputs": [],
   "source": [
    "#train on 4 domains test on one unseen \n",
    "garments=[d_furn, d_fruit, d_music, d_tools]\n",
    "furniture=[d_fruit, d_music, d_tools, d_garm]\n",
    "fru=[d_furn, d_music, d_tools, d_garm]\n",
    "mus=[d_furn, d_fruit, d_tools, d_garm]\n",
    "too=[d_furn, d_fruit, d_music, d_garm]\n",
    "g=pd.concat(garments)\n",
    "furn=pd.concat(furniture)\n",
    "fr=pd.concat(fru)\n",
    "mu=pd.concat(mus)\n",
    "to=pd.concat(too)"
   ]
  },
  {
   "cell_type": "code",
   "execution_count": 11,
   "id": "d2b74f64-b68c-4599-967e-5c40dc21bb25",
   "metadata": {},
   "outputs": [],
   "source": [
    "#X_train, X_test, y_train, y_test = train_test_split(X, y, test_size=0.2, random_state=random_seed)\n",
    "X_train=np.array(mu[features])\n",
    "X_test=np.array(d_music[features])\n",
    "y_train=np.array(mu[target])\n",
    "y_test=np.array(d_music[target])"
   ]
  },
  {
   "cell_type": "code",
   "execution_count": 12,
   "id": "d4e90634-e883-4030-87f7-501b170e39dd",
   "metadata": {},
   "outputs": [],
   "source": [
    "#skf = StratifiedKFold(n_splits=10, shuffle=True, random_state=random_seed)\n",
    "#skf.get_n_splits(X, y)\n",
    "#for train_index, test_index in skf.split(X, y):\n",
    "   # print(\"TRAIN:\", train_index, \"TEST:\", test_index)\n",
    "    #X_train, X_test = X[train_index], X[test_index]\n",
    "    #y_train, y_test = y[train_index], y[test_index]"
   ]
  },
  {
   "cell_type": "code",
   "execution_count": 13,
   "id": "323182d3-86cb-47c6-ac19-fbc9400c033e",
   "metadata": {},
   "outputs": [
    {
     "name": "stdout",
     "output_type": "stream",
     "text": [
      "Shape of oversampled data: (1170, 9)\n",
      "Shape of Y: (1170,)\n"
     ]
    }
   ],
   "source": [
    "#run SMOTE algorithm to deal with class imbalances - make basic class same amount as non-basic\n",
    "sm = SMOTE(random_state=random_seed, k_neighbors=2)\n",
    "X_train, y_train = sm.fit_resample(X_train, y_train)\n",
    "print ('Shape of oversampled data: {}'.format(X_train.shape))\n",
    "print ('Shape of Y: {}'.format(y_train.shape))"
   ]
  },
  {
   "cell_type": "code",
   "execution_count": 14,
   "id": "0bcc3f4a-a7d7-4a74-bff3-c00330377282",
   "metadata": {},
   "outputs": [],
   "source": [
    "#define model and fit oversampled training sets\n",
    "rf = RandomForestClassifier(random_state=random_seed, max_features=\"sqrt\", n_estimators=500, oob_score=True, criterion='gini', bootstrap=True).fit(X_train, y_train.ravel())"
   ]
  },
  {
   "cell_type": "code",
   "execution_count": 15,
   "id": "6219e679-4f5b-43e3-a3ec-cd7634c66a6f",
   "metadata": {},
   "outputs": [],
   "source": [
    "kappa_scorer=make_scorer(cohen_kappa_score)"
   ]
  },
  {
   "cell_type": "code",
   "execution_count": 16,
   "id": "93ce3682-9861-4aaa-a3fe-5be2277c28ba",
   "metadata": {},
   "outputs": [],
   "source": [
    "pipeline=imbpipeline(sm, rf)"
   ]
  },
  {
   "cell_type": "code",
   "execution_count": 17,
   "id": "54062819-a061-4916-8c23-707ac3f3508e",
   "metadata": {},
   "outputs": [],
   "source": [
    "#predict test set from training split\n",
    "y_pred = pipeline.predict(X_test)\n",
    "cr=(classification_report(y_test,y_pred, output_dict=True))\n",
    "report=pd.DataFrame(cr).transpose()\n",
    "report\n",
    "cr=(classification_report(y_test,y_pred, output_dict=True))\n",
    "ck=(cohen_kappa_score(y_test, y_pred))\n",
    "ba=(balanced_accuracy_score(y_test, y_pred))\n",
    "report=pd.DataFrame(cr).transpose()\n",
    "report['Cohen Kappa']=ck\n",
    "report['Balanced Accuracy']=ba"
   ]
  },
  {
   "cell_type": "code",
   "execution_count": 18,
   "id": "cc15300a-b81d-460d-89cd-829af993d7b8",
   "metadata": {},
   "outputs": [],
   "source": [
    "report['Trained on']='fruit tools music furn '\n",
    "report['Tested on']='garments'"
   ]
  },
  {
   "cell_type": "code",
   "execution_count": 19,
   "id": "a59b96cd-c921-4a08-9f61-42a4eb969a9c",
   "metadata": {},
   "outputs": [
    {
     "data": {
      "text/html": [
       "<div>\n",
       "<style scoped>\n",
       "    .dataframe tbody tr th:only-of-type {\n",
       "        vertical-align: middle;\n",
       "    }\n",
       "\n",
       "    .dataframe tbody tr th {\n",
       "        vertical-align: top;\n",
       "    }\n",
       "\n",
       "    .dataframe thead th {\n",
       "        text-align: right;\n",
       "    }\n",
       "</style>\n",
       "<table border=\"1\" class=\"dataframe\">\n",
       "  <thead>\n",
       "    <tr style=\"text-align: right;\">\n",
       "      <th></th>\n",
       "      <th>precision</th>\n",
       "      <th>recall</th>\n",
       "      <th>f1-score</th>\n",
       "      <th>support</th>\n",
       "      <th>Cohen Kappa</th>\n",
       "      <th>Balanced Accuracy</th>\n",
       "      <th>Trained on</th>\n",
       "      <th>Tested on</th>\n",
       "    </tr>\n",
       "  </thead>\n",
       "  <tbody>\n",
       "    <tr>\n",
       "      <th>b</th>\n",
       "      <td>0.757576</td>\n",
       "      <td>0.531915</td>\n",
       "      <td>0.625000</td>\n",
       "      <td>47.000000</td>\n",
       "      <td>0.458298</td>\n",
       "      <td>0.715325</td>\n",
       "      <td>fruit tools music furn</td>\n",
       "      <td>garments</td>\n",
       "    </tr>\n",
       "    <tr>\n",
       "      <th>nb</th>\n",
       "      <td>0.763441</td>\n",
       "      <td>0.898734</td>\n",
       "      <td>0.825581</td>\n",
       "      <td>79.000000</td>\n",
       "      <td>0.458298</td>\n",
       "      <td>0.715325</td>\n",
       "      <td>fruit tools music furn</td>\n",
       "      <td>garments</td>\n",
       "    </tr>\n",
       "    <tr>\n",
       "      <th>accuracy</th>\n",
       "      <td>0.761905</td>\n",
       "      <td>0.761905</td>\n",
       "      <td>0.761905</td>\n",
       "      <td>0.761905</td>\n",
       "      <td>0.458298</td>\n",
       "      <td>0.715325</td>\n",
       "      <td>fruit tools music furn</td>\n",
       "      <td>garments</td>\n",
       "    </tr>\n",
       "    <tr>\n",
       "      <th>macro avg</th>\n",
       "      <td>0.760508</td>\n",
       "      <td>0.715325</td>\n",
       "      <td>0.725291</td>\n",
       "      <td>126.000000</td>\n",
       "      <td>0.458298</td>\n",
       "      <td>0.715325</td>\n",
       "      <td>fruit tools music furn</td>\n",
       "      <td>garments</td>\n",
       "    </tr>\n",
       "    <tr>\n",
       "      <th>weighted avg</th>\n",
       "      <td>0.761253</td>\n",
       "      <td>0.761905</td>\n",
       "      <td>0.750761</td>\n",
       "      <td>126.000000</td>\n",
       "      <td>0.458298</td>\n",
       "      <td>0.715325</td>\n",
       "      <td>fruit tools music furn</td>\n",
       "      <td>garments</td>\n",
       "    </tr>\n",
       "  </tbody>\n",
       "</table>\n",
       "</div>"
      ],
      "text/plain": [
       "              precision    recall  f1-score     support  Cohen Kappa  \\\n",
       "b              0.757576  0.531915  0.625000   47.000000     0.458298   \n",
       "nb             0.763441  0.898734  0.825581   79.000000     0.458298   \n",
       "accuracy       0.761905  0.761905  0.761905    0.761905     0.458298   \n",
       "macro avg      0.760508  0.715325  0.725291  126.000000     0.458298   \n",
       "weighted avg   0.761253  0.761905  0.750761  126.000000     0.458298   \n",
       "\n",
       "              Balanced Accuracy               Trained on Tested on  \n",
       "b                      0.715325  fruit tools music furn   garments  \n",
       "nb                     0.715325  fruit tools music furn   garments  \n",
       "accuracy               0.715325  fruit tools music furn   garments  \n",
       "macro avg              0.715325  fruit tools music furn   garments  \n",
       "weighted avg           0.715325  fruit tools music furn   garments  "
      ]
     },
     "execution_count": 19,
     "metadata": {},
     "output_type": "execute_result"
    }
   ],
   "source": [
    "report"
   ]
  },
  {
   "cell_type": "code",
   "execution_count": 20,
   "id": "e4837cea-f74a-412e-adb6-21d99583faf4",
   "metadata": {},
   "outputs": [
    {
     "name": "stdout",
     "output_type": "stream",
     "text": [
      "Feature: 0, Score: 0.10529\n",
      "Feature: 1, Score: 0.05429\n",
      "Feature: 2, Score: 0.08980\n",
      "Feature: 3, Score: 0.12985\n",
      "Feature: 4, Score: 0.34303\n",
      "Feature: 5, Score: 0.07330\n",
      "Feature: 6, Score: 0.07650\n",
      "Feature: 7, Score: 0.03615\n",
      "Feature: 8, Score: 0.09180\n"
     ]
    },
    {
     "data": {
      "image/png": "[encoded data removed]",
      "text/plain": [
       "<Figure size 432x288 with 1 Axes>"
      ]
     },
     "metadata": {
      "needs_background": "light"
     },
     "output_type": "display_data"
    }
   ],
   "source": [
    "# get feature importance\n",
    "importance = rf.feature_importances_\n",
    "# summarize feature importance\n",
    "for i,v in enumerate(importance):\n",
    "\tprint('Feature: %0d, Score: %.5f' % (i,v))\n",
    "# plot feature importance\n",
    "fig1=plt.figure()\n",
    "a=plt.bar([x for x in range(len(importance))], importance)\n",
    "#plt.savefig('ck/feature_importance_global.png')\n",
    "plt.show()"
   ]
  },
  {
   "cell_type": "code",
   "execution_count": null,
   "id": "10a3b0bb-d554-46ea-aa51-8174a8d2f3e9",
   "metadata": {},
   "outputs": [],
   "source": []
  },
  {
   "cell_type": "code",
   "execution_count": 21,
   "id": "459a72a3-e022-48a7-823f-4dfcb5dc52fe",
   "metadata": {},
   "outputs": [],
   "source": [
    "imp=[]\n",
    "for i,v in enumerate(importance):\n",
    "    imp.append(v)"
   ]
  },
  {
   "cell_type": "code",
   "execution_count": 22,
   "id": "0a07d0b2-4bb2-49cc-839f-cb149139b7b5",
   "metadata": {},
   "outputs": [],
   "source": [
    "df4=pd.DataFrame(imp)\n",
    "df4['Features']=features\n",
    "df4=df4.rename(columns={0:'Importance'})"
   ]
  },
  {
   "cell_type": "code",
   "execution_count": 23,
   "id": "b7bd70eb-adf2-4f8a-87b7-8ccff6c52839",
   "metadata": {},
   "outputs": [],
   "source": [
    "df5=df4[['Features', 'Importance']].sort_values('Importance',ascending=False)"
   ]
  },
  {
   "cell_type": "code",
   "execution_count": 24,
   "id": "2f2a84e6-3a17-4dea-b6ea-f92008aa5c74",
   "metadata": {},
   "outputs": [],
   "source": [
    "df5=df5.rename(columns={'index':'Rank'})"
   ]
  },
  {
   "cell_type": "code",
   "execution_count": 25,
   "id": "4c9ad61a-d3b5-45c9-8cf2-22bf2574aaa5",
   "metadata": {},
   "outputs": [
    {
     "data": {
      "text/html": [
       "<div>\n",
       "<style scoped>\n",
       "    .dataframe tbody tr th:only-of-type {\n",
       "        vertical-align: middle;\n",
       "    }\n",
       "\n",
       "    .dataframe tbody tr th {\n",
       "        vertical-align: top;\n",
       "    }\n",
       "\n",
       "    .dataframe thead th {\n",
       "        text-align: right;\n",
       "    }\n",
       "</style>\n",
       "<table border=\"1\" class=\"dataframe\">\n",
       "  <thead>\n",
       "    <tr style=\"text-align: right;\">\n",
       "      <th></th>\n",
       "      <th>Features</th>\n",
       "      <th>Importance</th>\n",
       "    </tr>\n",
       "  </thead>\n",
       "  <tbody>\n",
       "    <tr>\n",
       "      <th>4</th>\n",
       "      <td>depthfromtopsynset_normalised_x</td>\n",
       "      <td>0.383671</td>\n",
       "    </tr>\n",
       "    <tr>\n",
       "      <th>5</th>\n",
       "      <td>glosslength_normalised_x</td>\n",
       "      <td>0.132467</td>\n",
       "    </tr>\n",
       "    <tr>\n",
       "      <th>6</th>\n",
       "      <td>minwordlength_x</td>\n",
       "      <td>0.100596</td>\n",
       "    </tr>\n",
       "    <tr>\n",
       "      <th>0</th>\n",
       "      <td>ngrams_last_mean</td>\n",
       "      <td>0.097223</td>\n",
       "    </tr>\n",
       "    <tr>\n",
       "      <th>8</th>\n",
       "      <td>polyscore_max_x</td>\n",
       "      <td>0.081434</td>\n",
       "    </tr>\n",
       "    <tr>\n",
       "      <th>1</th>\n",
       "      <td>dir_hypers_normalised</td>\n",
       "      <td>0.070928</td>\n",
       "    </tr>\n",
       "    <tr>\n",
       "      <th>3</th>\n",
       "      <td>nrpartrels_normalised_x</td>\n",
       "      <td>0.058471</td>\n",
       "    </tr>\n",
       "    <tr>\n",
       "      <th>2</th>\n",
       "      <td>hypos_normalised</td>\n",
       "      <td>0.042715</td>\n",
       "    </tr>\n",
       "    <tr>\n",
       "      <th>7</th>\n",
       "      <td>nroflemmas_x</td>\n",
       "      <td>0.032496</td>\n",
       "    </tr>\n",
       "  </tbody>\n",
       "</table>\n",
       "</div>"
      ],
      "text/plain": [
       "                          Features  Importance\n",
       "4  depthfromtopsynset_normalised_x    0.383671\n",
       "5         glosslength_normalised_x    0.132467\n",
       "6                  minwordlength_x    0.100596\n",
       "0                 ngrams_last_mean    0.097223\n",
       "8                  polyscore_max_x    0.081434\n",
       "1            dir_hypers_normalised    0.070928\n",
       "3          nrpartrels_normalised_x    0.058471\n",
       "2                 hypos_normalised    0.042715\n",
       "7                     nroflemmas_x    0.032496"
      ]
     },
     "execution_count": 25,
     "metadata": {},
     "output_type": "execute_result"
    }
   ],
   "source": [
    "df5"
   ]
  },
  {
   "cell_type": "code",
   "execution_count": 26,
   "id": "825ae8ad-9927-4bfe-9e2d-959a0002662d",
   "metadata": {},
   "outputs": [],
   "source": [
    "report.to_csv('results/ex1/CR_fruit_unseen_AA.csv')"
   ]
  },
  {
   "cell_type": "code",
   "execution_count": 27,
   "id": "c0a2459e-643e-4b04-a1b2-76ac901248cc",
   "metadata": {},
   "outputs": [],
   "source": [
    "df5.to_csv('results/ex1/FI_fruit_unseen_AA.csv')"
   ]
  },
  {
   "cell_type": "code",
   "execution_count": null,
   "id": "5ed01ec1-d627-4be5-9b70-06b4c7bdae14",
   "metadata": {},
   "outputs": [],
   "source": []
  },
  {
   "cell_type": "code",
   "execution_count": null,
   "id": "86346e74-67a3-4e43-a4a9-106b50124964",
   "metadata": {},
   "outputs": [],
   "source": []
  }
 ],
 "metadata": {
  "kernelspec": {
   "display_name": "Python 3",
   "language": "python",
   "name": "python3"
  },
  "language_info": {
   "codemirror_mode": {
    "name": "ipython",
    "version": 3
   },
   "file_extension": ".py",
   "mimetype": "text/x-python",
   "name": "python",
   "nbconvert_exporter": "python",
   "pygments_lexer": "ipython3",
   "version": "3.8.8"
  }
 },
 "nbformat": 4,
 "nbformat_minor": 5
}
