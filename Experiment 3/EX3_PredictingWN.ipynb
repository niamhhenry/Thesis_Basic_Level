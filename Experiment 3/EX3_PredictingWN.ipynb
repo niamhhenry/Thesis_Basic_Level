{
 "cells": [
  {
   "cell_type": "code",
   "execution_count": 1,
   "id": "ca099293-1248-4808-8f4d-ba9c88653272",
   "metadata": {},
   "outputs": [],
   "source": [
    "import pandas as pd\n",
    "import numpy as np\n",
    "from numpy import mean, std, median\n",
    "from sklearn.model_selection import KFold\n",
    "from sklearn.model_selection import cross_val_score,  train_test_split, RepeatedStratifiedKFold, GridSearchCV\n",
    "from sklearn.ensemble import RandomForestClassifier\n",
    "from sklearn.metrics import balanced_accuracy_score, make_scorer, classification_report, recall_score,r2_score, accuracy_score, cohen_kappa_score, classification_report, confusion_matrix, precision_score,f1_score \n",
    "from sklearn.model_selection import cross_validate, cross_val_predict, cross_val_score, KFold, StratifiedKFold \n",
    "from imblearn.pipeline import Pipeline \n",
    "from imblearn.pipeline import make_pipeline as imbpipeline\n",
    "from sklearn.pipeline import make_pipeline\n",
    "from imblearn.over_sampling import SMOTE, ADASYN\n",
    "import scikitplot as skplt\n",
    "from sklearn.preprocessing import StandardScaler, MinMaxScaler\n",
    "import matplotlib.pyplot as plt"
   ]
  },
  {
   "cell_type": "code",
   "execution_count": 2,
   "id": "048636cb-020a-49ae-a2c7-81e2e5647d90",
   "metadata": {},
   "outputs": [],
   "source": [
    "#Random seed used in R was 7\n",
    "random_seed=7"
   ]
  },
  {
   "cell_type": "code",
   "execution_count": 3,
   "id": "2585981b-20e0-4522-bd8a-df99b67fa755",
   "metadata": {},
   "outputs": [],
   "source": [
    "#read input data\n",
    "train_data=pd.read_csv('training_data_final.csv')\n",
    "test_data=pd.read_csv('test_data_final.csv')"
   ]
  },
  {
   "cell_type": "code",
   "execution_count": 4,
   "id": "ebc75a27-affa-46ca-91bc-ecee7f7a1364",
   "metadata": {},
   "outputs": [],
   "source": [
    "#set features and target variable \n",
    "features=[ \n",
    "    'ngrams_last_mean',\n",
    "    'minwordlength',\n",
    "    'nroflemmas',\n",
    "    'polyscore_max',\n",
    "    'nrpartrels_normalised',\n",
    "    'nrhypos',\n",
    "    'glosslength_normalised',\n",
    "    'depthfromtopsynset_normalised',\n",
    "    'nrdirhypers', \n",
    " ]\n",
    "target=['vote']"
   ]
  },
  {
   "cell_type": "code",
   "execution_count": 5,
   "id": "31c0b849-b6a7-465e-9c61-f8c05b8dff84",
   "metadata": {
    "tags": []
   },
   "outputs": [],
   "source": [
    "X_train=np.array(train_data[features])\n",
    "y_train= np.array(train_data[target])\n",
    "test_set=np.array(test_data[features])"
   ]
  },
  {
   "cell_type": "code",
   "execution_count": 6,
   "id": "f22dfeb5-3f17-4075-8719-06965d775f12",
   "metadata": {
    "tags": []
   },
   "outputs": [
    {
     "name": "stdout",
     "output_type": "stream",
     "text": [
      "Shape of oversampled data: (1384, 9)\n",
      "Shape of Y: (1384,)\n"
     ]
    }
   ],
   "source": [
    "#run SMOTE algorithm to deal with class imbalances - make basic class same amount as non-basic\n",
    "sm = SMOTE(random_state=random_seed, k_neighbors=2)\n",
    "X_train, y_train = sm.fit_resample(X_train, y_train)\n",
    "print ('Shape of oversampled data: {}'.format(X_train.shape))\n",
    "print ('Shape of Y: {}'.format(y_train.shape))"
   ]
  },
  {
   "cell_type": "code",
   "execution_count": 7,
   "id": "0bcc3f4a-a7d7-4a74-bff3-c00330377282",
   "metadata": {},
   "outputs": [],
   "source": [
    "#define model and fit oversampled training sets\n",
    "rf = RandomForestClassifier(random_state=random_seed, max_features='sqrt', n_estimators=1400, oob_score=True, criterion='gini', bootstrap=True).fit(X_train, y_train.ravel())"
   ]
  },
  {
   "cell_type": "code",
   "execution_count": 8,
   "id": "e8cf27fb-9adb-48a6-bd82-0e5b1ae9c2ff",
   "metadata": {},
   "outputs": [],
   "source": [
    "y_pred = rf.predict(test_set)"
   ]
  },
  {
   "cell_type": "code",
   "execution_count": 9,
   "id": "d26fa53f-a5ff-422a-bdba-b26a2e0fd4df",
   "metadata": {},
   "outputs": [
    {
     "name": "stdout",
     "output_type": "stream",
     "text": [
      "['nb' 'nb' 'nb' ... 'nb' 'nb' 'nb']\n"
     ]
    }
   ],
   "source": [
    "print(y_pred)"
   ]
  },
  {
   "cell_type": "code",
   "execution_count": 10,
   "id": "00ee8714-f097-4c8d-a4be-940319ae145e",
   "metadata": {},
   "outputs": [],
   "source": [
    "results=pd.read_csv('results_syns_list.csv')"
   ]
  },
  {
   "cell_type": "code",
   "execution_count": 11,
   "id": "22054027-8c4a-46bc-a612-6bd7de2f85cc",
   "metadata": {},
   "outputs": [
    {
     "data": {
      "text/plain": [
       "74374"
      ]
     },
     "execution_count": 11,
     "metadata": {},
     "output_type": "execute_result"
    }
   ],
   "source": [
    "len(results)"
   ]
  },
  {
   "cell_type": "code",
   "execution_count": 12,
   "id": "62ba3a9c-3a0d-4516-bf2a-0f74e2813866",
   "metadata": {},
   "outputs": [],
   "source": [
    "res=pd.DataFrame(y_pred)"
   ]
  },
  {
   "cell_type": "code",
   "execution_count": 13,
   "id": "d774e430-e27e-4146-8b02-ed7fc6c1a35f",
   "metadata": {},
   "outputs": [
    {
     "data": {
      "text/html": [
       "<div>\n",
       "<style scoped>\n",
       "    .dataframe tbody tr th:only-of-type {\n",
       "        vertical-align: middle;\n",
       "    }\n",
       "\n",
       "    .dataframe tbody tr th {\n",
       "        vertical-align: top;\n",
       "    }\n",
       "\n",
       "    .dataframe thead th {\n",
       "        text-align: right;\n",
       "    }\n",
       "</style>\n",
       "<table border=\"1\" class=\"dataframe\">\n",
       "  <thead>\n",
       "    <tr style=\"text-align: right;\">\n",
       "      <th></th>\n",
       "      <th>0</th>\n",
       "    </tr>\n",
       "  </thead>\n",
       "  <tbody>\n",
       "    <tr>\n",
       "      <th>0</th>\n",
       "      <td>nb</td>\n",
       "    </tr>\n",
       "    <tr>\n",
       "      <th>1</th>\n",
       "      <td>nb</td>\n",
       "    </tr>\n",
       "    <tr>\n",
       "      <th>2</th>\n",
       "      <td>nb</td>\n",
       "    </tr>\n",
       "    <tr>\n",
       "      <th>3</th>\n",
       "      <td>nb</td>\n",
       "    </tr>\n",
       "    <tr>\n",
       "      <th>4</th>\n",
       "      <td>nb</td>\n",
       "    </tr>\n",
       "    <tr>\n",
       "      <th>...</th>\n",
       "      <td>...</td>\n",
       "    </tr>\n",
       "    <tr>\n",
       "      <th>74369</th>\n",
       "      <td>nb</td>\n",
       "    </tr>\n",
       "    <tr>\n",
       "      <th>74370</th>\n",
       "      <td>nb</td>\n",
       "    </tr>\n",
       "    <tr>\n",
       "      <th>74371</th>\n",
       "      <td>nb</td>\n",
       "    </tr>\n",
       "    <tr>\n",
       "      <th>74372</th>\n",
       "      <td>nb</td>\n",
       "    </tr>\n",
       "    <tr>\n",
       "      <th>74373</th>\n",
       "      <td>nb</td>\n",
       "    </tr>\n",
       "  </tbody>\n",
       "</table>\n",
       "<p>74374 rows × 1 columns</p>\n",
       "</div>"
      ],
      "text/plain": [
       "        0\n",
       "0      nb\n",
       "1      nb\n",
       "2      nb\n",
       "3      nb\n",
       "4      nb\n",
       "...    ..\n",
       "74369  nb\n",
       "74370  nb\n",
       "74371  nb\n",
       "74372  nb\n",
       "74373  nb\n",
       "\n",
       "[74374 rows x 1 columns]"
      ]
     },
     "execution_count": 13,
     "metadata": {},
     "output_type": "execute_result"
    }
   ],
   "source": [
    "res"
   ]
  },
  {
   "cell_type": "code",
   "execution_count": 14,
   "id": "861d1652-7d5a-4a84-a88f-66cd66edf84a",
   "metadata": {},
   "outputs": [],
   "source": [
    "results['Predicted']=res[0]"
   ]
  },
  {
   "cell_type": "code",
   "execution_count": 15,
   "id": "67d40fb1-fae5-4f36-9ada-7c41db6465aa",
   "metadata": {},
   "outputs": [
    {
     "data": {
      "text/html": [
       "<div>\n",
       "<style scoped>\n",
       "    .dataframe tbody tr th:only-of-type {\n",
       "        vertical-align: middle;\n",
       "    }\n",
       "\n",
       "    .dataframe tbody tr th {\n",
       "        vertical-align: top;\n",
       "    }\n",
       "\n",
       "    .dataframe thead th {\n",
       "        text-align: right;\n",
       "    }\n",
       "</style>\n",
       "<table border=\"1\" class=\"dataframe\">\n",
       "  <thead>\n",
       "    <tr style=\"text-align: right;\">\n",
       "      <th></th>\n",
       "      <th>Unnamed: 0</th>\n",
       "      <th>Synset</th>\n",
       "      <th>Name</th>\n",
       "      <th>Predicted</th>\n",
       "    </tr>\n",
       "  </thead>\n",
       "  <tbody>\n",
       "    <tr>\n",
       "      <th>0</th>\n",
       "      <td>0</td>\n",
       "      <td>Synset('abstraction.n.06')</td>\n",
       "      <td>abstraction.n.06</td>\n",
       "      <td>nb</td>\n",
       "    </tr>\n",
       "    <tr>\n",
       "      <th>1</th>\n",
       "      <td>1</td>\n",
       "      <td>Synset('physical_entity.n.01')</td>\n",
       "      <td>physical_entity.n.01</td>\n",
       "      <td>nb</td>\n",
       "    </tr>\n",
       "    <tr>\n",
       "      <th>2</th>\n",
       "      <td>2</td>\n",
       "      <td>Synset('thing.n.08')</td>\n",
       "      <td>thing.n.08</td>\n",
       "      <td>nb</td>\n",
       "    </tr>\n",
       "    <tr>\n",
       "      <th>3</th>\n",
       "      <td>3</td>\n",
       "      <td>Synset('attribute.n.02')</td>\n",
       "      <td>attribute.n.02</td>\n",
       "      <td>nb</td>\n",
       "    </tr>\n",
       "    <tr>\n",
       "      <th>4</th>\n",
       "      <td>4</td>\n",
       "      <td>Synset('communication.n.02')</td>\n",
       "      <td>communication.n.02</td>\n",
       "      <td>nb</td>\n",
       "    </tr>\n",
       "    <tr>\n",
       "      <th>...</th>\n",
       "      <td>...</td>\n",
       "      <td>...</td>\n",
       "      <td>...</td>\n",
       "      <td>...</td>\n",
       "    </tr>\n",
       "    <tr>\n",
       "      <th>74369</th>\n",
       "      <td>74369</td>\n",
       "      <td>Synset('milking_shorthorn.n.01')</td>\n",
       "      <td>milking_shorthorn.n.01</td>\n",
       "      <td>nb</td>\n",
       "    </tr>\n",
       "    <tr>\n",
       "      <th>74370</th>\n",
       "      <td>74370</td>\n",
       "      <td>Synset('gaur.n.01')</td>\n",
       "      <td>gaur.n.01</td>\n",
       "      <td>nb</td>\n",
       "    </tr>\n",
       "    <tr>\n",
       "      <th>74371</th>\n",
       "      <td>74371</td>\n",
       "      <td>Synset('gayal.n.01')</td>\n",
       "      <td>gayal.n.01</td>\n",
       "      <td>nb</td>\n",
       "    </tr>\n",
       "    <tr>\n",
       "      <th>74372</th>\n",
       "      <td>74372</td>\n",
       "      <td>Synset('bucking_bronco.n.01')</td>\n",
       "      <td>bucking_bronco.n.01</td>\n",
       "      <td>nb</td>\n",
       "    </tr>\n",
       "    <tr>\n",
       "      <th>74373</th>\n",
       "      <td>74373</td>\n",
       "      <td>Synset('entity.n.01')</td>\n",
       "      <td>entity.n.01</td>\n",
       "      <td>nb</td>\n",
       "    </tr>\n",
       "  </tbody>\n",
       "</table>\n",
       "<p>74374 rows × 4 columns</p>\n",
       "</div>"
      ],
      "text/plain": [
       "       Unnamed: 0                            Synset                    Name  \\\n",
       "0               0        Synset('abstraction.n.06')        abstraction.n.06   \n",
       "1               1    Synset('physical_entity.n.01')    physical_entity.n.01   \n",
       "2               2              Synset('thing.n.08')              thing.n.08   \n",
       "3               3          Synset('attribute.n.02')          attribute.n.02   \n",
       "4               4      Synset('communication.n.02')      communication.n.02   \n",
       "...           ...                               ...                     ...   \n",
       "74369       74369  Synset('milking_shorthorn.n.01')  milking_shorthorn.n.01   \n",
       "74370       74370               Synset('gaur.n.01')               gaur.n.01   \n",
       "74371       74371              Synset('gayal.n.01')              gayal.n.01   \n",
       "74372       74372     Synset('bucking_bronco.n.01')     bucking_bronco.n.01   \n",
       "74373       74373             Synset('entity.n.01')             entity.n.01   \n",
       "\n",
       "      Predicted  \n",
       "0            nb  \n",
       "1            nb  \n",
       "2            nb  \n",
       "3            nb  \n",
       "4            nb  \n",
       "...         ...  \n",
       "74369        nb  \n",
       "74370        nb  \n",
       "74371        nb  \n",
       "74372        nb  \n",
       "74373        nb  \n",
       "\n",
       "[74374 rows x 4 columns]"
      ]
     },
     "execution_count": 15,
     "metadata": {},
     "output_type": "execute_result"
    }
   ],
   "source": [
    "results"
   ]
  },
  {
   "cell_type": "code",
   "execution_count": 16,
   "id": "c10cfddd-51cb-4146-ae80-1e91d5dc2e0b",
   "metadata": {},
   "outputs": [],
   "source": [
    "results.to_csv('EX3/predicted_results_ngrams.csv')"
   ]
  },
  {
   "cell_type": "code",
   "execution_count": 17,
   "id": "93d1615c-c8de-4b14-9878-2a2f496a75c4",
   "metadata": {},
   "outputs": [],
   "source": [
    "basic=results[results['Predicted']=='b']"
   ]
  },
  {
   "cell_type": "code",
   "execution_count": 18,
   "id": "5f804e1c-aa73-4cfe-a7c4-f5c84573fe94",
   "metadata": {},
   "outputs": [
    {
     "data": {
      "text/html": [
       "<div>\n",
       "<style scoped>\n",
       "    .dataframe tbody tr th:only-of-type {\n",
       "        vertical-align: middle;\n",
       "    }\n",
       "\n",
       "    .dataframe tbody tr th {\n",
       "        vertical-align: top;\n",
       "    }\n",
       "\n",
       "    .dataframe thead th {\n",
       "        text-align: right;\n",
       "    }\n",
       "</style>\n",
       "<table border=\"1\" class=\"dataframe\">\n",
       "  <thead>\n",
       "    <tr style=\"text-align: right;\">\n",
       "      <th></th>\n",
       "      <th>Unnamed: 0</th>\n",
       "      <th>Synset</th>\n",
       "      <th>Name</th>\n",
       "      <th>Predicted</th>\n",
       "    </tr>\n",
       "  </thead>\n",
       "  <tbody>\n",
       "    <tr>\n",
       "      <th>30</th>\n",
       "      <td>30</td>\n",
       "      <td>Synset('eidos.n.01')</td>\n",
       "      <td>eidos.n.01</td>\n",
       "      <td>b</td>\n",
       "    </tr>\n",
       "    <tr>\n",
       "      <th>34</th>\n",
       "      <td>34</td>\n",
       "      <td>Synset('personality.n.01')</td>\n",
       "      <td>personality.n.01</td>\n",
       "      <td>b</td>\n",
       "    </tr>\n",
       "    <tr>\n",
       "      <th>80</th>\n",
       "      <td>80</td>\n",
       "      <td>Synset('rare_earth.n.01')</td>\n",
       "      <td>rare_earth.n.01</td>\n",
       "      <td>b</td>\n",
       "    </tr>\n",
       "    <tr>\n",
       "      <th>88</th>\n",
       "      <td>88</td>\n",
       "      <td>Synset('varna.n.02')</td>\n",
       "      <td>varna.n.02</td>\n",
       "      <td>b</td>\n",
       "    </tr>\n",
       "    <tr>\n",
       "      <th>96</th>\n",
       "      <td>96</td>\n",
       "      <td>Synset('playing_period.n.01')</td>\n",
       "      <td>playing_period.n.01</td>\n",
       "      <td>b</td>\n",
       "    </tr>\n",
       "    <tr>\n",
       "      <th>...</th>\n",
       "      <td>...</td>\n",
       "      <td>...</td>\n",
       "      <td>...</td>\n",
       "      <td>...</td>\n",
       "    </tr>\n",
       "    <tr>\n",
       "      <th>74098</th>\n",
       "      <td>74098</td>\n",
       "      <td>Synset('ox.n.02')</td>\n",
       "      <td>ox.n.02</td>\n",
       "      <td>b</td>\n",
       "    </tr>\n",
       "    <tr>\n",
       "      <th>74104</th>\n",
       "      <td>74104</td>\n",
       "      <td>Synset('chamois.n.02')</td>\n",
       "      <td>chamois.n.02</td>\n",
       "      <td>b</td>\n",
       "    </tr>\n",
       "    <tr>\n",
       "      <th>74108</th>\n",
       "      <td>74108</td>\n",
       "      <td>Synset('takin.n.01')</td>\n",
       "      <td>takin.n.01</td>\n",
       "      <td>b</td>\n",
       "    </tr>\n",
       "    <tr>\n",
       "      <th>74140</th>\n",
       "      <td>74140</td>\n",
       "      <td>Synset('mustang.n.01')</td>\n",
       "      <td>mustang.n.01</td>\n",
       "      <td>b</td>\n",
       "    </tr>\n",
       "    <tr>\n",
       "      <th>74298</th>\n",
       "      <td>74298</td>\n",
       "      <td>Synset('bull.n.01')</td>\n",
       "      <td>bull.n.01</td>\n",
       "      <td>b</td>\n",
       "    </tr>\n",
       "  </tbody>\n",
       "</table>\n",
       "<p>15401 rows × 4 columns</p>\n",
       "</div>"
      ],
      "text/plain": [
       "       Unnamed: 0                         Synset                 Name  \\\n",
       "30             30           Synset('eidos.n.01')           eidos.n.01   \n",
       "34             34     Synset('personality.n.01')     personality.n.01   \n",
       "80             80      Synset('rare_earth.n.01')      rare_earth.n.01   \n",
       "88             88           Synset('varna.n.02')           varna.n.02   \n",
       "96             96  Synset('playing_period.n.01')  playing_period.n.01   \n",
       "...           ...                            ...                  ...   \n",
       "74098       74098              Synset('ox.n.02')              ox.n.02   \n",
       "74104       74104         Synset('chamois.n.02')         chamois.n.02   \n",
       "74108       74108           Synset('takin.n.01')           takin.n.01   \n",
       "74140       74140         Synset('mustang.n.01')         mustang.n.01   \n",
       "74298       74298            Synset('bull.n.01')            bull.n.01   \n",
       "\n",
       "      Predicted  \n",
       "30            b  \n",
       "34            b  \n",
       "80            b  \n",
       "88            b  \n",
       "96            b  \n",
       "...         ...  \n",
       "74098         b  \n",
       "74104         b  \n",
       "74108         b  \n",
       "74140         b  \n",
       "74298         b  \n",
       "\n",
       "[15401 rows x 4 columns]"
      ]
     },
     "execution_count": 18,
     "metadata": {},
     "output_type": "execute_result"
    }
   ],
   "source": [
    "basic"
   ]
  },
  {
   "cell_type": "code",
   "execution_count": 19,
   "id": "b7a31491-75f9-4353-9172-79f11c939c2f",
   "metadata": {},
   "outputs": [],
   "source": [
    "basic.to_csv('EX3/predicted_basic_level_ngrams.csv')"
   ]
  },
  {
   "cell_type": "code",
   "execution_count": 20,
   "id": "e4837cea-f74a-412e-adb6-21d99583faf4",
   "metadata": {},
   "outputs": [
    {
     "name": "stdout",
     "output_type": "stream",
     "text": [
      "Feature: 0, Score: 0.13252\n",
      "Feature: 1, Score: 0.10969\n",
      "Feature: 2, Score: 0.04858\n",
      "Feature: 3, Score: 0.07174\n",
      "Feature: 4, Score: 0.06656\n",
      "Feature: 5, Score: 0.08348\n",
      "Feature: 6, Score: 0.13735\n",
      "Feature: 7, Score: 0.34124\n",
      "Feature: 8, Score: 0.00885\n"
     ]
    },
    {
     "data": {
      "image/png": "[encoded data removed]",
      "text/plain": [
       "<Figure size 432x288 with 1 Axes>"
      ]
     },
     "metadata": {
      "needs_background": "light"
     },
     "output_type": "display_data"
    }
   ],
   "source": [
    "# get feature importance\n",
    "importance = rf.feature_importances_\n",
    "# summarize feature importance\n",
    "for i,v in enumerate(importance):\n",
    "\tprint('Feature: %0d, Score: %.5f' % (i,v))\n",
    "# plot feature importance\n",
    "fig1=plt.figure()\n",
    "a=plt.bar([x for x in range(len(importance))], importance)\n",
    "#plt.savefig('ck/feature_importance_global.png')\n",
    "plt.show()"
   ]
  },
  {
   "cell_type": "code",
   "execution_count": 21,
   "id": "459a72a3-e022-48a7-823f-4dfcb5dc52fe",
   "metadata": {},
   "outputs": [],
   "source": [
    "imp=[]\n",
    "for i,v in enumerate(importance):\n",
    "    imp.append(v)"
   ]
  },
  {
   "cell_type": "code",
   "execution_count": 22,
   "id": "0a07d0b2-4bb2-49cc-839f-cb149139b7b5",
   "metadata": {},
   "outputs": [],
   "source": [
    "df4=pd.DataFrame(imp)\n",
    "df4['Features']=features\n",
    "df4=df4.rename(columns={0:'Importance'})"
   ]
  },
  {
   "cell_type": "code",
   "execution_count": 23,
   "id": "b7bd70eb-adf2-4f8a-87b7-8ccff6c52839",
   "metadata": {},
   "outputs": [],
   "source": [
    "df5=df4[['Features', 'Importance']].sort_values('Importance',ascending=False)"
   ]
  },
  {
   "cell_type": "code",
   "execution_count": 24,
   "id": "4c9ad61a-d3b5-45c9-8cf2-22bf2574aaa5",
   "metadata": {},
   "outputs": [
    {
     "data": {
      "text/html": [
       "<div>\n",
       "<style scoped>\n",
       "    .dataframe tbody tr th:only-of-type {\n",
       "        vertical-align: middle;\n",
       "    }\n",
       "\n",
       "    .dataframe tbody tr th {\n",
       "        vertical-align: top;\n",
       "    }\n",
       "\n",
       "    .dataframe thead th {\n",
       "        text-align: right;\n",
       "    }\n",
       "</style>\n",
       "<table border=\"1\" class=\"dataframe\">\n",
       "  <thead>\n",
       "    <tr style=\"text-align: right;\">\n",
       "      <th></th>\n",
       "      <th>Features</th>\n",
       "      <th>Importance</th>\n",
       "    </tr>\n",
       "  </thead>\n",
       "  <tbody>\n",
       "    <tr>\n",
       "      <th>7</th>\n",
       "      <td>depthfromtopsynset_normalised</td>\n",
       "      <td>0.341240</td>\n",
       "    </tr>\n",
       "    <tr>\n",
       "      <th>6</th>\n",
       "      <td>glosslength_normalised</td>\n",
       "      <td>0.137347</td>\n",
       "    </tr>\n",
       "    <tr>\n",
       "      <th>0</th>\n",
       "      <td>ngrams_last_mean</td>\n",
       "      <td>0.132521</td>\n",
       "    </tr>\n",
       "    <tr>\n",
       "      <th>1</th>\n",
       "      <td>minwordlength</td>\n",
       "      <td>0.109688</td>\n",
       "    </tr>\n",
       "    <tr>\n",
       "      <th>5</th>\n",
       "      <td>nrhypos</td>\n",
       "      <td>0.083475</td>\n",
       "    </tr>\n",
       "    <tr>\n",
       "      <th>3</th>\n",
       "      <td>polyscore_max</td>\n",
       "      <td>0.071739</td>\n",
       "    </tr>\n",
       "    <tr>\n",
       "      <th>4</th>\n",
       "      <td>nrpartrels_normalised</td>\n",
       "      <td>0.066558</td>\n",
       "    </tr>\n",
       "    <tr>\n",
       "      <th>2</th>\n",
       "      <td>nroflemmas</td>\n",
       "      <td>0.048582</td>\n",
       "    </tr>\n",
       "    <tr>\n",
       "      <th>8</th>\n",
       "      <td>nrdirhypers</td>\n",
       "      <td>0.008850</td>\n",
       "    </tr>\n",
       "  </tbody>\n",
       "</table>\n",
       "</div>"
      ],
      "text/plain": [
       "                        Features  Importance\n",
       "7  depthfromtopsynset_normalised    0.341240\n",
       "6         glosslength_normalised    0.137347\n",
       "0               ngrams_last_mean    0.132521\n",
       "1                  minwordlength    0.109688\n",
       "5                        nrhypos    0.083475\n",
       "3                  polyscore_max    0.071739\n",
       "4          nrpartrels_normalised    0.066558\n",
       "2                     nroflemmas    0.048582\n",
       "8                    nrdirhypers    0.008850"
      ]
     },
     "execution_count": 24,
     "metadata": {},
     "output_type": "execute_result"
    }
   ],
   "source": [
    "df5"
   ]
  },
  {
   "cell_type": "code",
   "execution_count": 25,
   "id": "c0a2459e-643e-4b04-a1b2-76ac901248cc",
   "metadata": {},
   "outputs": [],
   "source": [
    "df5.to_csv('EX3/FI_predict_entity_ngrams.csv')"
   ]
  },
  {
   "cell_type": "code",
   "execution_count": 26,
   "id": "147d4183-3538-4d5a-83d1-2d6c32cc2338",
   "metadata": {},
   "outputs": [],
   "source": [
    "res.to_csv('EX3/y_pred_results_ngrams.csv')"
   ]
  },
  {
   "cell_type": "code",
   "execution_count": 27,
   "id": "34c7a21f-9aca-4890-9c1b-74ab091020f0",
   "metadata": {},
   "outputs": [],
   "source": [
    "b=pd.read_csv('EX3/predicted_basic_level_ngrams.csv')"
   ]
  },
  {
   "cell_type": "code",
   "execution_count": 28,
   "id": "67737b53-2463-435d-9f5c-a2a210256a0f",
   "metadata": {},
   "outputs": [],
   "source": [
    "basic_syns=pd.DataFrame()"
   ]
  },
  {
   "cell_type": "code",
   "execution_count": 29,
   "id": "29b235ff-9712-483c-bb86-e1e11a33e74d",
   "metadata": {},
   "outputs": [],
   "source": [
    "basic_syns['Synset']=b['Synset']"
   ]
  },
  {
   "cell_type": "code",
   "execution_count": 30,
   "id": "08df56d0-b69b-469f-a9c1-d6d1fd9b2ac7",
   "metadata": {},
   "outputs": [],
   "source": [
    "basic_syns.to_csv('basiclevels.txt', header=None, index=None, sep='\\n')"
   ]
  },
  {
   "cell_type": "code",
   "execution_count": 34,
   "id": "dbd6540f-ad91-443a-9837-bc0595c1727b",
   "metadata": {},
   "outputs": [],
   "source": [
    "lauras_basic=pd.read_csv('lauras_basiclevels.csv', sep='\\t', header=None)"
   ]
  },
  {
   "cell_type": "code",
   "execution_count": null,
   "id": "426c4f4a-9726-4c61-9b72-65a6a3af8751",
   "metadata": {},
   "outputs": [],
   "source": []
  },
  {
   "cell_type": "code",
   "execution_count": 35,
   "id": "a68b9c7d-adf8-4ff5-9c7f-4245dee31e0c",
   "metadata": {},
   "outputs": [
    {
     "data": {
      "text/html": [
       "<div>\n",
       "<style scoped>\n",
       "    .dataframe tbody tr th:only-of-type {\n",
       "        vertical-align: middle;\n",
       "    }\n",
       "\n",
       "    .dataframe tbody tr th {\n",
       "        vertical-align: top;\n",
       "    }\n",
       "\n",
       "    .dataframe thead th {\n",
       "        text-align: right;\n",
       "    }\n",
       "</style>\n",
       "<table border=\"1\" class=\"dataframe\">\n",
       "  <thead>\n",
       "    <tr style=\"text-align: right;\">\n",
       "      <th></th>\n",
       "      <th>Unnamed: 0</th>\n",
       "      <th>Unnamed: 0.1</th>\n",
       "      <th>Synset</th>\n",
       "      <th>Name</th>\n",
       "      <th>Predicted</th>\n",
       "      <th>0</th>\n",
       "      <th>1</th>\n",
       "    </tr>\n",
       "  </thead>\n",
       "  <tbody>\n",
       "    <tr>\n",
       "      <th>0</th>\n",
       "      <td>34</td>\n",
       "      <td>34</td>\n",
       "      <td>Synset('personality.n.01')</td>\n",
       "      <td>personality.n.01</td>\n",
       "      <td>b</td>\n",
       "      <td>Synset('personality.n.01')</td>\n",
       "      <td>personality</td>\n",
       "    </tr>\n",
       "    <tr>\n",
       "      <th>1</th>\n",
       "      <td>88</td>\n",
       "      <td>88</td>\n",
       "      <td>Synset('varna.n.02')</td>\n",
       "      <td>varna.n.02</td>\n",
       "      <td>b</td>\n",
       "      <td>Synset('varna.n.02')</td>\n",
       "      <td>varna</td>\n",
       "    </tr>\n",
       "    <tr>\n",
       "      <th>2</th>\n",
       "      <td>107</td>\n",
       "      <td>107</td>\n",
       "      <td>Synset('volume.n.01')</td>\n",
       "      <td>volume.n.01</td>\n",
       "      <td>b</td>\n",
       "      <td>Synset('volume.n.01')</td>\n",
       "      <td>volume</td>\n",
       "    </tr>\n",
       "    <tr>\n",
       "      <th>3</th>\n",
       "      <td>138</td>\n",
       "      <td>138</td>\n",
       "      <td>Synset('diagonal.n.04')</td>\n",
       "      <td>diagonal.n.04</td>\n",
       "      <td>b</td>\n",
       "      <td>Synset('diagonal.n.04')</td>\n",
       "      <td>diagonal</td>\n",
       "    </tr>\n",
       "    <tr>\n",
       "      <th>4</th>\n",
       "      <td>391</td>\n",
       "      <td>391</td>\n",
       "      <td>Synset('nature.n.01')</td>\n",
       "      <td>nature.n.01</td>\n",
       "      <td>b</td>\n",
       "      <td>Synset('nature.n.01')</td>\n",
       "      <td>nature</td>\n",
       "    </tr>\n",
       "    <tr>\n",
       "      <th>...</th>\n",
       "      <td>...</td>\n",
       "      <td>...</td>\n",
       "      <td>...</td>\n",
       "      <td>...</td>\n",
       "      <td>...</td>\n",
       "      <td>...</td>\n",
       "      <td>...</td>\n",
       "    </tr>\n",
       "    <tr>\n",
       "      <th>4224</th>\n",
       "      <td>74097</td>\n",
       "      <td>74097</td>\n",
       "      <td>Synset('cattle.n.01')</td>\n",
       "      <td>cattle.n.01</td>\n",
       "      <td>b</td>\n",
       "      <td>Synset('cattle.n.01')</td>\n",
       "      <td>cattle</td>\n",
       "    </tr>\n",
       "    <tr>\n",
       "      <th>4225</th>\n",
       "      <td>74098</td>\n",
       "      <td>74098</td>\n",
       "      <td>Synset('ox.n.02')</td>\n",
       "      <td>ox.n.02</td>\n",
       "      <td>b</td>\n",
       "      <td>Synset('ox.n.02')</td>\n",
       "      <td>ox</td>\n",
       "    </tr>\n",
       "    <tr>\n",
       "      <th>4226</th>\n",
       "      <td>74104</td>\n",
       "      <td>74104</td>\n",
       "      <td>Synset('chamois.n.02')</td>\n",
       "      <td>chamois.n.02</td>\n",
       "      <td>b</td>\n",
       "      <td>Synset('chamois.n.02')</td>\n",
       "      <td>chamois</td>\n",
       "    </tr>\n",
       "    <tr>\n",
       "      <th>4227</th>\n",
       "      <td>74108</td>\n",
       "      <td>74108</td>\n",
       "      <td>Synset('takin.n.01')</td>\n",
       "      <td>takin.n.01</td>\n",
       "      <td>b</td>\n",
       "      <td>Synset('takin.n.01')</td>\n",
       "      <td>takin</td>\n",
       "    </tr>\n",
       "    <tr>\n",
       "      <th>4228</th>\n",
       "      <td>74298</td>\n",
       "      <td>74298</td>\n",
       "      <td>Synset('bull.n.01')</td>\n",
       "      <td>bull.n.01</td>\n",
       "      <td>b</td>\n",
       "      <td>Synset('bull.n.01')</td>\n",
       "      <td>bull</td>\n",
       "    </tr>\n",
       "  </tbody>\n",
       "</table>\n",
       "<p>4229 rows × 7 columns</p>\n",
       "</div>"
      ],
      "text/plain": [
       "      Unnamed: 0  Unnamed: 0.1                      Synset              Name  \\\n",
       "0             34            34  Synset('personality.n.01')  personality.n.01   \n",
       "1             88            88        Synset('varna.n.02')        varna.n.02   \n",
       "2            107           107       Synset('volume.n.01')       volume.n.01   \n",
       "3            138           138     Synset('diagonal.n.04')     diagonal.n.04   \n",
       "4            391           391       Synset('nature.n.01')       nature.n.01   \n",
       "...          ...           ...                         ...               ...   \n",
       "4224       74097         74097       Synset('cattle.n.01')       cattle.n.01   \n",
       "4225       74098         74098           Synset('ox.n.02')           ox.n.02   \n",
       "4226       74104         74104      Synset('chamois.n.02')      chamois.n.02   \n",
       "4227       74108         74108        Synset('takin.n.01')        takin.n.01   \n",
       "4228       74298         74298         Synset('bull.n.01')         bull.n.01   \n",
       "\n",
       "     Predicted                           0            1  \n",
       "0            b  Synset('personality.n.01')  personality  \n",
       "1            b        Synset('varna.n.02')        varna  \n",
       "2            b       Synset('volume.n.01')       volume  \n",
       "3            b     Synset('diagonal.n.04')     diagonal  \n",
       "4            b       Synset('nature.n.01')       nature  \n",
       "...        ...                         ...          ...  \n",
       "4224         b       Synset('cattle.n.01')       cattle  \n",
       "4225         b           Synset('ox.n.02')           ox  \n",
       "4226         b      Synset('chamois.n.02')      chamois  \n",
       "4227         b        Synset('takin.n.01')        takin  \n",
       "4228         b         Synset('bull.n.01')         bull  \n",
       "\n",
       "[4229 rows x 7 columns]"
      ]
     },
     "execution_count": 35,
     "metadata": {},
     "output_type": "execute_result"
    }
   ],
   "source": [
    "agreed_syns=pd.merge(b, lauras_basic, left_on='Synset', right_on=[0], how='inner')\n",
    "agreed_syns"
   ]
  },
  {
   "cell_type": "code",
   "execution_count": 37,
   "id": "7e053bb7-cf31-4e03-9257-4974fc68c2bf",
   "metadata": {},
   "outputs": [],
   "source": [
    "agreed=agreed_syns.drop(columns=['Unnamed: 0.1', 'Unnamed: 0', 'Predicted', 0])"
   ]
  },
  {
   "cell_type": "code",
   "execution_count": 38,
   "id": "c3d26665-c8dd-46e7-9b2b-587e5729ea33",
   "metadata": {},
   "outputs": [
    {
     "data": {
      "text/html": [
       "<div>\n",
       "<style scoped>\n",
       "    .dataframe tbody tr th:only-of-type {\n",
       "        vertical-align: middle;\n",
       "    }\n",
       "\n",
       "    .dataframe tbody tr th {\n",
       "        vertical-align: top;\n",
       "    }\n",
       "\n",
       "    .dataframe thead th {\n",
       "        text-align: right;\n",
       "    }\n",
       "</style>\n",
       "<table border=\"1\" class=\"dataframe\">\n",
       "  <thead>\n",
       "    <tr style=\"text-align: right;\">\n",
       "      <th></th>\n",
       "      <th>Synset</th>\n",
       "      <th>Name</th>\n",
       "      <th>1</th>\n",
       "    </tr>\n",
       "  </thead>\n",
       "  <tbody>\n",
       "    <tr>\n",
       "      <th>0</th>\n",
       "      <td>Synset('personality.n.01')</td>\n",
       "      <td>personality.n.01</td>\n",
       "      <td>personality</td>\n",
       "    </tr>\n",
       "    <tr>\n",
       "      <th>1</th>\n",
       "      <td>Synset('varna.n.02')</td>\n",
       "      <td>varna.n.02</td>\n",
       "      <td>varna</td>\n",
       "    </tr>\n",
       "    <tr>\n",
       "      <th>2</th>\n",
       "      <td>Synset('volume.n.01')</td>\n",
       "      <td>volume.n.01</td>\n",
       "      <td>volume</td>\n",
       "    </tr>\n",
       "    <tr>\n",
       "      <th>3</th>\n",
       "      <td>Synset('diagonal.n.04')</td>\n",
       "      <td>diagonal.n.04</td>\n",
       "      <td>diagonal</td>\n",
       "    </tr>\n",
       "    <tr>\n",
       "      <th>4</th>\n",
       "      <td>Synset('nature.n.01')</td>\n",
       "      <td>nature.n.01</td>\n",
       "      <td>nature</td>\n",
       "    </tr>\n",
       "    <tr>\n",
       "      <th>...</th>\n",
       "      <td>...</td>\n",
       "      <td>...</td>\n",
       "      <td>...</td>\n",
       "    </tr>\n",
       "    <tr>\n",
       "      <th>4224</th>\n",
       "      <td>Synset('cattle.n.01')</td>\n",
       "      <td>cattle.n.01</td>\n",
       "      <td>cattle</td>\n",
       "    </tr>\n",
       "    <tr>\n",
       "      <th>4225</th>\n",
       "      <td>Synset('ox.n.02')</td>\n",
       "      <td>ox.n.02</td>\n",
       "      <td>ox</td>\n",
       "    </tr>\n",
       "    <tr>\n",
       "      <th>4226</th>\n",
       "      <td>Synset('chamois.n.02')</td>\n",
       "      <td>chamois.n.02</td>\n",
       "      <td>chamois</td>\n",
       "    </tr>\n",
       "    <tr>\n",
       "      <th>4227</th>\n",
       "      <td>Synset('takin.n.01')</td>\n",
       "      <td>takin.n.01</td>\n",
       "      <td>takin</td>\n",
       "    </tr>\n",
       "    <tr>\n",
       "      <th>4228</th>\n",
       "      <td>Synset('bull.n.01')</td>\n",
       "      <td>bull.n.01</td>\n",
       "      <td>bull</td>\n",
       "    </tr>\n",
       "  </tbody>\n",
       "</table>\n",
       "<p>4229 rows × 3 columns</p>\n",
       "</div>"
      ],
      "text/plain": [
       "                          Synset              Name            1\n",
       "0     Synset('personality.n.01')  personality.n.01  personality\n",
       "1           Synset('varna.n.02')        varna.n.02        varna\n",
       "2          Synset('volume.n.01')       volume.n.01       volume\n",
       "3        Synset('diagonal.n.04')     diagonal.n.04     diagonal\n",
       "4          Synset('nature.n.01')       nature.n.01       nature\n",
       "...                          ...               ...          ...\n",
       "4224       Synset('cattle.n.01')       cattle.n.01       cattle\n",
       "4225           Synset('ox.n.02')           ox.n.02           ox\n",
       "4226      Synset('chamois.n.02')      chamois.n.02      chamois\n",
       "4227        Synset('takin.n.01')        takin.n.01        takin\n",
       "4228         Synset('bull.n.01')         bull.n.01         bull\n",
       "\n",
       "[4229 rows x 3 columns]"
      ]
     },
     "execution_count": 38,
     "metadata": {},
     "output_type": "execute_result"
    }
   ],
   "source": [
    "agreed"
   ]
  },
  {
   "cell_type": "code",
   "execution_count": 39,
   "id": "8c36b7c8-0726-4516-b05d-108fa13acf8f",
   "metadata": {},
   "outputs": [],
   "source": [
    "agreed.to_csv('BasicLevelSynsets_Agreed.csv')"
   ]
  },
  {
   "cell_type": "markdown",
   "id": "b7ca4c5c-7a2d-4a57-a2f6-0d4da0f8576b",
   "metadata": {},
   "source": [
    "## "
   ]
  }
 ],
 "metadata": {
  "kernelspec": {
   "display_name": "Python 3",
   "language": "python",
   "name": "python3"
  },
  "language_info": {
   "codemirror_mode": {
    "name": "ipython",
    "version": 3
   },
   "file_extension": ".py",
   "mimetype": "text/x-python",
   "name": "python",
   "nbconvert_exporter": "python",
   "pygments_lexer": "ipython3",
   "version": "3.8.8"
  }
 },
 "nbformat": 4,
 "nbformat_minor": 5
}
