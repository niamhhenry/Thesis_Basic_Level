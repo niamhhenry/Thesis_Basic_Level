{
 "cells": [
  {
   "cell_type": "code",
   "execution_count": 1,
   "id": "ca099293-1248-4808-8f4d-ba9c88653272",
   "metadata": {},
   "outputs": [],
   "source": [
    "import pandas as pd\n",
    "import numpy as np\n",
    "from numpy import mean, std, median\n",
    "from sklearn.model_selection import KFold\n",
    "from sklearn.model_selection import cross_val_score,  train_test_split, RepeatedStratifiedKFold, GridSearchCV\n",
    "from sklearn.ensemble import RandomForestClassifier\n",
    "from sklearn.metrics import balanced_accuracy_score, make_scorer, classification_report, recall_score,r2_score, accuracy_score, cohen_kappa_score, classification_report, confusion_matrix, precision_score,f1_score \n",
    "from sklearn.model_selection import cross_validate, cross_val_predict, cross_val_score, KFold, StratifiedKFold \n",
    "from imblearn.pipeline import Pipeline \n",
    "from imblearn.pipeline import make_pipeline as imbpipeline\n",
    "from sklearn.pipeline import make_pipeline\n",
    "from imblearn.over_sampling import SMOTE, ADASYN\n",
    "import scikitplot as skplt\n",
    "from sklearn.preprocessing import StandardScaler, MinMaxScaler\n",
    "import matplotlib.pyplot as plt\n",
    "import triplify "
   ]
  },
  {
   "cell_type": "code",
   "execution_count": 2,
   "id": "048636cb-020a-49ae-a2c7-81e2e5647d90",
   "metadata": {},
   "outputs": [],
   "source": [
    "#Random seed used in R was 7\n",
    "random_seed=7"
   ]
  },
  {
   "cell_type": "code",
   "execution_count": 3,
   "id": "2585981b-20e0-4522-bd8a-df99b67fa755",
   "metadata": {},
   "outputs": [],
   "source": [
    "#read input data\n",
    "train_data=pd.read_csv('training_data_final.csv')\n",
    "test_data=pd.read_csv('test_data_final.csv')"
   ]
  },
  {
   "cell_type": "code",
   "execution_count": 4,
   "id": "ebc75a27-affa-46ca-91bc-ecee7f7a1364",
   "metadata": {},
   "outputs": [],
   "source": [
    "#set features and target variable \n",
    "features=[ \n",
    "    'ngrams_last_mean',\n",
    "    'minwordlength',\n",
    " 'nroflemmas',\n",
    "    'polyscore_max',\n",
    "    'nrpartrels_normalised',\n",
    "    'nrhypos',\n",
    "    'glosslength_normalised',\n",
    "    'depthfromtopsynset_normalised',\n",
    "    'nrdirhypers',\n",
    "    'CHILDES_Sum_Rel',\n",
    "    'BNC_Sum', \n",
    " ]\n",
    "target=['vote']"
   ]
  },
  {
   "cell_type": "code",
   "execution_count": 5,
   "id": "31c0b849-b6a7-465e-9c61-f8c05b8dff84",
   "metadata": {
    "tags": []
   },
   "outputs": [],
   "source": [
    "X_train=np.array(train_data[features])\n",
    "y_train= np.array(train_data[target])\n",
    "test_set=np.array(test_data[features])"
   ]
  },
  {
   "cell_type": "code",
   "execution_count": 6,
   "id": "f22dfeb5-3f17-4075-8719-06965d775f12",
   "metadata": {
    "tags": []
   },
   "outputs": [
    {
     "name": "stdout",
     "output_type": "stream",
     "text": [
      "Shape of oversampled data: (1384, 11)\n",
      "Shape of Y: (1384,)\n"
     ]
    }
   ],
   "source": [
    "#run SMOTE algorithm to deal with class imbalances - make basic class same amount as non-basic\n",
    "sm = SMOTE(random_state=random_seed, k_neighbors=2)\n",
    "X_train, y_train = sm.fit_resample(X_train, y_train)\n",
    "print ('Shape of oversampled data: {}'.format(X_train.shape))\n",
    "print ('Shape of Y: {}'.format(y_train.shape))"
   ]
  },
  {
   "cell_type": "code",
   "execution_count": 7,
   "id": "0bcc3f4a-a7d7-4a74-bff3-c00330377282",
   "metadata": {},
   "outputs": [],
   "source": [
    "#define model and fit oversampled training sets\n",
    "rf = RandomForestClassifier(random_state=random_seed, max_features='sqrt', n_estimators=1400, oob_score=True, criterion='gini', bootstrap=True).fit(X_train, y_train.ravel())"
   ]
  },
  {
   "cell_type": "code",
   "execution_count": 8,
   "id": "e8cf27fb-9adb-48a6-bd82-0e5b1ae9c2ff",
   "metadata": {},
   "outputs": [],
   "source": [
    "y_pred = rf.predict(test_set)"
   ]
  },
  {
   "cell_type": "code",
   "execution_count": 9,
   "id": "d26fa53f-a5ff-422a-bdba-b26a2e0fd4df",
   "metadata": {},
   "outputs": [
    {
     "name": "stdout",
     "output_type": "stream",
     "text": [
      "['nb' 'nb' 'nb' ... 'nb' 'nb' 'nb']\n"
     ]
    }
   ],
   "source": [
    "print(y_pred)"
   ]
  },
  {
   "cell_type": "code",
   "execution_count": 10,
   "id": "00ee8714-f097-4c8d-a4be-940319ae145e",
   "metadata": {},
   "outputs": [],
   "source": [
    "results=pd.read_csv('results_syns_list.csv')"
   ]
  },
  {
   "cell_type": "code",
   "execution_count": 11,
   "id": "22054027-8c4a-46bc-a612-6bd7de2f85cc",
   "metadata": {},
   "outputs": [
    {
     "data": {
      "text/plain": [
       "74374"
      ]
     },
     "execution_count": 11,
     "metadata": {},
     "output_type": "execute_result"
    }
   ],
   "source": [
    "len(results)"
   ]
  },
  {
   "cell_type": "code",
   "execution_count": 12,
   "id": "62ba3a9c-3a0d-4516-bf2a-0f74e2813866",
   "metadata": {},
   "outputs": [],
   "source": [
    "res=pd.DataFrame(y_pred)"
   ]
  },
  {
   "cell_type": "code",
   "execution_count": 14,
   "id": "d774e430-e27e-4146-8b02-ed7fc6c1a35f",
   "metadata": {},
   "outputs": [
    {
     "data": {
      "text/html": [
       "<div>\n",
       "<style scoped>\n",
       "    .dataframe tbody tr th:only-of-type {\n",
       "        vertical-align: middle;\n",
       "    }\n",
       "\n",
       "    .dataframe tbody tr th {\n",
       "        vertical-align: top;\n",
       "    }\n",
       "\n",
       "    .dataframe thead th {\n",
       "        text-align: right;\n",
       "    }\n",
       "</style>\n",
       "<table border=\"1\" class=\"dataframe\">\n",
       "  <thead>\n",
       "    <tr style=\"text-align: right;\">\n",
       "      <th></th>\n",
       "      <th>0</th>\n",
       "    </tr>\n",
       "  </thead>\n",
       "  <tbody>\n",
       "    <tr>\n",
       "      <th>0</th>\n",
       "      <td>nb</td>\n",
       "    </tr>\n",
       "    <tr>\n",
       "      <th>1</th>\n",
       "      <td>nb</td>\n",
       "    </tr>\n",
       "    <tr>\n",
       "      <th>2</th>\n",
       "      <td>nb</td>\n",
       "    </tr>\n",
       "    <tr>\n",
       "      <th>3</th>\n",
       "      <td>nb</td>\n",
       "    </tr>\n",
       "    <tr>\n",
       "      <th>4</th>\n",
       "      <td>nb</td>\n",
       "    </tr>\n",
       "    <tr>\n",
       "      <th>...</th>\n",
       "      <td>...</td>\n",
       "    </tr>\n",
       "    <tr>\n",
       "      <th>74369</th>\n",
       "      <td>nb</td>\n",
       "    </tr>\n",
       "    <tr>\n",
       "      <th>74370</th>\n",
       "      <td>nb</td>\n",
       "    </tr>\n",
       "    <tr>\n",
       "      <th>74371</th>\n",
       "      <td>nb</td>\n",
       "    </tr>\n",
       "    <tr>\n",
       "      <th>74372</th>\n",
       "      <td>nb</td>\n",
       "    </tr>\n",
       "    <tr>\n",
       "      <th>74373</th>\n",
       "      <td>nb</td>\n",
       "    </tr>\n",
       "  </tbody>\n",
       "</table>\n",
       "<p>74374 rows × 1 columns</p>\n",
       "</div>"
      ],
      "text/plain": [
       "        0\n",
       "0      nb\n",
       "1      nb\n",
       "2      nb\n",
       "3      nb\n",
       "4      nb\n",
       "...    ..\n",
       "74369  nb\n",
       "74370  nb\n",
       "74371  nb\n",
       "74372  nb\n",
       "74373  nb\n",
       "\n",
       "[74374 rows x 1 columns]"
      ]
     },
     "execution_count": 14,
     "metadata": {},
     "output_type": "execute_result"
    }
   ],
   "source": [
    "res"
   ]
  },
  {
   "cell_type": "code",
   "execution_count": 16,
   "id": "861d1652-7d5a-4a84-a88f-66cd66edf84a",
   "metadata": {},
   "outputs": [],
   "source": [
    "results['Predicted']=res[0]"
   ]
  },
  {
   "cell_type": "code",
   "execution_count": 17,
   "id": "67d40fb1-fae5-4f36-9ada-7c41db6465aa",
   "metadata": {},
   "outputs": [
    {
     "data": {
      "text/html": [
       "<div>\n",
       "<style scoped>\n",
       "    .dataframe tbody tr th:only-of-type {\n",
       "        vertical-align: middle;\n",
       "    }\n",
       "\n",
       "    .dataframe tbody tr th {\n",
       "        vertical-align: top;\n",
       "    }\n",
       "\n",
       "    .dataframe thead th {\n",
       "        text-align: right;\n",
       "    }\n",
       "</style>\n",
       "<table border=\"1\" class=\"dataframe\">\n",
       "  <thead>\n",
       "    <tr style=\"text-align: right;\">\n",
       "      <th></th>\n",
       "      <th>Unnamed: 0</th>\n",
       "      <th>Synset</th>\n",
       "      <th>Name</th>\n",
       "      <th>Predicted</th>\n",
       "    </tr>\n",
       "  </thead>\n",
       "  <tbody>\n",
       "    <tr>\n",
       "      <th>0</th>\n",
       "      <td>0</td>\n",
       "      <td>Synset('abstraction.n.06')</td>\n",
       "      <td>abstraction.n.06</td>\n",
       "      <td>nb</td>\n",
       "    </tr>\n",
       "    <tr>\n",
       "      <th>1</th>\n",
       "      <td>1</td>\n",
       "      <td>Synset('physical_entity.n.01')</td>\n",
       "      <td>physical_entity.n.01</td>\n",
       "      <td>nb</td>\n",
       "    </tr>\n",
       "    <tr>\n",
       "      <th>2</th>\n",
       "      <td>2</td>\n",
       "      <td>Synset('thing.n.08')</td>\n",
       "      <td>thing.n.08</td>\n",
       "      <td>nb</td>\n",
       "    </tr>\n",
       "    <tr>\n",
       "      <th>3</th>\n",
       "      <td>3</td>\n",
       "      <td>Synset('attribute.n.02')</td>\n",
       "      <td>attribute.n.02</td>\n",
       "      <td>nb</td>\n",
       "    </tr>\n",
       "    <tr>\n",
       "      <th>4</th>\n",
       "      <td>4</td>\n",
       "      <td>Synset('communication.n.02')</td>\n",
       "      <td>communication.n.02</td>\n",
       "      <td>nb</td>\n",
       "    </tr>\n",
       "    <tr>\n",
       "      <th>...</th>\n",
       "      <td>...</td>\n",
       "      <td>...</td>\n",
       "      <td>...</td>\n",
       "      <td>...</td>\n",
       "    </tr>\n",
       "    <tr>\n",
       "      <th>74369</th>\n",
       "      <td>74369</td>\n",
       "      <td>Synset('milking_shorthorn.n.01')</td>\n",
       "      <td>milking_shorthorn.n.01</td>\n",
       "      <td>nb</td>\n",
       "    </tr>\n",
       "    <tr>\n",
       "      <th>74370</th>\n",
       "      <td>74370</td>\n",
       "      <td>Synset('gaur.n.01')</td>\n",
       "      <td>gaur.n.01</td>\n",
       "      <td>nb</td>\n",
       "    </tr>\n",
       "    <tr>\n",
       "      <th>74371</th>\n",
       "      <td>74371</td>\n",
       "      <td>Synset('gayal.n.01')</td>\n",
       "      <td>gayal.n.01</td>\n",
       "      <td>nb</td>\n",
       "    </tr>\n",
       "    <tr>\n",
       "      <th>74372</th>\n",
       "      <td>74372</td>\n",
       "      <td>Synset('bucking_bronco.n.01')</td>\n",
       "      <td>bucking_bronco.n.01</td>\n",
       "      <td>nb</td>\n",
       "    </tr>\n",
       "    <tr>\n",
       "      <th>74373</th>\n",
       "      <td>74373</td>\n",
       "      <td>Synset('entity.n.01')</td>\n",
       "      <td>entity.n.01</td>\n",
       "      <td>nb</td>\n",
       "    </tr>\n",
       "  </tbody>\n",
       "</table>\n",
       "<p>74374 rows × 4 columns</p>\n",
       "</div>"
      ],
      "text/plain": [
       "       Unnamed: 0                            Synset                    Name  \\\n",
       "0               0        Synset('abstraction.n.06')        abstraction.n.06   \n",
       "1               1    Synset('physical_entity.n.01')    physical_entity.n.01   \n",
       "2               2              Synset('thing.n.08')              thing.n.08   \n",
       "3               3          Synset('attribute.n.02')          attribute.n.02   \n",
       "4               4      Synset('communication.n.02')      communication.n.02   \n",
       "...           ...                               ...                     ...   \n",
       "74369       74369  Synset('milking_shorthorn.n.01')  milking_shorthorn.n.01   \n",
       "74370       74370               Synset('gaur.n.01')               gaur.n.01   \n",
       "74371       74371              Synset('gayal.n.01')              gayal.n.01   \n",
       "74372       74372     Synset('bucking_bronco.n.01')     bucking_bronco.n.01   \n",
       "74373       74373             Synset('entity.n.01')             entity.n.01   \n",
       "\n",
       "      Predicted  \n",
       "0            nb  \n",
       "1            nb  \n",
       "2            nb  \n",
       "3            nb  \n",
       "4            nb  \n",
       "...         ...  \n",
       "74369        nb  \n",
       "74370        nb  \n",
       "74371        nb  \n",
       "74372        nb  \n",
       "74373        nb  \n",
       "\n",
       "[74374 rows x 4 columns]"
      ]
     },
     "execution_count": 17,
     "metadata": {},
     "output_type": "execute_result"
    }
   ],
   "source": [
    "results"
   ]
  },
  {
   "cell_type": "code",
   "execution_count": 19,
   "id": "c10cfddd-51cb-4146-ae80-1e91d5dc2e0b",
   "metadata": {},
   "outputs": [],
   "source": [
    "results.to_csv('final/predicted_results.csv')"
   ]
  },
  {
   "cell_type": "code",
   "execution_count": 20,
   "id": "93d1615c-c8de-4b14-9878-2a2f496a75c4",
   "metadata": {},
   "outputs": [],
   "source": [
    "basic=results[results['Predicted']=='b']"
   ]
  },
  {
   "cell_type": "code",
   "execution_count": 21,
   "id": "5f804e1c-aa73-4cfe-a7c4-f5c84573fe94",
   "metadata": {},
   "outputs": [
    {
     "data": {
      "text/html": [
       "<div>\n",
       "<style scoped>\n",
       "    .dataframe tbody tr th:only-of-type {\n",
       "        vertical-align: middle;\n",
       "    }\n",
       "\n",
       "    .dataframe tbody tr th {\n",
       "        vertical-align: top;\n",
       "    }\n",
       "\n",
       "    .dataframe thead th {\n",
       "        text-align: right;\n",
       "    }\n",
       "</style>\n",
       "<table border=\"1\" class=\"dataframe\">\n",
       "  <thead>\n",
       "    <tr style=\"text-align: right;\">\n",
       "      <th></th>\n",
       "      <th>Unnamed: 0</th>\n",
       "      <th>Synset</th>\n",
       "      <th>Name</th>\n",
       "      <th>Predicted</th>\n",
       "    </tr>\n",
       "  </thead>\n",
       "  <tbody>\n",
       "    <tr>\n",
       "      <th>34</th>\n",
       "      <td>34</td>\n",
       "      <td>Synset('personality.n.01')</td>\n",
       "      <td>personality.n.01</td>\n",
       "      <td>b</td>\n",
       "    </tr>\n",
       "    <tr>\n",
       "      <th>80</th>\n",
       "      <td>80</td>\n",
       "      <td>Synset('rare_earth.n.01')</td>\n",
       "      <td>rare_earth.n.01</td>\n",
       "      <td>b</td>\n",
       "    </tr>\n",
       "    <tr>\n",
       "      <th>86</th>\n",
       "      <td>86</td>\n",
       "      <td>Synset('swarm.n.02')</td>\n",
       "      <td>swarm.n.02</td>\n",
       "      <td>b</td>\n",
       "    </tr>\n",
       "    <tr>\n",
       "      <th>107</th>\n",
       "      <td>107</td>\n",
       "      <td>Synset('volume.n.01')</td>\n",
       "      <td>volume.n.01</td>\n",
       "      <td>b</td>\n",
       "    </tr>\n",
       "    <tr>\n",
       "      <th>138</th>\n",
       "      <td>138</td>\n",
       "      <td>Synset('diagonal.n.04')</td>\n",
       "      <td>diagonal.n.04</td>\n",
       "      <td>b</td>\n",
       "    </tr>\n",
       "    <tr>\n",
       "      <th>...</th>\n",
       "      <td>...</td>\n",
       "      <td>...</td>\n",
       "      <td>...</td>\n",
       "      <td>...</td>\n",
       "    </tr>\n",
       "    <tr>\n",
       "      <th>74098</th>\n",
       "      <td>74098</td>\n",
       "      <td>Synset('ox.n.02')</td>\n",
       "      <td>ox.n.02</td>\n",
       "      <td>b</td>\n",
       "    </tr>\n",
       "    <tr>\n",
       "      <th>74104</th>\n",
       "      <td>74104</td>\n",
       "      <td>Synset('chamois.n.02')</td>\n",
       "      <td>chamois.n.02</td>\n",
       "      <td>b</td>\n",
       "    </tr>\n",
       "    <tr>\n",
       "      <th>74297</th>\n",
       "      <td>74297</td>\n",
       "      <td>Synset('beef.n.01')</td>\n",
       "      <td>beef.n.01</td>\n",
       "      <td>b</td>\n",
       "    </tr>\n",
       "    <tr>\n",
       "      <th>74298</th>\n",
       "      <td>74298</td>\n",
       "      <td>Synset('bull.n.01')</td>\n",
       "      <td>bull.n.01</td>\n",
       "      <td>b</td>\n",
       "    </tr>\n",
       "    <tr>\n",
       "      <th>74299</th>\n",
       "      <td>74299</td>\n",
       "      <td>Synset('cow.n.01')</td>\n",
       "      <td>cow.n.01</td>\n",
       "      <td>b</td>\n",
       "    </tr>\n",
       "  </tbody>\n",
       "</table>\n",
       "<p>11773 rows × 4 columns</p>\n",
       "</div>"
      ],
      "text/plain": [
       "       Unnamed: 0                      Synset              Name Predicted\n",
       "34             34  Synset('personality.n.01')  personality.n.01         b\n",
       "80             80   Synset('rare_earth.n.01')   rare_earth.n.01         b\n",
       "86             86        Synset('swarm.n.02')        swarm.n.02         b\n",
       "107           107       Synset('volume.n.01')       volume.n.01         b\n",
       "138           138     Synset('diagonal.n.04')     diagonal.n.04         b\n",
       "...           ...                         ...               ...       ...\n",
       "74098       74098           Synset('ox.n.02')           ox.n.02         b\n",
       "74104       74104      Synset('chamois.n.02')      chamois.n.02         b\n",
       "74297       74297         Synset('beef.n.01')         beef.n.01         b\n",
       "74298       74298         Synset('bull.n.01')         bull.n.01         b\n",
       "74299       74299          Synset('cow.n.01')          cow.n.01         b\n",
       "\n",
       "[11773 rows x 4 columns]"
      ]
     },
     "execution_count": 21,
     "metadata": {},
     "output_type": "execute_result"
    }
   ],
   "source": [
    "basic"
   ]
  },
  {
   "cell_type": "code",
   "execution_count": 2,
   "id": "b7a31491-75f9-4353-9172-79f11c939c2f",
   "metadata": {},
   "outputs": [
    {
     "ename": "NameError",
     "evalue": "name 'basic' is not defined",
     "output_type": "error",
     "traceback": [
      "\u001b[1;31m---------------------------------------------------------------------------\u001b[0m",
      "\u001b[1;31mNameError\u001b[0m                                 Traceback (most recent call last)",
      "\u001b[1;32m<ipython-input-2-278bc17d86c8>\u001b[0m in \u001b[0;36m<module>\u001b[1;34m\u001b[0m\n\u001b[1;32m----> 1\u001b[1;33m \u001b[0mbasic\u001b[0m\u001b[1;33m.\u001b[0m\u001b[0mto_csv\u001b[0m\u001b[1;33m(\u001b[0m\u001b[1;34m'final/predicted_basic_level.csv'\u001b[0m\u001b[1;33m)\u001b[0m\u001b[1;33m\u001b[0m\u001b[1;33m\u001b[0m\u001b[0m\n\u001b[0m",
      "\u001b[1;31mNameError\u001b[0m: name 'basic' is not defined"
     ]
    }
   ],
   "source": [
    "basic.to_csv('final/predicted_basic_level.csv')"
   ]
  },
  {
   "cell_type": "code",
   "execution_count": 23,
   "id": "e4837cea-f74a-412e-adb6-21d99583faf4",
   "metadata": {},
   "outputs": [
    {
     "name": "stdout",
     "output_type": "stream",
     "text": [
      "Feature: 0, Score: 0.07981\n",
      "Feature: 1, Score: 0.06709\n",
      "Feature: 2, Score: 0.04377\n",
      "Feature: 3, Score: 0.07728\n",
      "Feature: 4, Score: 0.12027\n",
      "Feature: 5, Score: 0.06733\n",
      "Feature: 6, Score: 0.09813\n",
      "Feature: 7, Score: 0.27990\n",
      "Feature: 8, Score: 0.01334\n",
      "Feature: 9, Score: 0.05960\n",
      "Feature: 10, Score: 0.09348\n"
     ]
    },
    {
     "data": {
      "image/png": "[encoded data removed]",
      "text/plain": [
       "<Figure size 432x288 with 1 Axes>"
      ]
     },
     "metadata": {
      "needs_background": "light"
     },
     "output_type": "display_data"
    }
   ],
   "source": [
    "# get feature importance\n",
    "importance = rf.feature_importances_\n",
    "# summarize feature importance\n",
    "for i,v in enumerate(importance):\n",
    "\tprint('Feature: %0d, Score: %.5f' % (i,v))\n",
    "# plot feature importance\n",
    "fig1=plt.figure()\n",
    "a=plt.bar([x for x in range(len(importance))], importance)\n",
    "#plt.savefig('ck/feature_importance_global.png')\n",
    "plt.show()"
   ]
  },
  {
   "cell_type": "code",
   "execution_count": 24,
   "id": "459a72a3-e022-48a7-823f-4dfcb5dc52fe",
   "metadata": {},
   "outputs": [],
   "source": [
    "imp=[]\n",
    "for i,v in enumerate(importance):\n",
    "    imp.append(v)"
   ]
  },
  {
   "cell_type": "code",
   "execution_count": 25,
   "id": "0a07d0b2-4bb2-49cc-839f-cb149139b7b5",
   "metadata": {},
   "outputs": [],
   "source": [
    "df4=pd.DataFrame(imp)\n",
    "df4['Features']=features\n",
    "df4=df4.rename(columns={0:'Importance'})"
   ]
  },
  {
   "cell_type": "code",
   "execution_count": 26,
   "id": "b7bd70eb-adf2-4f8a-87b7-8ccff6c52839",
   "metadata": {},
   "outputs": [],
   "source": [
    "df5=df4[['Features', 'Importance']].sort_values('Importance',ascending=False)"
   ]
  },
  {
   "cell_type": "code",
   "execution_count": 27,
   "id": "4c9ad61a-d3b5-45c9-8cf2-22bf2574aaa5",
   "metadata": {},
   "outputs": [
    {
     "data": {
      "text/html": [
       "<div>\n",
       "<style scoped>\n",
       "    .dataframe tbody tr th:only-of-type {\n",
       "        vertical-align: middle;\n",
       "    }\n",
       "\n",
       "    .dataframe tbody tr th {\n",
       "        vertical-align: top;\n",
       "    }\n",
       "\n",
       "    .dataframe thead th {\n",
       "        text-align: right;\n",
       "    }\n",
       "</style>\n",
       "<table border=\"1\" class=\"dataframe\">\n",
       "  <thead>\n",
       "    <tr style=\"text-align: right;\">\n",
       "      <th></th>\n",
       "      <th>Features</th>\n",
       "      <th>Importance</th>\n",
       "    </tr>\n",
       "  </thead>\n",
       "  <tbody>\n",
       "    <tr>\n",
       "      <th>7</th>\n",
       "      <td>depthfromtopsynset_normalised</td>\n",
       "      <td>0.279897</td>\n",
       "    </tr>\n",
       "    <tr>\n",
       "      <th>4</th>\n",
       "      <td>nrpartrels_normalised</td>\n",
       "      <td>0.120267</td>\n",
       "    </tr>\n",
       "    <tr>\n",
       "      <th>6</th>\n",
       "      <td>glosslength_normalised</td>\n",
       "      <td>0.098133</td>\n",
       "    </tr>\n",
       "    <tr>\n",
       "      <th>10</th>\n",
       "      <td>BNC_Sum</td>\n",
       "      <td>0.093479</td>\n",
       "    </tr>\n",
       "    <tr>\n",
       "      <th>0</th>\n",
       "      <td>ngrams_last_mean</td>\n",
       "      <td>0.079805</td>\n",
       "    </tr>\n",
       "    <tr>\n",
       "      <th>3</th>\n",
       "      <td>polyscore_max</td>\n",
       "      <td>0.077276</td>\n",
       "    </tr>\n",
       "    <tr>\n",
       "      <th>5</th>\n",
       "      <td>nrhypos</td>\n",
       "      <td>0.067334</td>\n",
       "    </tr>\n",
       "    <tr>\n",
       "      <th>1</th>\n",
       "      <td>minwordlength</td>\n",
       "      <td>0.067095</td>\n",
       "    </tr>\n",
       "    <tr>\n",
       "      <th>9</th>\n",
       "      <td>CHILDES_Sum_Rel</td>\n",
       "      <td>0.059601</td>\n",
       "    </tr>\n",
       "    <tr>\n",
       "      <th>2</th>\n",
       "      <td>nroflemmas</td>\n",
       "      <td>0.043772</td>\n",
       "    </tr>\n",
       "    <tr>\n",
       "      <th>8</th>\n",
       "      <td>nrdirhypers</td>\n",
       "      <td>0.013341</td>\n",
       "    </tr>\n",
       "  </tbody>\n",
       "</table>\n",
       "</div>"
      ],
      "text/plain": [
       "                         Features  Importance\n",
       "7   depthfromtopsynset_normalised    0.279897\n",
       "4           nrpartrels_normalised    0.120267\n",
       "6          glosslength_normalised    0.098133\n",
       "10                        BNC_Sum    0.093479\n",
       "0                ngrams_last_mean    0.079805\n",
       "3                   polyscore_max    0.077276\n",
       "5                         nrhypos    0.067334\n",
       "1                   minwordlength    0.067095\n",
       "9                 CHILDES_Sum_Rel    0.059601\n",
       "2                      nroflemmas    0.043772\n",
       "8                     nrdirhypers    0.013341"
      ]
     },
     "execution_count": 27,
     "metadata": {},
     "output_type": "execute_result"
    }
   ],
   "source": [
    "df5"
   ]
  },
  {
   "cell_type": "code",
   "execution_count": 28,
   "id": "c0a2459e-643e-4b04-a1b2-76ac901248cc",
   "metadata": {},
   "outputs": [],
   "source": [
    "df5.to_csv('final/FI_predict_entity.csv')"
   ]
  },
  {
   "cell_type": "code",
   "execution_count": 29,
   "id": "147d4183-3538-4d5a-83d1-2d6c32cc2338",
   "metadata": {},
   "outputs": [],
   "source": [
    "res.to_csv('final/y_pred_results.csv')"
   ]
  },
  {
   "cell_type": "code",
   "execution_count": 3,
   "id": "34c7a21f-9aca-4890-9c1b-74ab091020f0",
   "metadata": {},
   "outputs": [],
   "source": [
    "b=pd.read_csv('final/predicted_basic_level.csv')"
   ]
  },
  {
   "cell_type": "code",
   "execution_count": 8,
   "id": "67737b53-2463-435d-9f5c-a2a210256a0f",
   "metadata": {},
   "outputs": [],
   "source": [
    "basic_syns=pd.DataFrame()"
   ]
  },
  {
   "cell_type": "code",
   "execution_count": 9,
   "id": "29b235ff-9712-483c-bb86-e1e11a33e74d",
   "metadata": {},
   "outputs": [],
   "source": [
    "basic_syns['Synset']=b['Synset']"
   ]
  },
  {
   "cell_type": "code",
   "execution_count": 12,
   "id": "08df56d0-b69b-469f-a9c1-d6d1fd9b2ac7",
   "metadata": {},
   "outputs": [],
   "source": [
    "basic_syns.to_csv('basiclevels.txt', header=None, index=None, sep='\\n')"
   ]
  },
  {
   "cell_type": "code",
   "execution_count": 13,
   "id": "f8731fc1-2629-4a7b-a357-b84cd76f9646",
   "metadata": {},
   "outputs": [
    {
     "name": "stdout",
     "output_type": "stream",
     "text": [
      "@prefix wn30:  <http://purl.org/vocabularies/princeton/wn30/> .\n",
      "@prefix cgraph: <http://purl.org/vocabularies/cgraph/> .\n"
     ]
    },
    {
     "ename": "AttributeError",
     "evalue": "'NoneType' object has no attribute 'groups'",
     "output_type": "error",
     "traceback": [
      "\u001b[1;31m---------------------------------------------------------------------------\u001b[0m",
      "\u001b[1;31mAttributeError\u001b[0m                            Traceback (most recent call last)",
      "\u001b[1;32m<ipython-input-13-2abf367056b0>\u001b[0m in \u001b[0;36m<module>\u001b[1;34m\u001b[0m\n\u001b[1;32m----> 1\u001b[1;33m \u001b[0mtriplify\u001b[0m\u001b[1;33m.\u001b[0m\u001b[0mmain\u001b[0m\u001b[1;33m(\u001b[0m\u001b[1;33m)\u001b[0m\u001b[1;33m\u001b[0m\u001b[1;33m\u001b[0m\u001b[0m\n\u001b[0m",
      "\u001b[1;32m~\\Thesis\\Basic Level\\Models\\triplify.py\u001b[0m in \u001b[0;36mmain\u001b[1;34m()\u001b[0m\n\u001b[0;32m     11\u001b[0m     \u001b[0mprint\u001b[0m\u001b[1;33m(\u001b[0m\u001b[1;34m\"@prefix cgraph: <http://purl.org/vocabularies/cgraph/> .\"\u001b[0m\u001b[1;33m)\u001b[0m\u001b[1;33m\u001b[0m\u001b[1;33m\u001b[0m\u001b[0m\n\u001b[0;32m     12\u001b[0m     \u001b[1;32mfor\u001b[0m \u001b[0mline\u001b[0m \u001b[1;32min\u001b[0m \u001b[0mbasics_file\u001b[0m\u001b[1;33m:\u001b[0m\u001b[1;33m\u001b[0m\u001b[1;33m\u001b[0m\u001b[0m\n\u001b[1;32m---> 13\u001b[1;33m         \u001b[1;33m(\u001b[0m\u001b[0msynset\u001b[0m\u001b[1;33m,\u001b[0m \u001b[0msid\u001b[0m\u001b[1;33m,\u001b[0m \u001b[0mlemma\u001b[0m\u001b[1;33m)\u001b[0m \u001b[1;33m=\u001b[0m \u001b[0mp\u001b[0m\u001b[1;33m.\u001b[0m\u001b[0mmatch\u001b[0m\u001b[1;33m(\u001b[0m\u001b[0mline\u001b[0m\u001b[1;33m)\u001b[0m\u001b[1;33m.\u001b[0m\u001b[0mgroups\u001b[0m\u001b[1;33m(\u001b[0m\u001b[1;33m)\u001b[0m\u001b[1;33m\u001b[0m\u001b[1;33m\u001b[0m\u001b[0m\n\u001b[0m\u001b[0;32m     14\u001b[0m         \u001b[1;33m(\u001b[0m\u001b[0ml\u001b[0m\u001b[1;33m,\u001b[0m \u001b[0mns\u001b[0m\u001b[1;33m)\u001b[0m \u001b[1;33m=\u001b[0m \u001b[0mn\u001b[0m\u001b[1;33m.\u001b[0m\u001b[0msplit\u001b[0m\u001b[1;33m(\u001b[0m\u001b[0msid\u001b[0m\u001b[1;33m)\u001b[0m\u001b[1;33m\u001b[0m\u001b[1;33m\u001b[0m\u001b[0m\n\u001b[0;32m     15\u001b[0m         \u001b[0mnormalized1\u001b[0m \u001b[1;33m=\u001b[0m \u001b[0mlemma\u001b[0m\u001b[1;33m.\u001b[0m\u001b[0mreplace\u001b[0m\u001b[1;33m(\u001b[0m\u001b[1;34m'\\''\u001b[0m\u001b[1;33m,\u001b[0m \u001b[1;34m'_'\u001b[0m\u001b[1;33m)\u001b[0m\u001b[1;33m\u001b[0m\u001b[1;33m\u001b[0m\u001b[0m\n",
      "\u001b[1;31mAttributeError\u001b[0m: 'NoneType' object has no attribute 'groups'"
     ]
    }
   ],
   "source": [
    "triplify.main()"
   ]
  },
  {
   "cell_type": "markdown",
   "id": "b7ca4c5c-7a2d-4a57-a2f6-0d4da0f8576b",
   "metadata": {},
   "source": [
    "## "
   ]
  }
 ],
 "metadata": {
  "kernelspec": {
   "display_name": "Python 3",
   "language": "python",
   "name": "python3"
  },
  "language_info": {
   "codemirror_mode": {
    "name": "ipython",
    "version": 3
   },
   "file_extension": ".py",
   "mimetype": "text/x-python",
   "name": "python",
   "nbconvert_exporter": "python",
   "pygments_lexer": "ipython3",
   "version": "3.8.8"
  }
 },
 "nbformat": 4,
 "nbformat_minor": 5
}
