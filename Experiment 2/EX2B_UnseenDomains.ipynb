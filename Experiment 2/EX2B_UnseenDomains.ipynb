{
 "cells": [
  {
   "cell_type": "code",
   "execution_count": 1,
   "id": "ca099293-1248-4808-8f4d-ba9c88653272",
   "metadata": {},
   "outputs": [],
   "source": [
    "import pandas as pd\n",
    "import numpy as np\n",
    "from numpy import mean, std, median\n",
    "from sklearn.model_selection import KFold\n",
    "from sklearn.model_selection import cross_val_score,  train_test_split, RepeatedStratifiedKFold, GridSearchCV\n",
    "from sklearn.ensemble import RandomForestClassifier\n",
    "from sklearn.metrics import balanced_accuracy_score, make_scorer, classification_report, recall_score,r2_score, accuracy_score, cohen_kappa_score, classification_report, confusion_matrix, precision_score,f1_score \n",
    "from sklearn.model_selection import cross_validate, cross_val_predict, cross_val_score, KFold, StratifiedKFold \n",
    "from imblearn.pipeline import Pipeline \n",
    "from imblearn.pipeline import make_pipeline as imbpipeline\n",
    "from sklearn.pipeline import make_pipeline\n",
    "from imblearn.over_sampling import SMOTE, ADASYN\n",
    "import scikitplot as skplt\n",
    "from sklearn.preprocessing import StandardScaler, MinMaxScaler\n",
    "import matplotlib.pyplot as plt"
   ]
  },
  {
   "cell_type": "code",
   "execution_count": 2,
   "id": "048636cb-020a-49ae-a2c7-81e2e5647d90",
   "metadata": {},
   "outputs": [],
   "source": [
    "#Random seed used in R was 7\n",
    "random_seed=7"
   ]
  },
  {
   "cell_type": "code",
   "execution_count": 3,
   "id": "2585981b-20e0-4522-bd8a-df99b67fa755",
   "metadata": {},
   "outputs": [],
   "source": [
    "#read input data\n",
    "#data=pd.read_csv('EX2_Input_MV.csv') #all 986 synsets\n",
    "data=pd.read_csv('EX2_Input_AllAgreed.csv') #839 synsets where all annotators agree"
   ]
  },
  {
   "cell_type": "code",
   "execution_count": 4,
   "id": "8072baf7-3c65-4218-b50a-5cedebc096ee",
   "metadata": {},
   "outputs": [],
   "source": [
    "test_data=pd.read_csv('GS_not_agreed_synsets.csv') #synsets where annotators do not agree to test "
   ]
  },
  {
   "cell_type": "code",
   "execution_count": 5,
   "id": "72588dae-27e5-4a70-8caa-b2c9a69908f4",
   "metadata": {},
   "outputs": [],
   "source": [
    "d_tools=pd.DataFrame(data.loc[data['Domain']=='tool'])\n",
    "d_fruit=pd.DataFrame(data.loc[data['Domain']=='fruit'])\n",
    "d_music=pd.DataFrame(data.loc[data['Domain']=='music'])\n",
    "d_furn=pd.DataFrame(data.loc[data['Domain']=='furn'])\n",
    "d_garm=pd.DataFrame(data.loc[data['Domain']=='garm'])"
   ]
  },
  {
   "cell_type": "code",
   "execution_count": 6,
   "id": "ebc75a27-affa-46ca-91bc-ecee7f7a1364",
   "metadata": {},
   "outputs": [],
   "source": [
    "#set features and target variable\n",
    "#use best performing features from each corpora \n",
    "# 'ngrams_last_mean', 'CHILDES_Sum_Rel','KBNC_Sum','CABNC_per100,000', 'nrdirhypers_x','BNC_sum'\n",
    "features=[\n",
    " 'nrdirhypers',\n",
    " 'nrhypos',\n",
    " 'nrpartrels_normalised',\n",
    " 'depthfromtopsynset_normalised',\n",
    " 'glosslength_normalised',\n",
    " 'minwordlength',\n",
    " 'nroflemmas',\n",
    " 'polyscore_max',\n",
    " 'BNC_sum']\n",
    "target=['vote']"
   ]
  },
  {
   "cell_type": "code",
   "execution_count": 7,
   "id": "1f3f80c6-0141-44b4-95a4-6b6f796ec7bc",
   "metadata": {},
   "outputs": [],
   "source": [
    "#train on 2 domains test on one unseen to see performance across new domains\n",
    "music=[d_tools, d_fruit] #train on tools and fruit, test on music\n",
    "fruit=[d_tools, d_music]\n",
    "tools=[d_fruit, d_music]\n",
    "m=pd.concat(music)\n",
    "f=pd.concat(fruit)\n",
    "t=pd.concat(tools)"
   ]
  },
  {
   "cell_type": "code",
   "execution_count": 8,
   "id": "2d9318af-3a93-4667-945a-7cbb8120756f",
   "metadata": {},
   "outputs": [],
   "source": [
    "#train on 4 domains test on one unseen \n",
    "garments=[d_furn, d_fruit, d_music, d_tools] \n",
    "furniture=[d_fruit, d_music, d_tools, d_garm]\n",
    "fru=[d_furn, d_music, d_tools, d_garm]\n",
    "mus=[d_furn, d_fruit, d_tools, d_garm]\n",
    "too=[d_furn, d_fruit, d_music, d_garm]\n",
    "g=pd.concat(garments) #train on furn, fruit, music and tools and test on garments\n",
    "furn=pd.concat(furniture)\n",
    "fr=pd.concat(fru)\n",
    "mu=pd.concat(mus)\n",
    "to=pd.concat(too)"
   ]
  },
  {
   "cell_type": "code",
   "execution_count": 9,
   "id": "d2b74f64-b68c-4599-967e-5c40dc21bb25",
   "metadata": {},
   "outputs": [],
   "source": [
    "#manual splits to simulate how generalisable model is \n",
    "X_train=np.array(to[features]) #concated df name (g, furn, fr, mu, to) of unseen domain\n",
    "X_test=np.array(d_tools[features]) #d_domain (d_garm, d_furn, d_fruit..) of unseen domain\n",
    "y_train=np.array(to[target])\n",
    "y_test=np.array(d_tools[target])"
   ]
  },
  {
   "cell_type": "code",
   "execution_count": 10,
   "id": "323182d3-86cb-47c6-ac19-fbc9400c033e",
   "metadata": {},
   "outputs": [
    {
     "name": "stdout",
     "output_type": "stream",
     "text": [
      "Shape of oversampled data: (1112, 9)\n",
      "Shape of Y: (1112,)\n"
     ]
    }
   ],
   "source": [
    "#run SMOTE algorithm to deal with class imbalances - make basic class same amount as non-basic\n",
    "sm = SMOTE(random_state=random_seed, k_neighbors=2)\n",
    "X_train, y_train = sm.fit_resample(X_train, y_train)\n",
    "print ('Shape of oversampled data: {}'.format(X_train.shape))\n",
    "print ('Shape of Y: {}'.format(y_train.shape))"
   ]
  },
  {
   "cell_type": "code",
   "execution_count": 11,
   "id": "0bcc3f4a-a7d7-4a74-bff3-c00330377282",
   "metadata": {},
   "outputs": [],
   "source": [
    "#define model and fit oversampled training sets\n",
    "rf = RandomForestClassifier(random_state=random_seed, max_features=\"sqrt\", n_estimators=500, oob_score=True, criterion='gini', bootstrap=True).fit(X_train, y_train.ravel())"
   ]
  },
  {
   "cell_type": "code",
   "execution_count": 12,
   "id": "6219e679-4f5b-43e3-a3ec-cd7634c66a6f",
   "metadata": {},
   "outputs": [],
   "source": [
    "kappa_scorer=make_scorer(cohen_kappa_score) #to generate kappa scores in CV"
   ]
  },
  {
   "cell_type": "code",
   "execution_count": 13,
   "id": "93ce3682-9861-4aaa-a3fe-5be2277c28ba",
   "metadata": {},
   "outputs": [],
   "source": [
    "#pipeline for CV to first run smote prior to fitting RF in each loop - ensures no data leakage\n",
    "pipeline=imbpipeline(sm, rf)"
   ]
  },
  {
   "cell_type": "code",
   "execution_count": 14,
   "id": "54062819-a061-4916-8c23-707ac3f3508e",
   "metadata": {},
   "outputs": [],
   "source": [
    "#predict test set from training split\n",
    "y_pred = pipeline.predict(X_test)\n",
    "cr=(classification_report(y_test,y_pred, output_dict=True))\n",
    "report=pd.DataFrame(cr).transpose()\n",
    "report\n",
    "cr=(classification_report(y_test,y_pred, output_dict=True))\n",
    "ck=(cohen_kappa_score(y_test, y_pred))\n",
    "ba=(balanced_accuracy_score(y_test, y_pred))\n",
    "report=pd.DataFrame(cr).transpose()\n",
    "report['Cohen Kappa']=ck\n",
    "report['Balanced Accuracy']=ba"
   ]
  },
  {
   "cell_type": "code",
   "execution_count": 15,
   "id": "cc15300a-b81d-460d-89cd-829af993d7b8",
   "metadata": {},
   "outputs": [],
   "source": [
    "report['Trained on']='fruit, music, furniture and garments'\n",
    "report['Tested on']='tools'"
   ]
  },
  {
   "cell_type": "code",
   "execution_count": 16,
   "id": "a59b96cd-c921-4a08-9f61-42a4eb969a9c",
   "metadata": {},
   "outputs": [
    {
     "data": {
      "text/html": [
       "<div>\n",
       "<style scoped>\n",
       "    .dataframe tbody tr th:only-of-type {\n",
       "        vertical-align: middle;\n",
       "    }\n",
       "\n",
       "    .dataframe tbody tr th {\n",
       "        vertical-align: top;\n",
       "    }\n",
       "\n",
       "    .dataframe thead th {\n",
       "        text-align: right;\n",
       "    }\n",
       "</style>\n",
       "<table border=\"1\" class=\"dataframe\">\n",
       "  <thead>\n",
       "    <tr style=\"text-align: right;\">\n",
       "      <th></th>\n",
       "      <th>precision</th>\n",
       "      <th>recall</th>\n",
       "      <th>f1-score</th>\n",
       "      <th>support</th>\n",
       "      <th>Cohen Kappa</th>\n",
       "      <th>Balanced Accuracy</th>\n",
       "      <th>Trained on</th>\n",
       "      <th>Tested on</th>\n",
       "    </tr>\n",
       "  </thead>\n",
       "  <tbody>\n",
       "    <tr>\n",
       "      <th>b</th>\n",
       "      <td>0.909091</td>\n",
       "      <td>0.800000</td>\n",
       "      <td>0.851064</td>\n",
       "      <td>25.000000</td>\n",
       "      <td>0.819258</td>\n",
       "      <td>0.890741</td>\n",
       "      <td>fruit, music, furniture and garments</td>\n",
       "      <td>tools</td>\n",
       "    </tr>\n",
       "    <tr>\n",
       "      <th>nb</th>\n",
       "      <td>0.954955</td>\n",
       "      <td>0.981481</td>\n",
       "      <td>0.968037</td>\n",
       "      <td>108.000000</td>\n",
       "      <td>0.819258</td>\n",
       "      <td>0.890741</td>\n",
       "      <td>fruit, music, furniture and garments</td>\n",
       "      <td>tools</td>\n",
       "    </tr>\n",
       "    <tr>\n",
       "      <th>accuracy</th>\n",
       "      <td>0.947368</td>\n",
       "      <td>0.947368</td>\n",
       "      <td>0.947368</td>\n",
       "      <td>0.947368</td>\n",
       "      <td>0.819258</td>\n",
       "      <td>0.890741</td>\n",
       "      <td>fruit, music, furniture and garments</td>\n",
       "      <td>tools</td>\n",
       "    </tr>\n",
       "    <tr>\n",
       "      <th>macro avg</th>\n",
       "      <td>0.932023</td>\n",
       "      <td>0.890741</td>\n",
       "      <td>0.909550</td>\n",
       "      <td>133.000000</td>\n",
       "      <td>0.819258</td>\n",
       "      <td>0.890741</td>\n",
       "      <td>fruit, music, furniture and garments</td>\n",
       "      <td>tools</td>\n",
       "    </tr>\n",
       "    <tr>\n",
       "      <th>weighted avg</th>\n",
       "      <td>0.946334</td>\n",
       "      <td>0.947368</td>\n",
       "      <td>0.946049</td>\n",
       "      <td>133.000000</td>\n",
       "      <td>0.819258</td>\n",
       "      <td>0.890741</td>\n",
       "      <td>fruit, music, furniture and garments</td>\n",
       "      <td>tools</td>\n",
       "    </tr>\n",
       "  </tbody>\n",
       "</table>\n",
       "</div>"
      ],
      "text/plain": [
       "              precision    recall  f1-score     support  Cohen Kappa  \\\n",
       "b              0.909091  0.800000  0.851064   25.000000     0.819258   \n",
       "nb             0.954955  0.981481  0.968037  108.000000     0.819258   \n",
       "accuracy       0.947368  0.947368  0.947368    0.947368     0.819258   \n",
       "macro avg      0.932023  0.890741  0.909550  133.000000     0.819258   \n",
       "weighted avg   0.946334  0.947368  0.946049  133.000000     0.819258   \n",
       "\n",
       "              Balanced Accuracy                            Trained on  \\\n",
       "b                      0.890741  fruit, music, furniture and garments   \n",
       "nb                     0.890741  fruit, music, furniture and garments   \n",
       "accuracy               0.890741  fruit, music, furniture and garments   \n",
       "macro avg              0.890741  fruit, music, furniture and garments   \n",
       "weighted avg           0.890741  fruit, music, furniture and garments   \n",
       "\n",
       "             Tested on  \n",
       "b                tools  \n",
       "nb               tools  \n",
       "accuracy         tools  \n",
       "macro avg        tools  \n",
       "weighted avg     tools  "
      ]
     },
     "execution_count": 16,
     "metadata": {},
     "output_type": "execute_result"
    }
   ],
   "source": [
    "report"
   ]
  },
  {
   "cell_type": "code",
   "execution_count": 17,
   "id": "e4837cea-f74a-412e-adb6-21d99583faf4",
   "metadata": {},
   "outputs": [
    {
     "name": "stdout",
     "output_type": "stream",
     "text": [
      "Feature: 0, Score: 0.00468\n",
      "Feature: 1, Score: 0.07687\n",
      "Feature: 2, Score: 0.13716\n",
      "Feature: 3, Score: 0.29896\n",
      "Feature: 4, Score: 0.11131\n",
      "Feature: 5, Score: 0.08829\n",
      "Feature: 6, Score: 0.05293\n",
      "Feature: 7, Score: 0.07477\n",
      "Feature: 8, Score: 0.15503\n"
     ]
    },
    {
     "data": {
      "image/png": "[encoded data removed]",
      "text/plain": [
       "<Figure size 432x288 with 1 Axes>"
      ]
     },
     "metadata": {
      "needs_background": "light"
     },
     "output_type": "display_data"
    }
   ],
   "source": [
    "# get feature importance\n",
    "importance = rf.feature_importances_\n",
    "# summarize feature importance\n",
    "for i,v in enumerate(importance):\n",
    "\tprint('Feature: %0d, Score: %.5f' % (i,v))\n",
    "# plot feature importance\n",
    "fig1=plt.figure()\n",
    "a=plt.bar([x for x in range(len(importance))], importance)\n",
    "#plt.savefig('ck/feature_importance_global.png')\n",
    "plt.show()"
   ]
  },
  {
   "cell_type": "code",
   "execution_count": null,
   "id": "10a3b0bb-d554-46ea-aa51-8174a8d2f3e9",
   "metadata": {},
   "outputs": [],
   "source": []
  },
  {
   "cell_type": "code",
   "execution_count": 18,
   "id": "459a72a3-e022-48a7-823f-4dfcb5dc52fe",
   "metadata": {},
   "outputs": [],
   "source": [
    "imp=[]\n",
    "for i,v in enumerate(importance):\n",
    "    imp.append(v)"
   ]
  },
  {
   "cell_type": "code",
   "execution_count": 19,
   "id": "0a07d0b2-4bb2-49cc-839f-cb149139b7b5",
   "metadata": {},
   "outputs": [],
   "source": [
    "df4=pd.DataFrame(imp)\n",
    "df4['Features']=features\n",
    "df4=df4.rename(columns={0:'Importance'})"
   ]
  },
  {
   "cell_type": "code",
   "execution_count": 20,
   "id": "b7bd70eb-adf2-4f8a-87b7-8ccff6c52839",
   "metadata": {},
   "outputs": [],
   "source": [
    "df5=df4[['Features', 'Importance']].sort_values('Importance',ascending=False)"
   ]
  },
  {
   "cell_type": "code",
   "execution_count": 21,
   "id": "2f2a84e6-3a17-4dea-b6ea-f92008aa5c74",
   "metadata": {},
   "outputs": [],
   "source": [
    "df5=df5.rename(columns={'index':'Rank'})"
   ]
  },
  {
   "cell_type": "code",
   "execution_count": 22,
   "id": "4c9ad61a-d3b5-45c9-8cf2-22bf2574aaa5",
   "metadata": {},
   "outputs": [
    {
     "data": {
      "text/html": [
       "<div>\n",
       "<style scoped>\n",
       "    .dataframe tbody tr th:only-of-type {\n",
       "        vertical-align: middle;\n",
       "    }\n",
       "\n",
       "    .dataframe tbody tr th {\n",
       "        vertical-align: top;\n",
       "    }\n",
       "\n",
       "    .dataframe thead th {\n",
       "        text-align: right;\n",
       "    }\n",
       "</style>\n",
       "<table border=\"1\" class=\"dataframe\">\n",
       "  <thead>\n",
       "    <tr style=\"text-align: right;\">\n",
       "      <th></th>\n",
       "      <th>Features</th>\n",
       "      <th>Importance</th>\n",
       "    </tr>\n",
       "  </thead>\n",
       "  <tbody>\n",
       "    <tr>\n",
       "      <th>3</th>\n",
       "      <td>depthfromtopsynset_normalised</td>\n",
       "      <td>0.298961</td>\n",
       "    </tr>\n",
       "    <tr>\n",
       "      <th>8</th>\n",
       "      <td>BNC_sum</td>\n",
       "      <td>0.155028</td>\n",
       "    </tr>\n",
       "    <tr>\n",
       "      <th>2</th>\n",
       "      <td>nrpartrels_normalised</td>\n",
       "      <td>0.137161</td>\n",
       "    </tr>\n",
       "    <tr>\n",
       "      <th>4</th>\n",
       "      <td>glosslength_normalised</td>\n",
       "      <td>0.111312</td>\n",
       "    </tr>\n",
       "    <tr>\n",
       "      <th>5</th>\n",
       "      <td>minwordlength</td>\n",
       "      <td>0.088294</td>\n",
       "    </tr>\n",
       "    <tr>\n",
       "      <th>1</th>\n",
       "      <td>nrhypos</td>\n",
       "      <td>0.076868</td>\n",
       "    </tr>\n",
       "    <tr>\n",
       "      <th>7</th>\n",
       "      <td>polyscore_max</td>\n",
       "      <td>0.074766</td>\n",
       "    </tr>\n",
       "    <tr>\n",
       "      <th>6</th>\n",
       "      <td>nroflemmas</td>\n",
       "      <td>0.052932</td>\n",
       "    </tr>\n",
       "    <tr>\n",
       "      <th>0</th>\n",
       "      <td>nrdirhypers</td>\n",
       "      <td>0.004678</td>\n",
       "    </tr>\n",
       "  </tbody>\n",
       "</table>\n",
       "</div>"
      ],
      "text/plain": [
       "                        Features  Importance\n",
       "3  depthfromtopsynset_normalised    0.298961\n",
       "8                        BNC_sum    0.155028\n",
       "2          nrpartrels_normalised    0.137161\n",
       "4         glosslength_normalised    0.111312\n",
       "5                  minwordlength    0.088294\n",
       "1                        nrhypos    0.076868\n",
       "7                  polyscore_max    0.074766\n",
       "6                     nroflemmas    0.052932\n",
       "0                    nrdirhypers    0.004678"
      ]
     },
     "execution_count": 22,
     "metadata": {},
     "output_type": "execute_result"
    }
   ],
   "source": [
    "df5"
   ]
  },
  {
   "cell_type": "code",
   "execution_count": 23,
   "id": "825ae8ad-9927-4bfe-9e2d-959a0002662d",
   "metadata": {},
   "outputs": [],
   "source": [
    "#report.to_csv('results/features/unseen/CR_bnc_unseen_tools.csv')"
   ]
  },
  {
   "cell_type": "code",
   "execution_count": 24,
   "id": "c0a2459e-643e-4b04-a1b2-76ac901248cc",
   "metadata": {},
   "outputs": [],
   "source": [
    "#df5.to_csv('results/features/unseen/FI_bnc_unseen_tools.csv')"
   ]
  }
 ],
 "metadata": {
  "kernelspec": {
   "display_name": "Python 3",
   "language": "python",
   "name": "python3"
  },
  "language_info": {
   "codemirror_mode": {
    "name": "ipython",
    "version": 3
   },
   "file_extension": ".py",
   "mimetype": "text/x-python",
   "name": "python",
   "nbconvert_exporter": "python",
   "pygments_lexer": "ipython3",
   "version": "3.8.8"
  }
 },
 "nbformat": 4,
 "nbformat_minor": 5
}
