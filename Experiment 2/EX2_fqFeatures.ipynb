{
 "cells": [
  {
   "cell_type": "code",
   "execution_count": 37,
   "id": "ca099293-1248-4808-8f4d-ba9c88653272",
   "metadata": {},
   "outputs": [],
   "source": [
    "import pandas as pd\n",
    "import numpy as np\n",
    "from numpy import mean, std, median\n",
    "from sklearn.model_selection import KFold\n",
    "from sklearn.model_selection import cross_val_score,  train_test_split, RepeatedStratifiedKFold, GridSearchCV\n",
    "from sklearn.ensemble import RandomForestClassifier\n",
    "from sklearn.metrics import balanced_accuracy_score, make_scorer, classification_report, recall_score,r2_score, accuracy_score, cohen_kappa_score, classification_report, confusion_matrix, precision_score,f1_score \n",
    "from sklearn.model_selection import cross_validate, cross_val_predict, cross_val_score, KFold, StratifiedKFold \n",
    "from imblearn.pipeline import Pipeline \n",
    "from imblearn.pipeline import make_pipeline as imbpipeline\n",
    "from sklearn.pipeline import make_pipeline\n",
    "from imblearn.over_sampling import SMOTE, ADASYN\n",
    "import scikitplot as skplt\n",
    "from sklearn.preprocessing import StandardScaler, MinMaxScaler\n",
    "import matplotlib.pyplot as plt"
   ]
  },
  {
   "cell_type": "code",
   "execution_count": 38,
   "id": "048636cb-020a-49ae-a2c7-81e2e5647d90",
   "metadata": {},
   "outputs": [],
   "source": [
    "#Random seed used in R was 7\n",
    "random_seed=7"
   ]
  },
  {
   "cell_type": "code",
   "execution_count": 39,
   "id": "2585981b-20e0-4522-bd8a-df99b67fa755",
   "metadata": {},
   "outputs": [],
   "source": [
    "#read input data\n",
    "#data=pd.read_csv('GS_majority_vote.csv') #all 986 synsets\n",
    "data=pd.read_csv('GS_All_Agreed.csv') #839 synsets where all annotators agree\n",
    "#data=pd.read_csv('GS_not_agreed_synsets.csv') #synsets where annotators do not agree"
   ]
  },
  {
   "cell_type": "code",
   "execution_count": 40,
   "id": "72588dae-27e5-4a70-8caa-b2c9a69908f4",
   "metadata": {},
   "outputs": [],
   "source": [
    "d_tools=pd.DataFrame(data.loc[data['domain_x']=='tool'])\n",
    "d_fruit=pd.DataFrame(data.loc[data['domain_x']=='fruit'])\n",
    "d_music=pd.DataFrame(data.loc[data['domain_x']=='music'])\n",
    "d_furn=pd.DataFrame(data.loc[data['domain_x']=='furn'])\n",
    "d_garm=pd.DataFrame(data.loc[data['domain_x']=='garm'])"
   ]
  },
  {
   "cell_type": "code",
   "execution_count": 41,
   "id": "0b8b1ab9-7918-4c8b-9eac-fbc46b0f869d",
   "metadata": {},
   "outputs": [
    {
     "data": {
      "text/plain": [
       "241"
      ]
     },
     "execution_count": 41,
     "metadata": {},
     "output_type": "execute_result"
    }
   ],
   "source": [
    "len(d_garm)"
   ]
  },
  {
   "cell_type": "code",
   "execution_count": 5,
   "id": "e6e6298f-e2c6-4c00-b476-57ea72eed5d9",
   "metadata": {
    "tags": []
   },
   "outputs": [],
   "source": [
    "#list(data)"
   ]
  },
  {
   "cell_type": "code",
   "execution_count": 6,
   "id": "ebc75a27-affa-46ca-91bc-ecee7f7a1364",
   "metadata": {},
   "outputs": [],
   "source": [
    "#set features and target variable \n",
    "# 'ngrams_last_mean', 'CHILDES_Sum_Rel','CABNC_per100,000', 'KBNC_Sum','BNC_sum'\n",
    "features=[ \n",
    " 'CHILDES_Sum_Rel',\n",
    "    'KBNC_Sum',\n",
    "    'minwordlength_x',\n",
    " 'nroflemmas_x',\n",
    "    'polyscore_max_x',\n",
    "    'nrpartrels_normalised_x',\n",
    "    'nrhypos_x',\n",
    "    'glosslength_normalised_x',\n",
    "    'depthfromtopsynset_normalised_x',\n",
    "    'nrdirhypers_x',\n",
    "   ]\n",
    "target=['vote_x']"
   ]
  },
  {
   "cell_type": "code",
   "execution_count": 7,
   "id": "31c0b849-b6a7-465e-9c61-f8c05b8dff84",
   "metadata": {
    "tags": []
   },
   "outputs": [],
   "source": [
    "#X=np.array(data[features])\n",
    "#y= np.array(data[target] )\n",
    "#X=np.array(fmt[features])\n",
    "#y= np.array(fmt[target] )\n",
    "#X = np.array(d_music[features])\n",
    "#y = np.array(d_music[target])\n",
    "X=np.array(d_tools[features])\n",
    "y=np.array(d_tools[target])\n",
    "#X=np.array(d_fruit[features])\n",
    "#y= np.array(d_fruit[target])\n",
    "#X=np.array(d_furn[features])\n",
    "#y= np.array(d_furn[target])\n",
    "#X=np.array(d_garm[features])\n",
    "#y= np.array(d_garm[target])"
   ]
  },
  {
   "cell_type": "code",
   "execution_count": 8,
   "id": "d4e90634-e883-4030-87f7-501b170e39dd",
   "metadata": {
    "tags": []
   },
   "outputs": [
    {
     "name": "stdout",
     "output_type": "stream",
     "text": [
      "TRAIN: [  0   1   2   3   4   5   6   7   8   9  10  11  12  14  15  16  17  18\n",
      "  19  20  21  22  23  24  25  26  27  28  29  30  31  32  34  35  36  37\n",
      "  38  39  40  41  42  43  44  45  46  47  49  50  51  53  54  55  56  57\n",
      "  58  59  60  61  63  64  65  66  67  68  69  70  71  73  75  76  77  78\n",
      "  80  82  83  85  86  87  88  89  90  91  92  93  94  95  96  97  98 100\n",
      " 101 103 104 106 107 108 109 111 112 113 114 115 116 117 118 119 120 121\n",
      " 122 123 124 125 126 127 128 129 130 131 132] TEST: [ 13  33  48  52  62  72  74  79  81  84  99 102 105 110]\n",
      "TRAIN: [  0   1   2   3   4   5   6   7   8   9  11  12  13  14  15  16  17  19\n",
      "  20  21  22  24  27  28  29  30  32  33  34  36  37  38  39  40  41  42\n",
      "  43  44  45  46  47  48  49  50  51  52  54  55  56  57  58  59  60  61\n",
      "  62  63  64  65  66  67  68  69  70  72  73  74  75  76  77  79  81  82\n",
      "  83  84  85  86  87  88  89  90  91  92  93  94  95  96  98  99 100 101\n",
      " 102 103 104 105 106 107 108 109 110 111 112 113 114 115 116 118 119 120\n",
      " 121 122 123 124 125 126 127 128 129 130 132] TEST: [ 10  18  23  25  26  31  35  53  71  78  80  97 117 131]\n",
      "TRAIN: [  0   1   2   3   4   5   6   7   8   9  10  11  13  14  16  17  18  19\n",
      "  20  21  22  23  24  25  26  27  28  29  30  31  32  33  34  35  36  37\n",
      "  39  40  41  42  43  44  45  46  48  49  50  51  52  53  55  56  57  58\n",
      "  59  60  61  62  63  64  65  67  70  71  72  73  74  75  76  77  78  79\n",
      "  80  81  82  83  84  85  86  87  88  89  90  92  93  94  95  96  97  98\n",
      "  99 100 101 102 103 104 105 106 107 108 109 110 111 112 113 114 115 116\n",
      " 117 119 121 123 124 125 126 128 129 130 131] TEST: [ 12  15  38  47  54  66  68  69  91 118 120 122 127 132]\n",
      "TRAIN: [  0   1   2   3   4   5   6   7   8   9  10  11  12  13  14  15  16  17\n",
      "  18  19  20  21  22  23  24  25  26  28  29  30  31  33  34  35  36  37\n",
      "  38  39  41  42  43  44  45  46  47  48  50  52  53  54  55  56  57  58\n",
      "  59  62  63  64  66  67  68  69  70  71  72  73  74  75  76  77  78  79\n",
      "  80  81  84  85  87  88  89  90  91  92  93  94  95  96  97  98  99 100\n",
      " 101 102 103 104 105 106 107 108 110 111 113 114 115 116 117 118 119 120\n",
      " 121 122 123 124 125 126 127 128 129 130 131 132] TEST: [ 27  32  40  49  51  60  61  65  82  83  86 109 112]\n",
      "TRAIN: [  1   2   3   4   7   8   9  10  12  13  14  15  16  17  18  19  20  21\n",
      "  22  23  24  25  26  27  29  31  32  33  34  35  36  37  38  39  40  41\n",
      "  42  43  44  45  46  47  48  49  50  51  52  53  54  55  56  57  58  59\n",
      "  60  61  62  63  64  65  66  67  68  69  71  72  73  74  75  76  77  78\n",
      "  79  80  81  82  83  84  85  86  87  88  90  91  92  93  94  95  96  97\n",
      "  98  99 100 101 102 105 107 108 109 110 111 112 113 114 115 116 117 118\n",
      " 119 120 121 122 123 124 125 126 127 129 131 132] TEST: [  0   5   6  11  28  30  70  89 103 104 106 128 130]\n",
      "TRAIN: [  0   1   4   5   6   7   8   9  10  11  12  13  14  15  16  17  18  19\n",
      "  20  21  22  23  24  25  26  27  28  29  30  31  32  33  34  35  36  37\n",
      "  38  40  41  42  43  44  47  48  49  50  51  52  53  54  56  57  58  59\n",
      "  60  61  62  63  64  65  66  67  68  69  70  71  72  73  74  75  76  77\n",
      "  78  79  80  81  82  83  84  85  86  89  90  91  93  95  97  98  99 101\n",
      " 102 103 104 105 106 107 108 109 110 111 112 113 114 115 116 117 118 120\n",
      " 121 122 123 124 125 126 127 128 129 130 131 132] TEST: [  2   3  39  45  46  55  87  88  92  94  96 100 119]\n",
      "TRAIN: [  0   1   2   3   4   5   6   7  10  11  12  13  15  16  17  18  19  20\n",
      "  21  22  23  24  25  26  27  28  29  30  31  32  33  35  36  37  38  39\n",
      "  40  41  42  43  44  45  46  47  48  49  50  51  52  53  54  55  57  58\n",
      "  59  60  61  62  63  64  65  66  67  68  69  70  71  72  74  75  77  78\n",
      "  79  80  81  82  83  84  85  86  87  88  89  90  91  92  94  95  96  97\n",
      "  98  99 100 102 103 104 105 106 107 108 109 110 111 112 113 114 116 117\n",
      " 118 119 120 121 122 123 126 127 128 130 131 132] TEST: [  8   9  14  34  56  73  76  93 101 115 124 125 129]\n",
      "TRAIN: [  0   2   3   4   5   6   7   8   9  10  11  12  13  14  15  16  18  19\n",
      "  20  21  22  23  25  26  27  28  29  30  31  32  33  34  35  37  38  39\n",
      "  40  42  43  44  45  46  47  48  49  51  52  53  54  55  56  58  60  61\n",
      "  62  63  64  65  66  68  69  70  71  72  73  74  75  76  77  78  79  80\n",
      "  81  82  83  84  86  87  88  89  91  92  93  94  95  96  97  98  99 100\n",
      " 101 102 103 104 105 106 107 108 109 110 111 112 114 115 116 117 118 119\n",
      " 120 121 122 124 125 126 127 128 129 130 131 132] TEST: [  1  17  24  36  41  50  57  59  67  85  90 113 123]\n",
      "TRAIN: [  0   1   2   3   5   6   7   8   9  10  11  12  13  14  15  16  17  18\n",
      "  19  22  23  24  25  26  27  28  29  30  31  32  33  34  35  36  38  39\n",
      "  40  41  44  45  46  47  48  49  50  51  52  53  54  55  56  57  58  59\n",
      "  60  61  62  63  65  66  67  68  69  70  71  72  73  74  76  77  78  79\n",
      "  80  81  82  83  84  85  86  87  88  89  90  91  92  93  94  96  97  98\n",
      "  99 100 101 102 103 104 105 106 108 109 110 112 113 115 116 117 118 119\n",
      " 120 122 123 124 125 126 127 128 129 130 131 132] TEST: [  4  20  21  37  42  43  64  75  95 107 111 114 121]\n",
      "TRAIN: [  0   1   2   3   4   5   6   8   9  10  11  12  13  14  15  17  18  20\n",
      "  21  23  24  25  26  27  28  30  31  32  33  34  35  36  37  38  39  40\n",
      "  41  42  43  45  46  47  48  49  50  51  52  53  54  55  56  57  59  60\n",
      "  61  62  64  65  66  67  68  69  70  71  72  73  74  75  76  78  79  80\n",
      "  81  82  83  84  85  86  87  88  89  90  91  92  93  94  95  96  97  99\n",
      " 100 101 102 103 104 105 106 107 109 110 111 112 113 114 115 117 118 119\n",
      " 120 121 122 123 124 125 127 128 129 130 131 132] TEST: [  7  16  19  22  29  44  58  63  77  98 108 116 126]\n"
     ]
    }
   ],
   "source": [
    "skf = StratifiedKFold(n_splits=10, shuffle=True, random_state=random_seed)\n",
    "skf.get_n_splits(X, y)\n",
    "for train_index, test_index in skf.split(X, y):\n",
    "    print(\"TRAIN:\", train_index, \"TEST:\", test_index)\n",
    "    X_train, X_test = X[train_index], X[test_index]\n",
    "    y_train, y_test = y[train_index], y[test_index]"
   ]
  },
  {
   "cell_type": "code",
   "execution_count": 9,
   "id": "323182d3-86cb-47c6-ac19-fbc9400c033e",
   "metadata": {
    "tags": []
   },
   "outputs": [
    {
     "name": "stdout",
     "output_type": "stream",
     "text": [
      "Shape of oversampled data: (196, 10)\n",
      "Shape of Y: (196,)\n"
     ]
    }
   ],
   "source": [
    "#run SMOTE algorithm to deal with class imbalances - make basic class same amount as non-basic\n",
    "sm = SMOTE(random_state=random_seed, k_neighbors=2)\n",
    "X_train, y_train = sm.fit_resample(X_train, y_train)\n",
    "print ('Shape of oversampled data: {}'.format(X_train.shape))\n",
    "print ('Shape of Y: {}'.format(y_train.shape))"
   ]
  },
  {
   "cell_type": "code",
   "execution_count": 10,
   "id": "0bcc3f4a-a7d7-4a74-bff3-c00330377282",
   "metadata": {},
   "outputs": [],
   "source": [
    "#define model and fit oversampled training sets\n",
    "rf = RandomForestClassifier(random_state=random_seed, max_features='sqrt', n_estimators=500, oob_score=True, criterion='gini', bootstrap=True).fit(X_train, y_train.ravel())"
   ]
  },
  {
   "cell_type": "code",
   "execution_count": 11,
   "id": "6219e679-4f5b-43e3-a3ec-cd7634c66a6f",
   "metadata": {},
   "outputs": [],
   "source": [
    "kappa_scorer=make_scorer(cohen_kappa_score)"
   ]
  },
  {
   "cell_type": "code",
   "execution_count": 12,
   "id": "93ce3682-9861-4aaa-a3fe-5be2277c28ba",
   "metadata": {},
   "outputs": [],
   "source": [
    "pipeline=imbpipeline(sm, rf)"
   ]
  },
  {
   "cell_type": "code",
   "execution_count": 13,
   "id": "264bab76-afe4-4591-b77a-35519f248141",
   "metadata": {},
   "outputs": [],
   "source": [
    "kappa=[]"
   ]
  },
  {
   "cell_type": "code",
   "execution_count": 14,
   "id": "b646d127-a686-4777-b06e-667fc3d3ba36",
   "metadata": {
    "tags": []
   },
   "outputs": [
    {
     "name": "stdout",
     "output_type": "stream",
     "text": [
      "[0.81081081 0.57575758 0.81081081 1.         0.75471698 1.\n",
      " 1.         0.62857143 0.56666667 0.75471698]\n",
      "Mean Kappa score: 0.790 (+/- 0.321)\n"
     ]
    }
   ],
   "source": [
    "#get cohen kappa scores for 10 fold cross validation\n",
    "kappa_scores=cross_val_score(pipeline, X, y.ravel(), scoring=kappa_scorer, cv=skf)\n",
    "kappa.append(kappa_scores)\n",
    "print(kappa_scores)\n",
    "print(\"Mean Kappa score: %0.3f (+/- %0.3f)\" % (kappa_scores.mean(), kappa_scores.std()*2))"
   ]
  },
  {
   "cell_type": "code",
   "execution_count": 15,
   "id": "b6c7bc39-41ca-4390-a798-b0cddb37e23b",
   "metadata": {},
   "outputs": [
    {
     "data": {
      "text/plain": [
       "0.7827638959714431"
      ]
     },
     "execution_count": 15,
     "metadata": {},
     "output_type": "execute_result"
    }
   ],
   "source": [
    "median=np.median(kappa)\n",
    "median"
   ]
  },
  {
   "cell_type": "code",
   "execution_count": 16,
   "id": "9605d661-fe22-4ae7-84db-958f135e748b",
   "metadata": {},
   "outputs": [],
   "source": [
    "df=pd.DataFrame()\n",
    "df['Tools']=kappa_scores\n",
    "quart=df['Tools'].describe()\n",
    "df1=pd.DataFrame(quart).transpose()"
   ]
  },
  {
   "cell_type": "code",
   "execution_count": 17,
   "id": "a1732b84-01ff-45d0-bc92-c3fab00dfd57",
   "metadata": {},
   "outputs": [
    {
     "data": {
      "text/html": [
       "<div>\n",
       "<style scoped>\n",
       "    .dataframe tbody tr th:only-of-type {\n",
       "        vertical-align: middle;\n",
       "    }\n",
       "\n",
       "    .dataframe tbody tr th {\n",
       "        vertical-align: top;\n",
       "    }\n",
       "\n",
       "    .dataframe thead th {\n",
       "        text-align: right;\n",
       "    }\n",
       "</style>\n",
       "<table border=\"1\" class=\"dataframe\">\n",
       "  <thead>\n",
       "    <tr style=\"text-align: right;\">\n",
       "      <th></th>\n",
       "      <th>count</th>\n",
       "      <th>mean</th>\n",
       "      <th>std</th>\n",
       "      <th>min</th>\n",
       "      <th>25%</th>\n",
       "      <th>50%</th>\n",
       "      <th>75%</th>\n",
       "      <th>max</th>\n",
       "    </tr>\n",
       "  </thead>\n",
       "  <tbody>\n",
       "    <tr>\n",
       "      <th>Tools</th>\n",
       "      <td>10.0</td>\n",
       "      <td>0.790205</td>\n",
       "      <td>0.169146</td>\n",
       "      <td>0.566667</td>\n",
       "      <td>0.660108</td>\n",
       "      <td>0.782764</td>\n",
       "      <td>0.952703</td>\n",
       "      <td>1.0</td>\n",
       "    </tr>\n",
       "  </tbody>\n",
       "</table>\n",
       "</div>"
      ],
      "text/plain": [
       "       count      mean       std       min       25%       50%       75%  max\n",
       "Tools   10.0  0.790205  0.169146  0.566667  0.660108  0.782764  0.952703  1.0"
      ]
     },
     "execution_count": 17,
     "metadata": {},
     "output_type": "execute_result"
    }
   ],
   "source": [
    "df1"
   ]
  },
  {
   "cell_type": "code",
   "execution_count": 18,
   "id": "e8cf27fb-9adb-48a6-bd82-0e5b1ae9c2ff",
   "metadata": {},
   "outputs": [],
   "source": [
    "y_pred = pipeline.predict(X_test)"
   ]
  },
  {
   "cell_type": "code",
   "execution_count": 19,
   "id": "54062819-a061-4916-8c23-707ac3f3508e",
   "metadata": {},
   "outputs": [],
   "source": [
    "#predict test set from cross val splits\n",
    "cr=(classification_report(y_test,y_pred, output_dict=True))\n",
    "report=pd.DataFrame(cr).transpose()\n",
    "report\n",
    "cr=(classification_report(y_test,y_pred, output_dict=True))\n",
    "ck=(cohen_kappa_score(y_test, y_pred))\n",
    "ba=(balanced_accuracy_score(y_test, y_pred))\n",
    "report=pd.DataFrame(cr).transpose()\n",
    "report['Cohen Kappa']=ck\n",
    "report['Balanced Accuracy']=ba"
   ]
  },
  {
   "cell_type": "code",
   "execution_count": 20,
   "id": "a59b96cd-c921-4a08-9f61-42a4eb969a9c",
   "metadata": {},
   "outputs": [
    {
     "data": {
      "text/html": [
       "<div>\n",
       "<style scoped>\n",
       "    .dataframe tbody tr th:only-of-type {\n",
       "        vertical-align: middle;\n",
       "    }\n",
       "\n",
       "    .dataframe tbody tr th {\n",
       "        vertical-align: top;\n",
       "    }\n",
       "\n",
       "    .dataframe thead th {\n",
       "        text-align: right;\n",
       "    }\n",
       "</style>\n",
       "<table border=\"1\" class=\"dataframe\">\n",
       "  <thead>\n",
       "    <tr style=\"text-align: right;\">\n",
       "      <th></th>\n",
       "      <th>precision</th>\n",
       "      <th>recall</th>\n",
       "      <th>f1-score</th>\n",
       "      <th>support</th>\n",
       "      <th>Cohen Kappa</th>\n",
       "      <th>Balanced Accuracy</th>\n",
       "    </tr>\n",
       "  </thead>\n",
       "  <tbody>\n",
       "    <tr>\n",
       "      <th>b</th>\n",
       "      <td>1.000000</td>\n",
       "      <td>0.666667</td>\n",
       "      <td>0.800000</td>\n",
       "      <td>3.000000</td>\n",
       "      <td>0.754717</td>\n",
       "      <td>0.833333</td>\n",
       "    </tr>\n",
       "    <tr>\n",
       "      <th>nb</th>\n",
       "      <td>0.909091</td>\n",
       "      <td>1.000000</td>\n",
       "      <td>0.952381</td>\n",
       "      <td>10.000000</td>\n",
       "      <td>0.754717</td>\n",
       "      <td>0.833333</td>\n",
       "    </tr>\n",
       "    <tr>\n",
       "      <th>accuracy</th>\n",
       "      <td>0.923077</td>\n",
       "      <td>0.923077</td>\n",
       "      <td>0.923077</td>\n",
       "      <td>0.923077</td>\n",
       "      <td>0.754717</td>\n",
       "      <td>0.833333</td>\n",
       "    </tr>\n",
       "    <tr>\n",
       "      <th>macro avg</th>\n",
       "      <td>0.954545</td>\n",
       "      <td>0.833333</td>\n",
       "      <td>0.876190</td>\n",
       "      <td>13.000000</td>\n",
       "      <td>0.754717</td>\n",
       "      <td>0.833333</td>\n",
       "    </tr>\n",
       "    <tr>\n",
       "      <th>weighted avg</th>\n",
       "      <td>0.930070</td>\n",
       "      <td>0.923077</td>\n",
       "      <td>0.917216</td>\n",
       "      <td>13.000000</td>\n",
       "      <td>0.754717</td>\n",
       "      <td>0.833333</td>\n",
       "    </tr>\n",
       "  </tbody>\n",
       "</table>\n",
       "</div>"
      ],
      "text/plain": [
       "              precision    recall  f1-score    support  Cohen Kappa  \\\n",
       "b              1.000000  0.666667  0.800000   3.000000     0.754717   \n",
       "nb             0.909091  1.000000  0.952381  10.000000     0.754717   \n",
       "accuracy       0.923077  0.923077  0.923077   0.923077     0.754717   \n",
       "macro avg      0.954545  0.833333  0.876190  13.000000     0.754717   \n",
       "weighted avg   0.930070  0.923077  0.917216  13.000000     0.754717   \n",
       "\n",
       "              Balanced Accuracy  \n",
       "b                      0.833333  \n",
       "nb                     0.833333  \n",
       "accuracy               0.833333  \n",
       "macro avg              0.833333  \n",
       "weighted avg           0.833333  "
      ]
     },
     "execution_count": 20,
     "metadata": {},
     "output_type": "execute_result"
    }
   ],
   "source": [
    "report"
   ]
  },
  {
   "cell_type": "code",
   "execution_count": 21,
   "id": "e4837cea-f74a-412e-adb6-21d99583faf4",
   "metadata": {},
   "outputs": [
    {
     "name": "stdout",
     "output_type": "stream",
     "text": [
      "Feature: 0, Score: 0.09344\n",
      "Feature: 1, Score: 0.06779\n",
      "Feature: 2, Score: 0.06983\n",
      "Feature: 3, Score: 0.02373\n",
      "Feature: 4, Score: 0.07695\n",
      "Feature: 5, Score: 0.01038\n",
      "Feature: 6, Score: 0.12215\n",
      "Feature: 7, Score: 0.09749\n",
      "Feature: 8, Score: 0.42381\n",
      "Feature: 9, Score: 0.01442\n"
     ]
    },
    {
     "data": {
      "image/png": "[encoded data removed]",
      "text/plain": [
       "<Figure size 432x288 with 1 Axes>"
      ]
     },
     "metadata": {
      "needs_background": "light"
     },
     "output_type": "display_data"
    }
   ],
   "source": [
    "# get feature importance\n",
    "importance = rf.feature_importances_\n",
    "# summarize feature importance\n",
    "for i,v in enumerate(importance):\n",
    "\tprint('Feature: %0d, Score: %.5f' % (i,v))\n",
    "# plot feature importance\n",
    "fig1=plt.figure()\n",
    "a=plt.bar([x for x in range(len(importance))], importance)\n",
    "#plt.savefig('ck/feature_importance_global.png')\n",
    "plt.show()"
   ]
  },
  {
   "cell_type": "code",
   "execution_count": 22,
   "id": "459a72a3-e022-48a7-823f-4dfcb5dc52fe",
   "metadata": {},
   "outputs": [],
   "source": [
    "imp=[]\n",
    "for i,v in enumerate(importance):\n",
    "    imp.append(v)"
   ]
  },
  {
   "cell_type": "code",
   "execution_count": 23,
   "id": "0a07d0b2-4bb2-49cc-839f-cb149139b7b5",
   "metadata": {},
   "outputs": [],
   "source": [
    "df4=pd.DataFrame(imp)\n",
    "df4['Features']=features\n",
    "df4=df4.rename(columns={0:'Importance'})"
   ]
  },
  {
   "cell_type": "code",
   "execution_count": 24,
   "id": "b7bd70eb-adf2-4f8a-87b7-8ccff6c52839",
   "metadata": {},
   "outputs": [],
   "source": [
    "df5=df4[['Features', 'Importance']].sort_values('Importance',ascending=False)"
   ]
  },
  {
   "cell_type": "code",
   "execution_count": 25,
   "id": "2f2a84e6-3a17-4dea-b6ea-f92008aa5c74",
   "metadata": {},
   "outputs": [],
   "source": [
    "df5=df5.rename(columns={'index':'Rank'})"
   ]
  },
  {
   "cell_type": "code",
   "execution_count": 26,
   "id": "4c9ad61a-d3b5-45c9-8cf2-22bf2574aaa5",
   "metadata": {},
   "outputs": [
    {
     "data": {
      "text/html": [
       "<div>\n",
       "<style scoped>\n",
       "    .dataframe tbody tr th:only-of-type {\n",
       "        vertical-align: middle;\n",
       "    }\n",
       "\n",
       "    .dataframe tbody tr th {\n",
       "        vertical-align: top;\n",
       "    }\n",
       "\n",
       "    .dataframe thead th {\n",
       "        text-align: right;\n",
       "    }\n",
       "</style>\n",
       "<table border=\"1\" class=\"dataframe\">\n",
       "  <thead>\n",
       "    <tr style=\"text-align: right;\">\n",
       "      <th></th>\n",
       "      <th>Features</th>\n",
       "      <th>Importance</th>\n",
       "    </tr>\n",
       "  </thead>\n",
       "  <tbody>\n",
       "    <tr>\n",
       "      <th>8</th>\n",
       "      <td>depthfromtopsynset_normalised_x</td>\n",
       "      <td>0.423814</td>\n",
       "    </tr>\n",
       "    <tr>\n",
       "      <th>6</th>\n",
       "      <td>nrhypos_x</td>\n",
       "      <td>0.122155</td>\n",
       "    </tr>\n",
       "    <tr>\n",
       "      <th>7</th>\n",
       "      <td>glosslength_normalised_x</td>\n",
       "      <td>0.097494</td>\n",
       "    </tr>\n",
       "    <tr>\n",
       "      <th>0</th>\n",
       "      <td>CHILDES_Sum_Rel</td>\n",
       "      <td>0.093439</td>\n",
       "    </tr>\n",
       "    <tr>\n",
       "      <th>4</th>\n",
       "      <td>polyscore_max_x</td>\n",
       "      <td>0.076946</td>\n",
       "    </tr>\n",
       "    <tr>\n",
       "      <th>2</th>\n",
       "      <td>minwordlength_x</td>\n",
       "      <td>0.069835</td>\n",
       "    </tr>\n",
       "    <tr>\n",
       "      <th>1</th>\n",
       "      <td>KBNC_Sum</td>\n",
       "      <td>0.067788</td>\n",
       "    </tr>\n",
       "    <tr>\n",
       "      <th>3</th>\n",
       "      <td>nroflemmas_x</td>\n",
       "      <td>0.023726</td>\n",
       "    </tr>\n",
       "    <tr>\n",
       "      <th>9</th>\n",
       "      <td>nrdirhypers_x</td>\n",
       "      <td>0.014422</td>\n",
       "    </tr>\n",
       "    <tr>\n",
       "      <th>5</th>\n",
       "      <td>nrpartrels_normalised_x</td>\n",
       "      <td>0.010381</td>\n",
       "    </tr>\n",
       "  </tbody>\n",
       "</table>\n",
       "</div>"
      ],
      "text/plain": [
       "                          Features  Importance\n",
       "8  depthfromtopsynset_normalised_x    0.423814\n",
       "6                        nrhypos_x    0.122155\n",
       "7         glosslength_normalised_x    0.097494\n",
       "0                  CHILDES_Sum_Rel    0.093439\n",
       "4                  polyscore_max_x    0.076946\n",
       "2                  minwordlength_x    0.069835\n",
       "1                         KBNC_Sum    0.067788\n",
       "3                     nroflemmas_x    0.023726\n",
       "9                    nrdirhypers_x    0.014422\n",
       "5          nrpartrels_normalised_x    0.010381"
      ]
     },
     "execution_count": 26,
     "metadata": {},
     "output_type": "execute_result"
    }
   ],
   "source": [
    "df5"
   ]
  },
  {
   "cell_type": "code",
   "execution_count": 27,
   "id": "48895ba3-02c3-43bf-b7c1-5e930b67d3a0",
   "metadata": {},
   "outputs": [],
   "source": [
    "df1.to_csv('results/features/combined/cv_ck_kids_tools.csv')"
   ]
  },
  {
   "cell_type": "code",
   "execution_count": 28,
   "id": "a568b41f-82b4-4ac3-8bae-a76c0c2b5809",
   "metadata": {},
   "outputs": [],
   "source": [
    "report.to_csv('results/features/combined/CR_kids_tools.csv')"
   ]
  },
  {
   "cell_type": "code",
   "execution_count": 29,
   "id": "c0a2459e-643e-4b04-a1b2-76ac901248cc",
   "metadata": {},
   "outputs": [],
   "source": [
    "df5.to_csv('results/features/combined/FI_kids_tools.csv')"
   ]
  },
  {
   "cell_type": "code",
   "execution_count": 30,
   "id": "5ed01ec1-d627-4be5-9b70-06b4c7bdae14",
   "metadata": {},
   "outputs": [],
   "source": [
    "#_wNG"
   ]
  },
  {
   "cell_type": "code",
   "execution_count": 31,
   "id": "86346e74-67a3-4e43-a4a9-106b50124964",
   "metadata": {},
   "outputs": [],
   "source": [
    "res=pd.DataFrame(y_pred)"
   ]
  },
  {
   "cell_type": "code",
   "execution_count": 32,
   "id": "9b787c2b-77da-4e03-b5d1-e58fe9b68aa8",
   "metadata": {},
   "outputs": [
    {
     "data": {
      "text/plain": [
       "array([[1.75555880e-17, 1.00000000e-10, 5.00000000e+00, 2.00000000e+00,\n",
       "        3.00000000e+00, 0.00000000e+00, 0.00000000e+00, 1.65823037e+00,\n",
       "        9.11612903e-01, 1.00000000e+00],\n",
       "       [1.75555880e-17, 1.00000000e-10, 1.90000000e+01, 1.00000000e+00,\n",
       "        1.00000000e+00, 0.00000000e+00, 0.00000000e+00, 4.69310482e-01,\n",
       "        1.01290323e+00, 1.00000000e+00],\n",
       "       [1.75555880e-17, 1.00000000e-10, 8.00000000e+00, 2.00000000e+00,\n",
       "        1.00000000e+00, 0.00000000e+00, 0.00000000e+00, 9.69908330e-01,\n",
       "        1.01290323e+00, 1.00000000e+00],\n",
       "       [1.75555880e-17, 1.00000000e-10, 1.80000000e+01, 1.00000000e+00,\n",
       "        1.00000000e+00, 0.00000000e+00, 0.00000000e+00, 1.15763252e+00,\n",
       "        1.11419355e+00, 1.00000000e+00],\n",
       "       [1.75555880e-17, 1.00000000e-10, 1.30000000e+01, 2.00000000e+00,\n",
       "        1.00000000e+00, 0.00000000e+00, 0.00000000e+00, 1.09505779e+00,\n",
       "        1.01290323e+00, 1.00000000e+00],\n",
       "       [1.75555880e-17, 1.00000000e-10, 2.00000000e+01, 1.00000000e+00,\n",
       "        1.00000000e+00, 0.00000000e+00, 0.00000000e+00, 1.36100040e+00,\n",
       "        1.01290323e+00, 1.00000000e+00],\n",
       "       [1.75555880e-17, 1.00000000e-10, 1.00000000e+01, 1.00000000e+00,\n",
       "        1.00000000e+00, 0.00000000e+00, 0.00000000e+00, 6.10103627e-01,\n",
       "        1.01290323e+00, 1.00000000e+00],\n",
       "       [1.75555880e-17, 1.00000000e-10, 1.10000000e+01, 2.00000000e+00,\n",
       "        1.00000000e+00, 0.00000000e+00, 0.00000000e+00, 1.42357513e+00,\n",
       "        1.01290323e+00, 1.00000000e+00],\n",
       "       [1.75555880e-17, 1.00000000e-10, 1.10000000e+01, 2.00000000e+00,\n",
       "        1.00000000e+00, 0.00000000e+00, 3.00000000e+00, 1.67387405e+00,\n",
       "        1.11419355e+00, 1.00000000e+00],\n",
       "       [2.00835927e-04, 8.16000000e+02, 3.00000000e+00, 1.00000000e+00,\n",
       "        2.80000000e+01, 1.57000000e+01, 1.60000000e+01, 6.88322041e-01,\n",
       "        9.11612903e-01, 1.00000000e+00],\n",
       "       [9.65557341e-06, 3.70000000e+01, 5.00000000e+00, 1.00000000e+00,\n",
       "        1.00000000e+01, 0.00000000e+00, 0.00000000e+00, 5.63172579e-01,\n",
       "        1.01290323e+00, 1.00000000e+00],\n",
       "       [1.75555880e-17, 1.00000000e-10, 1.00000000e+01, 1.00000000e+00,\n",
       "        1.00000000e+00, 0.00000000e+00, 0.00000000e+00, 2.22140295e+00,\n",
       "        1.01290323e+00, 1.00000000e+00],\n",
       "       [1.75555880e-17, 1.00000000e+00, 9.00000000e+00, 1.00000000e+00,\n",
       "        1.00000000e+00, 0.00000000e+00, 0.00000000e+00, 1.45486250e+00,\n",
       "        8.10322581e-01, 2.00000000e+00]])"
      ]
     },
     "execution_count": 32,
     "metadata": {},
     "output_type": "execute_result"
    }
   ],
   "source": [
    "X_test"
   ]
  },
  {
   "cell_type": "code",
   "execution_count": 33,
   "id": "955b88a0-c760-4646-a7aa-308aba22e8fd",
   "metadata": {},
   "outputs": [
    {
     "data": {
      "text/plain": [
       "array([[1.75555880e-17, 1.00000000e-10, 5.00000000e+00, 2.00000000e+00,\n",
       "        3.00000000e+00, 0.00000000e+00, 0.00000000e+00, 1.65823037e+00,\n",
       "        9.11612903e-01, 1.00000000e+00],\n",
       "       [1.75555880e-17, 1.00000000e-10, 1.90000000e+01, 1.00000000e+00,\n",
       "        1.00000000e+00, 0.00000000e+00, 0.00000000e+00, 4.69310482e-01,\n",
       "        1.01290323e+00, 1.00000000e+00],\n",
       "       [1.75555880e-17, 1.00000000e-10, 8.00000000e+00, 2.00000000e+00,\n",
       "        1.00000000e+00, 0.00000000e+00, 0.00000000e+00, 9.69908330e-01,\n",
       "        1.01290323e+00, 1.00000000e+00],\n",
       "       [1.75555880e-17, 1.00000000e-10, 1.80000000e+01, 1.00000000e+00,\n",
       "        1.00000000e+00, 0.00000000e+00, 0.00000000e+00, 1.15763252e+00,\n",
       "        1.11419355e+00, 1.00000000e+00],\n",
       "       [1.75555880e-17, 1.00000000e-10, 1.30000000e+01, 2.00000000e+00,\n",
       "        1.00000000e+00, 0.00000000e+00, 0.00000000e+00, 1.09505779e+00,\n",
       "        1.01290323e+00, 1.00000000e+00],\n",
       "       [1.75555880e-17, 1.00000000e-10, 2.00000000e+01, 1.00000000e+00,\n",
       "        1.00000000e+00, 0.00000000e+00, 0.00000000e+00, 1.36100040e+00,\n",
       "        1.01290323e+00, 1.00000000e+00],\n",
       "       [1.75555880e-17, 1.00000000e-10, 1.00000000e+01, 1.00000000e+00,\n",
       "        1.00000000e+00, 0.00000000e+00, 0.00000000e+00, 6.10103627e-01,\n",
       "        1.01290323e+00, 1.00000000e+00],\n",
       "       [1.75555880e-17, 1.00000000e-10, 1.10000000e+01, 2.00000000e+00,\n",
       "        1.00000000e+00, 0.00000000e+00, 0.00000000e+00, 1.42357513e+00,\n",
       "        1.01290323e+00, 1.00000000e+00],\n",
       "       [1.75555880e-17, 1.00000000e-10, 1.10000000e+01, 2.00000000e+00,\n",
       "        1.00000000e+00, 0.00000000e+00, 3.00000000e+00, 1.67387405e+00,\n",
       "        1.11419355e+00, 1.00000000e+00],\n",
       "       [2.00835927e-04, 8.16000000e+02, 3.00000000e+00, 1.00000000e+00,\n",
       "        2.80000000e+01, 1.57000000e+01, 1.60000000e+01, 6.88322041e-01,\n",
       "        9.11612903e-01, 1.00000000e+00],\n",
       "       [9.65557341e-06, 3.70000000e+01, 5.00000000e+00, 1.00000000e+00,\n",
       "        1.00000000e+01, 0.00000000e+00, 0.00000000e+00, 5.63172579e-01,\n",
       "        1.01290323e+00, 1.00000000e+00],\n",
       "       [1.75555880e-17, 1.00000000e-10, 1.00000000e+01, 1.00000000e+00,\n",
       "        1.00000000e+00, 0.00000000e+00, 0.00000000e+00, 2.22140295e+00,\n",
       "        1.01290323e+00, 1.00000000e+00],\n",
       "       [1.75555880e-17, 1.00000000e+00, 9.00000000e+00, 1.00000000e+00,\n",
       "        1.00000000e+00, 0.00000000e+00, 0.00000000e+00, 1.45486250e+00,\n",
       "        8.10322581e-01, 2.00000000e+00]])"
      ]
     },
     "execution_count": 33,
     "metadata": {},
     "output_type": "execute_result"
    }
   ],
   "source": [
    "X[test_index]"
   ]
  },
  {
   "cell_type": "code",
   "execution_count": 34,
   "id": "8aae3845-bb19-429f-9881-c7b7e07f6fc6",
   "metadata": {},
   "outputs": [
    {
     "name": "stdout",
     "output_type": "stream",
     "text": [
      "['b' 'nb' 'nb' 'nb' 'nb' 'nb' 'nb' 'nb' 'nb' 'nb' 'nb' 'nb' 'b']\n"
     ]
    }
   ],
   "source": [
    "print(y_pred)"
   ]
  },
  {
   "cell_type": "code",
   "execution_count": 35,
   "id": "b06ab8bd-7918-4b4a-8a04-458f6241e748",
   "metadata": {},
   "outputs": [],
   "source": [
    "res['Synsets']=y_test"
   ]
  },
  {
   "cell_type": "code",
   "execution_count": 36,
   "id": "96b10fad-8a81-4627-917e-fe447021dd87",
   "metadata": {},
   "outputs": [
    {
     "data": {
      "text/html": [
       "<div>\n",
       "<style scoped>\n",
       "    .dataframe tbody tr th:only-of-type {\n",
       "        vertical-align: middle;\n",
       "    }\n",
       "\n",
       "    .dataframe tbody tr th {\n",
       "        vertical-align: top;\n",
       "    }\n",
       "\n",
       "    .dataframe thead th {\n",
       "        text-align: right;\n",
       "    }\n",
       "</style>\n",
       "<table border=\"1\" class=\"dataframe\">\n",
       "  <thead>\n",
       "    <tr style=\"text-align: right;\">\n",
       "      <th></th>\n",
       "      <th>0</th>\n",
       "      <th>Synsets</th>\n",
       "    </tr>\n",
       "  </thead>\n",
       "  <tbody>\n",
       "    <tr>\n",
       "      <th>0</th>\n",
       "      <td>b</td>\n",
       "      <td>b</td>\n",
       "    </tr>\n",
       "    <tr>\n",
       "      <th>1</th>\n",
       "      <td>nb</td>\n",
       "      <td>nb</td>\n",
       "    </tr>\n",
       "    <tr>\n",
       "      <th>2</th>\n",
       "      <td>nb</td>\n",
       "      <td>nb</td>\n",
       "    </tr>\n",
       "    <tr>\n",
       "      <th>3</th>\n",
       "      <td>nb</td>\n",
       "      <td>nb</td>\n",
       "    </tr>\n",
       "    <tr>\n",
       "      <th>4</th>\n",
       "      <td>nb</td>\n",
       "      <td>nb</td>\n",
       "    </tr>\n",
       "    <tr>\n",
       "      <th>5</th>\n",
       "      <td>nb</td>\n",
       "      <td>nb</td>\n",
       "    </tr>\n",
       "    <tr>\n",
       "      <th>6</th>\n",
       "      <td>nb</td>\n",
       "      <td>nb</td>\n",
       "    </tr>\n",
       "    <tr>\n",
       "      <th>7</th>\n",
       "      <td>nb</td>\n",
       "      <td>nb</td>\n",
       "    </tr>\n",
       "    <tr>\n",
       "      <th>8</th>\n",
       "      <td>nb</td>\n",
       "      <td>nb</td>\n",
       "    </tr>\n",
       "    <tr>\n",
       "      <th>9</th>\n",
       "      <td>nb</td>\n",
       "      <td>b</td>\n",
       "    </tr>\n",
       "    <tr>\n",
       "      <th>10</th>\n",
       "      <td>nb</td>\n",
       "      <td>nb</td>\n",
       "    </tr>\n",
       "    <tr>\n",
       "      <th>11</th>\n",
       "      <td>nb</td>\n",
       "      <td>nb</td>\n",
       "    </tr>\n",
       "    <tr>\n",
       "      <th>12</th>\n",
       "      <td>b</td>\n",
       "      <td>b</td>\n",
       "    </tr>\n",
       "  </tbody>\n",
       "</table>\n",
       "</div>"
      ],
      "text/plain": [
       "     0 Synsets\n",
       "0    b       b\n",
       "1   nb      nb\n",
       "2   nb      nb\n",
       "3   nb      nb\n",
       "4   nb      nb\n",
       "5   nb      nb\n",
       "6   nb      nb\n",
       "7   nb      nb\n",
       "8   nb      nb\n",
       "9   nb       b\n",
       "10  nb      nb\n",
       "11  nb      nb\n",
       "12   b       b"
      ]
     },
     "execution_count": 36,
     "metadata": {},
     "output_type": "execute_result"
    }
   ],
   "source": [
    "res"
   ]
  },
  {
   "cell_type": "markdown",
   "id": "b7ca4c5c-7a2d-4a57-a2f6-0d4da0f8576b",
   "metadata": {},
   "source": [
    "## "
   ]
  }
 ],
 "metadata": {
  "kernelspec": {
   "display_name": "Python 3",
   "language": "python",
   "name": "python3"
  },
  "language_info": {
   "codemirror_mode": {
    "name": "ipython",
    "version": 3
   },
   "file_extension": ".py",
   "mimetype": "text/x-python",
   "name": "python",
   "nbconvert_exporter": "python",
   "pygments_lexer": "ipython3",
   "version": "3.8.8"
  }
 },
 "nbformat": 4,
 "nbformat_minor": 5
}
