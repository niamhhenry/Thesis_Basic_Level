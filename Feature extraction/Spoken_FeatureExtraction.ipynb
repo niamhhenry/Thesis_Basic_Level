{
 "cells": [
  {
   "cell_type": "code",
   "execution_count": 1,
   "id": "de4c4399-2a64-4058-afe9-6b01f1858ef6",
   "metadata": {},
   "outputs": [],
   "source": [
    "#install pylangacq to read CHAT files from talkbank.org\n",
    "#documentation found at https://pylangacq.org/\n",
    "import pylangacq\n",
    "import pandas as pd\n",
    "import numpy as np"
   ]
  },
  {
   "cell_type": "code",
   "execution_count": null,
   "id": "5b202a23-471f-456b-aaa4-881b30e6e710",
   "metadata": {},
   "outputs": [],
   "source": [
    "#extracting all text from spoken language corpora samples\n",
    "#CABNC - the conversationalist part of the BNC, direct download link is here: https://ca.talkbank.org/data/CABNC.zip - available from here: https://ca.talkbank.org/access/CABNC.html\n",
    "#CHILDES corpus - files used include those accessible in the ENG-UK section found here: https://childes.talkbank.org/access/Eng-UK/\n",
    "#in addition to the brown corpus from the Eng-NA section here: https://childes.talkbank.org/access/Eng-NA/Brown.html"
   ]
  },
  {
   "cell_type": "code",
   "execution_count": null,
   "id": "3937801d-d5d3-4771-a173-e60899e205c2",
   "metadata": {},
   "outputs": [],
   "source": [
    "#first create readers for all folders "
   ]
  },
  {
   "cell_type": "code",
   "execution_count": null,
   "id": "d0b94e05-d8e8-455f-95a4-ec01a7e09b35",
   "metadata": {},
   "outputs": [],
   "source": [
    "#CABNC reader - conversational part of the BNC \n",
    "cabnc=pylangacq.read_chat(\"CABNC.zip\")"
   ]
  },
  {
   "cell_type": "code",
   "execution_count": 5,
   "id": "f5b26aa5-623c-452b-84d5-b2831ac781c4",
   "metadata": {},
   "outputs": [
    {
     "data": {
      "text/plain": [
       "2411852"
      ]
     },
     "execution_count": 5,
     "metadata": {},
     "output_type": "execute_result"
    }
   ],
   "source": [
    "#returns all words in chat files as list of text\n",
    "words=cabnc.words()\n",
    "len(words) #total nr of words in CABNC = 2411852"
   ]
  },
  {
   "cell_type": "code",
   "execution_count": 6,
   "id": "97443d5d-951e-4e43-9774-f14e7c23de87",
   "metadata": {},
   "outputs": [
    {
     "data": {
      "text/plain": [
       "30072"
      ]
     },
     "execution_count": 6,
     "metadata": {},
     "output_type": "execute_result"
    }
   ],
   "source": [
    "#count frequency of occurance of each word \n",
    "word_freq=cabnc.word_frequencies()\n",
    "len(word_freq) #nr of unique words in CABNC = 30072"
   ]
  },
  {
   "cell_type": "code",
   "execution_count": null,
   "id": "8c25ab4d-aa5a-4ed7-ad5c-01289ab0af14",
   "metadata": {},
   "outputs": [],
   "source": [
    "#export word fq to csv file\n",
    "all_freq=pd.DataFrame.from_dict(word_freq, orient='index')\n",
    "all_freq.to_csv('cabnc_allfreq.csv')"
   ]
  },
  {
   "cell_type": "code",
   "execution_count": 2,
   "id": "a5050176-79ab-4056-86a8-66083bbeed96",
   "metadata": {},
   "outputs": [],
   "source": [
    "#direct download link for Brown corpus zip folder here: https://childes.talkbank.org/data/Eng-NA/Brown.zip\n",
    "brown=pylangacq.read_chat(\"Brown.zip\")"
   ]
  },
  {
   "cell_type": "code",
   "execution_count": 3,
   "id": "1a90d44c-f597-4960-a53e-711d32467330",
   "metadata": {},
   "outputs": [],
   "source": [
    "#return all words from folder as a list\n",
    "words=brown.words()"
   ]
  },
  {
   "cell_type": "code",
   "execution_count": 4,
   "id": "f3cad115-366b-4641-b928-a49e6694f48f",
   "metadata": {},
   "outputs": [
    {
     "data": {
      "text/plain": [
       "838971"
      ]
     },
     "execution_count": 4,
     "metadata": {},
     "output_type": "execute_result"
    }
   ],
   "source": [
    "#total number of words in brown corpus\n",
    "len(words)"
   ]
  },
  {
   "cell_type": "code",
   "execution_count": 6,
   "id": "c0185b41-b794-4c34-9a9d-6d1e77606fab",
   "metadata": {},
   "outputs": [],
   "source": [
    "#count frequency of occurence of each word to return a dict\n",
    "word_freq=brown.word_frequencies() #8671 unique words in corpus"
   ]
  },
  {
   "cell_type": "code",
   "execution_count": 7,
   "id": "003a4295-0f6b-497c-8c88-d12596bcfd5a",
   "metadata": {},
   "outputs": [],
   "source": [
    "#convert dict to df to export as csv\n",
    "df=pd.DataFrame.from_dict(word_freq, orient='index').reset_index()\n",
    "df.to_csv('frequencies/brown_counts.csv')"
   ]
  },
  {
   "cell_type": "code",
   "execution_count": 8,
   "id": "5603db15-bdc4-415c-b079-e2cbb2ddc9a2",
   "metadata": {},
   "outputs": [
    {
     "data": {
      "text/html": [
       "<div>\n",
       "<style scoped>\n",
       "    .dataframe tbody tr th:only-of-type {\n",
       "        vertical-align: middle;\n",
       "    }\n",
       "\n",
       "    .dataframe tbody tr th {\n",
       "        vertical-align: top;\n",
       "    }\n",
       "\n",
       "    .dataframe thead th {\n",
       "        text-align: right;\n",
       "    }\n",
       "</style>\n",
       "<table border=\"1\" class=\"dataframe\">\n",
       "  <thead>\n",
       "    <tr style=\"text-align: right;\">\n",
       "      <th></th>\n",
       "      <th>index</th>\n",
       "      <th>0</th>\n",
       "    </tr>\n",
       "  </thead>\n",
       "  <tbody>\n",
       "    <tr>\n",
       "      <th>0</th>\n",
       "      <td>play</td>\n",
       "      <td>1393</td>\n",
       "    </tr>\n",
       "    <tr>\n",
       "      <th>1</th>\n",
       "      <td>checkers</td>\n",
       "      <td>6</td>\n",
       "    </tr>\n",
       "    <tr>\n",
       "      <th>2</th>\n",
       "      <td>.</td>\n",
       "      <td>126862</td>\n",
       "    </tr>\n",
       "    <tr>\n",
       "      <th>3</th>\n",
       "      <td>big</td>\n",
       "      <td>1524</td>\n",
       "    </tr>\n",
       "    <tr>\n",
       "      <th>4</th>\n",
       "      <td>drum</td>\n",
       "      <td>90</td>\n",
       "    </tr>\n",
       "    <tr>\n",
       "      <th>...</th>\n",
       "      <td>...</td>\n",
       "      <td>...</td>\n",
       "    </tr>\n",
       "    <tr>\n",
       "      <th>8666</th>\n",
       "      <td>indirect</td>\n",
       "      <td>1</td>\n",
       "    </tr>\n",
       "    <tr>\n",
       "      <th>8667</th>\n",
       "      <td>Old</td>\n",
       "      <td>1</td>\n",
       "    </tr>\n",
       "    <tr>\n",
       "      <th>8668</th>\n",
       "      <td>Lady</td>\n",
       "      <td>1</td>\n",
       "    </tr>\n",
       "    <tr>\n",
       "      <th>8669</th>\n",
       "      <td>tale</td>\n",
       "      <td>1</td>\n",
       "    </tr>\n",
       "    <tr>\n",
       "      <th>8670</th>\n",
       "      <td>frowns</td>\n",
       "      <td>1</td>\n",
       "    </tr>\n",
       "  </tbody>\n",
       "</table>\n",
       "<p>8671 rows × 2 columns</p>\n",
       "</div>"
      ],
      "text/plain": [
       "         index       0\n",
       "0         play    1393\n",
       "1     checkers       6\n",
       "2            .  126862\n",
       "3          big    1524\n",
       "4         drum      90\n",
       "...        ...     ...\n",
       "8666  indirect       1\n",
       "8667       Old       1\n",
       "8668      Lady       1\n",
       "8669      tale       1\n",
       "8670    frowns       1\n",
       "\n",
       "[8671 rows x 2 columns]"
      ]
     },
     "execution_count": 8,
     "metadata": {},
     "output_type": "execute_result"
    }
   ],
   "source": [
    "df"
   ]
  },
  {
   "cell_type": "code",
   "execution_count": 9,
   "id": "d3363813-2520-4392-94ae-6a252871dbdb",
   "metadata": {},
   "outputs": [],
   "source": [
    "#readers for all accessible folders in CHILDES Eng-UK section\n",
    "belf=pylangacq.read_chat(\"Belfast\") #direct download: https://childes.talkbank.org/data/Eng-UK/Belfast.zip\n",
    "crutt=pylangacq.read_chat(\"Cruttenden.zip\") #direct download: https://phonbank.talkbank.org/data/Eng-UK/Cruttenden.zip\n",
    "fletcher=pylangacq.read_chat(\"Fletcher.zip\") #direct download: https://childes.talkbank.org/data/Eng-UK/Fletcher.zip\n",
    "forr=pylangacq.read_chat(\"Forrester.zip\")#direct download: https://childes.talkbank.org/data/Eng-UK/Forrester.zip\n",
    "gath=pylangacq.read_chat(\"Gathburn.zip\")#direct download: https://childes.talkbank.org/data/Eng-UK/Gathburn.zip\n",
    "howe=pylangacq.read_chat(\"Howe.zip\")#direct download: https://childes.talkbank.org/data/Eng-UK/Howe.zip\n",
    "kelly=pylangacq.read_chat(\"KellyQuigley.zip\")#direct download: https://childes.talkbank.org/data/Eng-UK/KellyQuigley.zip\n",
    "korman=pylangacq.read_chat(\"Korman.zip\")#direct download: https://childes.talkbank.org/data/Eng-UK/Korman.zip\n",
    "lara=pylangacq.read_chat(\"Lara.zip\")#direct download: https://childes.talkbank.org/data/Eng-UK/Lara.zip\n",
    "manc=pylangacq.read_chat(\"Manchester.zip\")#direct download: https://childes.talkbank.org/data/Eng-UK/Manchester.zip\n",
    "nuff=pylangacq.read_chat(\"Nuffield.zip\")#direct download: https://childes.talkbank.org/data/Eng-UK/Nuffield.zip\n",
    "quigley=pylangacq.read_chat(\"QuigleyMcNally.zip\")#direct download: https://asd.talkbank.org/data/English/QuigleyMcNally.zip\n",
    "sekali=pylangacq.read_chat(\"Sekali.zip\")#direct download: https://childes.talkbank.org/data/Eng-UK/Sekali.zip\n",
    "smith=pylangacq.read_chat(\"Smith.zip\")#direct download: https://phonbank.talkbank.org/data/Eng-UK/Smith.zip\n",
    "tommer=pylangacq.read_chat(\"Tommerdahl.zip\")#direct download: https://childes.talkbank.org/data/Eng-UK/Tommerdahl.zip"
   ]
  },
  {
   "cell_type": "code",
   "execution_count": null,
   "id": "c5697b01-c7ed-4d9f-ba19-0a84a49856aa",
   "metadata": {},
   "outputs": [],
   "source": [
    "corpora=[belf, crutt, fletcher, forr, gath, howe, kelly, korman, lara, manc, nuff, quigley, sekali, smith, tommer]"
   ]
  },
  {
   "cell_type": "code",
   "execution_count": null,
   "id": "62e6de39-daa2-4684-a8df-658acb87fb27",
   "metadata": {},
   "outputs": [],
   "source": [
    "d_words={}\n",
    "for corpus in corpora:\n",
    "    words=corpus.words()\n",
    "    d_words[corpus]=len(words)"
   ]
  },
  {
   "cell_type": "code",
   "execution_count": 224,
   "id": "4b612036-9981-40f9-82af-1d71bab2f805",
   "metadata": {},
   "outputs": [
    {
     "data": {
      "text/plain": [
       "{<pylangacq.chat.Reader at 0x24cd1a95fd0>: 617846,\n",
       " <pylangacq.chat.Reader at 0x24ce8e98f40>: 13361,\n",
       " <pylangacq.chat.Reader at 0x24cc92a9550>: 262681,\n",
       " <pylangacq.chat.Reader at 0x24cd3abb100>: 83962,\n",
       " <pylangacq.chat.Reader at 0x24ce86df8e0>: 117905,\n",
       " <pylangacq.chat.Reader at 0x24ce8712fa0>: 72681,\n",
       " <pylangacq.chat.Reader at 0x24ce86df340>: 47456,\n",
       " <pylangacq.chat.Reader at 0x24ce86df4c0>: 55886,\n",
       " <pylangacq.chat.Reader at 0x24cd3a897f0>: 691315,\n",
       " <pylangacq.chat.Reader at 0x24ce8f1d8b0>: 2614730,\n",
       " <pylangacq.chat.Reader at 0x24cc983c100>: 53418,\n",
       " <pylangacq.chat.Reader at 0x24c93cabe50>: 79932,\n",
       " <pylangacq.chat.Reader at 0x24cf2cf3940>: 1076,\n",
       " <pylangacq.chat.Reader at 0x24c93b39580>: 10679,\n",
       " <pylangacq.chat.Reader at 0x24c93cabbe0>: 134293}"
      ]
     },
     "execution_count": 224,
     "metadata": {},
     "output_type": "execute_result"
    }
   ],
   "source": [
    "d_words"
   ]
  },
  {
   "cell_type": "code",
   "execution_count": 225,
   "id": "d099cbd6-cfc3-46f8-91f7-664673c8c512",
   "metadata": {},
   "outputs": [],
   "source": [
    "values=d_words.values()"
   ]
  },
  {
   "cell_type": "code",
   "execution_count": 226,
   "id": "e47b0376-0591-4052-8b5b-e9158f375c21",
   "metadata": {},
   "outputs": [
    {
     "data": {
      "text/plain": [
       "4857221"
      ]
     },
     "execution_count": 226,
     "metadata": {},
     "output_type": "execute_result"
    }
   ],
   "source": [
    "sum(values) #nr of words in ENG-UK files"
   ]
  },
  {
   "cell_type": "code",
   "execution_count": 93,
   "id": "57ad68de-4f69-4c6d-adbf-53d8398f4509",
   "metadata": {},
   "outputs": [],
   "source": [
    "d={}\n",
    "for corpus in corpora:\n",
    "    word_freq=corpus.word_frequencies()\n",
    "    d[corpus]=pd.DataFrame.from_dict(word_freq, orient='index').reset_index()"
   ]
  },
  {
   "cell_type": "code",
   "execution_count": null,
   "id": "857ab346-2b0d-4c95-9898-cfa29009f570",
   "metadata": {},
   "outputs": [],
   "source": [
    "#export fq counts to seperate csv files per folder (not essential)\n",
    "#d[belf].to_csv('belf_freq.csv')\n",
    "#d[crutt].to_csv('frequencies/crutt_freq.csv')\n",
    "#d[fletcher].to_csv('frequencies/flecther_freq.csv')\n",
    "#d[forr].to_csv('frequencies/forr_freq.csv')\n",
    "#d[gath].to_csv('frequencies/gath_freq.csv')\n",
    "#d[howe].to_csv('frequencies/howe_freq.csv')\n",
    "#d[kelly].to_csv('frequencies/kelly_freq.csv')\n",
    "#d[korman].to_csv('frequencies/korman_freq.csv')\n",
    "#d[lara].to_csv('frequencies/lara_freq.csv')\n",
    "#d[manc].to_csv('frequencies/manc_freq.csv')\n",
    "#d[nuff].to_csv('frequencies/nuff_freq.csv')\n",
    "#d[quigley].to_csv('frequencies/quigley_freq.csv')\n",
    "#d[sekali].to_csv('frequencies/sekali_freq.csv')\n",
    "#d[smith].to_csv('frequencies/smith_freq.csv')\n",
    "#d[tommer].to_csv('frequencies/tommer_freq.csv')"
   ]
  },
  {
   "cell_type": "code",
   "execution_count": 2,
   "id": "dbb09583-b17d-4550-bcaf-dfcbdb1a15f8",
   "metadata": {},
   "outputs": [
    {
     "ename": "NameError",
     "evalue": "name 'pd' is not defined",
     "output_type": "error",
     "traceback": [
      "\u001b[1;31m---------------------------------------------------------------------------\u001b[0m",
      "\u001b[1;31mNameError\u001b[0m                                 Traceback (most recent call last)",
      "\u001b[1;32m<ipython-input-2-a2d1a902ba9e>\u001b[0m in \u001b[0;36m<module>\u001b[1;34m\u001b[0m\n\u001b[0;32m      1\u001b[0m \u001b[1;31m#files with childes-UK total raw counts\u001b[0m\u001b[1;33m\u001b[0m\u001b[1;33m\u001b[0m\u001b[1;33m\u001b[0m\u001b[0m\n\u001b[1;32m----> 2\u001b[1;33m \u001b[0mbelfast\u001b[0m\u001b[1;33m=\u001b[0m\u001b[0mpd\u001b[0m\u001b[1;33m.\u001b[0m\u001b[0mread_csv\u001b[0m\u001b[1;33m(\u001b[0m\u001b[1;34m'belf_freq.csv'\u001b[0m\u001b[1;33m)\u001b[0m\u001b[1;33m\u001b[0m\u001b[1;33m\u001b[0m\u001b[0m\n\u001b[0m\u001b[0;32m      3\u001b[0m \u001b[0mcrutt\u001b[0m\u001b[1;33m=\u001b[0m\u001b[0mpd\u001b[0m\u001b[1;33m.\u001b[0m\u001b[0mread_csv\u001b[0m\u001b[1;33m(\u001b[0m\u001b[1;34m'crutt_freq.csv'\u001b[0m\u001b[1;33m)\u001b[0m\u001b[1;33m\u001b[0m\u001b[1;33m\u001b[0m\u001b[0m\n\u001b[0;32m      4\u001b[0m \u001b[0mfletcher_total\u001b[0m\u001b[1;33m=\u001b[0m\u001b[0mpd\u001b[0m\u001b[1;33m.\u001b[0m\u001b[0mread_csv\u001b[0m\u001b[1;33m(\u001b[0m\u001b[1;34m'flecther_freq.csv'\u001b[0m\u001b[1;33m)\u001b[0m\u001b[1;33m\u001b[0m\u001b[1;33m\u001b[0m\u001b[0m\n\u001b[0;32m      5\u001b[0m \u001b[0mforrester\u001b[0m\u001b[1;33m=\u001b[0m\u001b[0mpd\u001b[0m\u001b[1;33m.\u001b[0m\u001b[0mread_csv\u001b[0m\u001b[1;33m(\u001b[0m\u001b[1;34m'forr_freq.csv'\u001b[0m\u001b[1;33m)\u001b[0m\u001b[1;33m\u001b[0m\u001b[1;33m\u001b[0m\u001b[0m\n",
      "\u001b[1;31mNameError\u001b[0m: name 'pd' is not defined"
     ]
    }
   ],
   "source": [
    "#files with childes-UK total raw counts \n",
    "belfast=pd.read_csv('belf_freq.csv')\n",
    "crutt=pd.read_csv('crutt_freq.csv')\n",
    "fletcher_total=pd.read_csv('flecther_freq.csv')\n",
    "forrester=pd.read_csv('forr_freq.csv')\n",
    "gath=pd.read_csv('gath_freq.csv')\n",
    "howe_total=pd.read_csv('howe_freq.csv')\n",
    "kelly_total=pd.read_csv('kelly_freq.csv')\n",
    "korman=pd.read_csv('korman_freq.csv')\n",
    "lara_total=pd.read_csv('lara_freq.csv')\n",
    "manc_total=pd.read_csv('manc_freq.csv')\n",
    "nuff=pd.read_csv('nuff_freq.csv')\n",
    "quig=pd.read_csv('quigley_freq.csv')\n",
    "sekali_total=pd.read_csv('sekali_freq.csv')\n",
    "smith=pd.read_csv('smith_freq.csv')\n",
    "tommer_total=pd.read_csv('tommer_freq.csv')"
   ]
  },
  {
   "cell_type": "code",
   "execution_count": null,
   "id": "2439b35b-abee-48bb-b76f-8a17dbfe5ac1",
   "metadata": {},
   "outputs": [],
   "source": [
    "#all childes Eng-Uk fq counts to be totalled \n",
    "dfs=[belfast, crutt, fletcher_total, forrester, gath, howe_total, kelly_total, korman, lara_total, manc_total, nuff, quig, sekali_total, smith, tommer_total]"
   ]
  },
  {
   "cell_type": "code",
   "execution_count": null,
   "id": "42b7d85d-9217-485e-aaa2-a53a8a97e792",
   "metadata": {},
   "outputs": [],
   "source": [
    "#merge all corpora to one dataframe \n",
    "totals=pd.merge(belfast, crutt, how='outer', on='index').merge(fletcher_total, how='outer', on='index').merge(forrester, how='outer', on='index').merge(gath, how='outer', on='index').merge(howe_total, how='outer', on='index').merge(kelly_total, how='outer', on='index').merge(korman, how='outer', on='index').merge(lara_total, how='outer', on='index').merge(manc_total, how='outer', on='index').merge(nuff, how='outer', on='index').merge(quig, how='outer', on='index').merge(sekali_total, how='outer', on='index').merge(smith, how='outer', on='index').merge(tommer_total, how='outer', on='index')"
   ]
  },
  {
   "cell_type": "code",
   "execution_count": null,
   "id": "89c07d94-8a40-428c-92ac-c73dc50906b1",
   "metadata": {},
   "outputs": [],
   "source": [
    "#totals.to_csv('frequencies/CHILDES_totalCounts.csv')"
   ]
  },
  {
   "cell_type": "code",
   "execution_count": 2,
   "id": "97a552e6-0421-43fb-b4aa-50ad4146b810",
   "metadata": {},
   "outputs": [],
   "source": [
    "b=pd.read_csv('frequencies/brown_counts.csv')\n",
    "uk=pd.read_csv('frequencies/CHILDES_totalCounts.csv')"
   ]
  },
  {
   "cell_type": "code",
   "execution_count": 14,
   "id": "0048baff-89fb-4f47-9e82-f3ea258cc894",
   "metadata": {},
   "outputs": [],
   "source": [
    "b=b.rename(columns={'0':'TotalCounts'})"
   ]
  },
  {
   "cell_type": "code",
   "execution_count": 15,
   "id": "66d87518-a644-41b0-8994-c89c7a1b0084",
   "metadata": {},
   "outputs": [
    {
     "data": {
      "text/html": [
       "<div>\n",
       "<style scoped>\n",
       "    .dataframe tbody tr th:only-of-type {\n",
       "        vertical-align: middle;\n",
       "    }\n",
       "\n",
       "    .dataframe tbody tr th {\n",
       "        vertical-align: top;\n",
       "    }\n",
       "\n",
       "    .dataframe thead th {\n",
       "        text-align: right;\n",
       "    }\n",
       "</style>\n",
       "<table border=\"1\" class=\"dataframe\">\n",
       "  <thead>\n",
       "    <tr style=\"text-align: right;\">\n",
       "      <th></th>\n",
       "      <th>Unnamed: 0</th>\n",
       "      <th>index</th>\n",
       "      <th>TotalCounts</th>\n",
       "    </tr>\n",
       "  </thead>\n",
       "  <tbody>\n",
       "    <tr>\n",
       "      <th>0</th>\n",
       "      <td>0</td>\n",
       "      <td>play</td>\n",
       "      <td>1393</td>\n",
       "    </tr>\n",
       "    <tr>\n",
       "      <th>1</th>\n",
       "      <td>1</td>\n",
       "      <td>checkers</td>\n",
       "      <td>6</td>\n",
       "    </tr>\n",
       "    <tr>\n",
       "      <th>2</th>\n",
       "      <td>2</td>\n",
       "      <td>.</td>\n",
       "      <td>126862</td>\n",
       "    </tr>\n",
       "    <tr>\n",
       "      <th>3</th>\n",
       "      <td>3</td>\n",
       "      <td>big</td>\n",
       "      <td>1524</td>\n",
       "    </tr>\n",
       "    <tr>\n",
       "      <th>4</th>\n",
       "      <td>4</td>\n",
       "      <td>drum</td>\n",
       "      <td>90</td>\n",
       "    </tr>\n",
       "    <tr>\n",
       "      <th>...</th>\n",
       "      <td>...</td>\n",
       "      <td>...</td>\n",
       "      <td>...</td>\n",
       "    </tr>\n",
       "    <tr>\n",
       "      <th>8666</th>\n",
       "      <td>8666</td>\n",
       "      <td>indirect</td>\n",
       "      <td>1</td>\n",
       "    </tr>\n",
       "    <tr>\n",
       "      <th>8667</th>\n",
       "      <td>8667</td>\n",
       "      <td>Old</td>\n",
       "      <td>1</td>\n",
       "    </tr>\n",
       "    <tr>\n",
       "      <th>8668</th>\n",
       "      <td>8668</td>\n",
       "      <td>Lady</td>\n",
       "      <td>1</td>\n",
       "    </tr>\n",
       "    <tr>\n",
       "      <th>8669</th>\n",
       "      <td>8669</td>\n",
       "      <td>tale</td>\n",
       "      <td>1</td>\n",
       "    </tr>\n",
       "    <tr>\n",
       "      <th>8670</th>\n",
       "      <td>8670</td>\n",
       "      <td>frowns</td>\n",
       "      <td>1</td>\n",
       "    </tr>\n",
       "  </tbody>\n",
       "</table>\n",
       "<p>8671 rows × 3 columns</p>\n",
       "</div>"
      ],
      "text/plain": [
       "      Unnamed: 0     index  TotalCounts\n",
       "0              0      play         1393\n",
       "1              1  checkers            6\n",
       "2              2         .       126862\n",
       "3              3       big         1524\n",
       "4              4      drum           90\n",
       "...          ...       ...          ...\n",
       "8666        8666  indirect            1\n",
       "8667        8667       Old            1\n",
       "8668        8668      Lady            1\n",
       "8669        8669      tale            1\n",
       "8670        8670    frowns            1\n",
       "\n",
       "[8671 rows x 3 columns]"
      ]
     },
     "execution_count": 15,
     "metadata": {},
     "output_type": "execute_result"
    }
   ],
   "source": [
    "b"
   ]
  },
  {
   "cell_type": "code",
   "execution_count": 19,
   "id": "ce9ee3c1-e0a4-4a3b-a329-79b74343c601",
   "metadata": {},
   "outputs": [
    {
     "data": {
      "text/html": [
       "<div>\n",
       "<style scoped>\n",
       "    .dataframe tbody tr th:only-of-type {\n",
       "        vertical-align: middle;\n",
       "    }\n",
       "\n",
       "    .dataframe tbody tr th {\n",
       "        vertical-align: top;\n",
       "    }\n",
       "\n",
       "    .dataframe thead th {\n",
       "        text-align: right;\n",
       "    }\n",
       "</style>\n",
       "<table border=\"1\" class=\"dataframe\">\n",
       "  <thead>\n",
       "    <tr style=\"text-align: right;\">\n",
       "      <th></th>\n",
       "      <th>Unnamed: 0</th>\n",
       "      <th>index</th>\n",
       "      <th>TotalCounts</th>\n",
       "    </tr>\n",
       "  </thead>\n",
       "  <tbody>\n",
       "    <tr>\n",
       "      <th>0</th>\n",
       "      <td>0</td>\n",
       "      <td>come</td>\n",
       "      <td>11421.0</td>\n",
       "    </tr>\n",
       "    <tr>\n",
       "      <th>1</th>\n",
       "      <td>1</td>\n",
       "      <td>on</td>\n",
       "      <td>44194.0</td>\n",
       "    </tr>\n",
       "    <tr>\n",
       "      <th>2</th>\n",
       "      <td>2</td>\n",
       "      <td>now</td>\n",
       "      <td>18710.0</td>\n",
       "    </tr>\n",
       "    <tr>\n",
       "      <th>3</th>\n",
       "      <td>3</td>\n",
       "      <td>.</td>\n",
       "      <td>795706.0</td>\n",
       "    </tr>\n",
       "    <tr>\n",
       "      <th>4</th>\n",
       "      <td>4</td>\n",
       "      <td>you</td>\n",
       "      <td>140360.0</td>\n",
       "    </tr>\n",
       "    <tr>\n",
       "      <th>...</th>\n",
       "      <td>...</td>\n",
       "      <td>...</td>\n",
       "      <td>...</td>\n",
       "    </tr>\n",
       "    <tr>\n",
       "      <th>31018</th>\n",
       "      <td>31018</td>\n",
       "      <td>patients</td>\n",
       "      <td>3.0</td>\n",
       "    </tr>\n",
       "    <tr>\n",
       "      <th>31019</th>\n",
       "      <td>31019</td>\n",
       "      <td>ladies'</td>\n",
       "      <td>1.0</td>\n",
       "    </tr>\n",
       "    <tr>\n",
       "      <th>31020</th>\n",
       "      <td>31020</td>\n",
       "      <td>kzkwooooo</td>\n",
       "      <td>1.0</td>\n",
       "    </tr>\n",
       "    <tr>\n",
       "      <th>31021</th>\n",
       "      <td>31021</td>\n",
       "      <td>biueeaaa</td>\n",
       "      <td>1.0</td>\n",
       "    </tr>\n",
       "    <tr>\n",
       "      <th>31022</th>\n",
       "      <td>31022</td>\n",
       "      <td>oh_boy</td>\n",
       "      <td>1.0</td>\n",
       "    </tr>\n",
       "  </tbody>\n",
       "</table>\n",
       "<p>31023 rows × 3 columns</p>\n",
       "</div>"
      ],
      "text/plain": [
       "       Unnamed: 0      index  TotalCounts\n",
       "0               0       come      11421.0\n",
       "1               1         on      44194.0\n",
       "2               2        now      18710.0\n",
       "3               3          .     795706.0\n",
       "4               4        you     140360.0\n",
       "...           ...        ...          ...\n",
       "31018       31018   patients          3.0\n",
       "31019       31019    ladies'          1.0\n",
       "31020       31020  kzkwooooo          1.0\n",
       "31021       31021   biueeaaa          1.0\n",
       "31022       31022     oh_boy          1.0\n",
       "\n",
       "[31023 rows x 3 columns]"
      ]
     },
     "execution_count": 19,
     "metadata": {},
     "output_type": "execute_result"
    }
   ],
   "source": [
    "uk"
   ]
  },
  {
   "cell_type": "code",
   "execution_count": 22,
   "id": "51f5effa-531b-4b03-b35b-3134dfe80d87",
   "metadata": {},
   "outputs": [],
   "source": [
    "df3=pd.merge(uk, b, on='index', how='outer')"
   ]
  },
  {
   "cell_type": "code",
   "execution_count": 24,
   "id": "b22c2583-4010-4f29-a238-9ade07fb9cac",
   "metadata": {},
   "outputs": [],
   "source": [
    "df3=df3.drop(columns=['Unnamed: 0_x', 'Unnamed: 0_y'])"
   ]
  },
  {
   "cell_type": "code",
   "execution_count": 28,
   "id": "f4ed9204-1dee-4e17-a66a-f4bcc063d837",
   "metadata": {},
   "outputs": [],
   "source": [
    "df3=df3.fillna(0)"
   ]
  },
  {
   "cell_type": "code",
   "execution_count": 29,
   "id": "c289d9f2-370d-4cac-9758-eb5052379a82",
   "metadata": {},
   "outputs": [
    {
     "data": {
      "text/html": [
       "<div>\n",
       "<style scoped>\n",
       "    .dataframe tbody tr th:only-of-type {\n",
       "        vertical-align: middle;\n",
       "    }\n",
       "\n",
       "    .dataframe tbody tr th {\n",
       "        vertical-align: top;\n",
       "    }\n",
       "\n",
       "    .dataframe thead th {\n",
       "        text-align: right;\n",
       "    }\n",
       "</style>\n",
       "<table border=\"1\" class=\"dataframe\">\n",
       "  <thead>\n",
       "    <tr style=\"text-align: right;\">\n",
       "      <th></th>\n",
       "      <th>index</th>\n",
       "      <th>TotalCounts_x</th>\n",
       "      <th>TotalCounts_y</th>\n",
       "    </tr>\n",
       "  </thead>\n",
       "  <tbody>\n",
       "    <tr>\n",
       "      <th>0</th>\n",
       "      <td>come</td>\n",
       "      <td>11421.0</td>\n",
       "      <td>1709.0</td>\n",
       "    </tr>\n",
       "    <tr>\n",
       "      <th>1</th>\n",
       "      <td>on</td>\n",
       "      <td>44194.0</td>\n",
       "      <td>5935.0</td>\n",
       "    </tr>\n",
       "    <tr>\n",
       "      <th>2</th>\n",
       "      <td>now</td>\n",
       "      <td>18710.0</td>\n",
       "      <td>2581.0</td>\n",
       "    </tr>\n",
       "    <tr>\n",
       "      <th>3</th>\n",
       "      <td>.</td>\n",
       "      <td>795706.0</td>\n",
       "      <td>126862.0</td>\n",
       "    </tr>\n",
       "    <tr>\n",
       "      <th>4</th>\n",
       "      <td>you</td>\n",
       "      <td>140360.0</td>\n",
       "      <td>26350.0</td>\n",
       "    </tr>\n",
       "    <tr>\n",
       "      <th>...</th>\n",
       "      <td>...</td>\n",
       "      <td>...</td>\n",
       "      <td>...</td>\n",
       "    </tr>\n",
       "    <tr>\n",
       "      <th>33817</th>\n",
       "      <td>lizzes</td>\n",
       "      <td>0.0</td>\n",
       "      <td>2.0</td>\n",
       "    </tr>\n",
       "    <tr>\n",
       "      <th>33818</th>\n",
       "      <td>gop</td>\n",
       "      <td>0.0</td>\n",
       "      <td>9.0</td>\n",
       "    </tr>\n",
       "    <tr>\n",
       "      <th>33819</th>\n",
       "      <td>gops</td>\n",
       "      <td>0.0</td>\n",
       "      <td>1.0</td>\n",
       "    </tr>\n",
       "    <tr>\n",
       "      <th>33820</th>\n",
       "      <td>indirect</td>\n",
       "      <td>0.0</td>\n",
       "      <td>1.0</td>\n",
       "    </tr>\n",
       "    <tr>\n",
       "      <th>33821</th>\n",
       "      <td>frowns</td>\n",
       "      <td>0.0</td>\n",
       "      <td>1.0</td>\n",
       "    </tr>\n",
       "  </tbody>\n",
       "</table>\n",
       "<p>33822 rows × 3 columns</p>\n",
       "</div>"
      ],
      "text/plain": [
       "          index  TotalCounts_x  TotalCounts_y\n",
       "0          come        11421.0         1709.0\n",
       "1            on        44194.0         5935.0\n",
       "2           now        18710.0         2581.0\n",
       "3             .       795706.0       126862.0\n",
       "4           you       140360.0        26350.0\n",
       "...         ...            ...            ...\n",
       "33817    lizzes            0.0            2.0\n",
       "33818       gop            0.0            9.0\n",
       "33819      gops            0.0            1.0\n",
       "33820  indirect            0.0            1.0\n",
       "33821    frowns            0.0            1.0\n",
       "\n",
       "[33822 rows x 3 columns]"
      ]
     },
     "execution_count": 29,
     "metadata": {},
     "output_type": "execute_result"
    }
   ],
   "source": [
    "df3"
   ]
  },
  {
   "cell_type": "code",
   "execution_count": 30,
   "id": "63a12559-06f1-4dd4-8c45-10d7884af4a2",
   "metadata": {},
   "outputs": [],
   "source": [
    "sumcol=df3['TotalCounts_x']+df3['TotalCounts_y']"
   ]
  },
  {
   "cell_type": "code",
   "execution_count": 32,
   "id": "c84d3dae-7f47-45db-a529-6464f0672188",
   "metadata": {},
   "outputs": [],
   "source": [
    "df3['CHILDES_Sum']=sumcol"
   ]
  },
  {
   "cell_type": "code",
   "execution_count": 33,
   "id": "fd4398e7-ec76-4354-b67a-03a8ca226e8d",
   "metadata": {},
   "outputs": [
    {
     "data": {
      "text/html": [
       "<div>\n",
       "<style scoped>\n",
       "    .dataframe tbody tr th:only-of-type {\n",
       "        vertical-align: middle;\n",
       "    }\n",
       "\n",
       "    .dataframe tbody tr th {\n",
       "        vertical-align: top;\n",
       "    }\n",
       "\n",
       "    .dataframe thead th {\n",
       "        text-align: right;\n",
       "    }\n",
       "</style>\n",
       "<table border=\"1\" class=\"dataframe\">\n",
       "  <thead>\n",
       "    <tr style=\"text-align: right;\">\n",
       "      <th></th>\n",
       "      <th>index</th>\n",
       "      <th>TotalCounts_x</th>\n",
       "      <th>TotalCounts_y</th>\n",
       "      <th>CHILDES_Sum</th>\n",
       "    </tr>\n",
       "  </thead>\n",
       "  <tbody>\n",
       "    <tr>\n",
       "      <th>0</th>\n",
       "      <td>come</td>\n",
       "      <td>11421.0</td>\n",
       "      <td>1709.0</td>\n",
       "      <td>13130.0</td>\n",
       "    </tr>\n",
       "    <tr>\n",
       "      <th>1</th>\n",
       "      <td>on</td>\n",
       "      <td>44194.0</td>\n",
       "      <td>5935.0</td>\n",
       "      <td>50129.0</td>\n",
       "    </tr>\n",
       "    <tr>\n",
       "      <th>2</th>\n",
       "      <td>now</td>\n",
       "      <td>18710.0</td>\n",
       "      <td>2581.0</td>\n",
       "      <td>21291.0</td>\n",
       "    </tr>\n",
       "    <tr>\n",
       "      <th>3</th>\n",
       "      <td>.</td>\n",
       "      <td>795706.0</td>\n",
       "      <td>126862.0</td>\n",
       "      <td>922568.0</td>\n",
       "    </tr>\n",
       "    <tr>\n",
       "      <th>4</th>\n",
       "      <td>you</td>\n",
       "      <td>140360.0</td>\n",
       "      <td>26350.0</td>\n",
       "      <td>166710.0</td>\n",
       "    </tr>\n",
       "    <tr>\n",
       "      <th>...</th>\n",
       "      <td>...</td>\n",
       "      <td>...</td>\n",
       "      <td>...</td>\n",
       "      <td>...</td>\n",
       "    </tr>\n",
       "    <tr>\n",
       "      <th>33817</th>\n",
       "      <td>lizzes</td>\n",
       "      <td>0.0</td>\n",
       "      <td>2.0</td>\n",
       "      <td>2.0</td>\n",
       "    </tr>\n",
       "    <tr>\n",
       "      <th>33818</th>\n",
       "      <td>gop</td>\n",
       "      <td>0.0</td>\n",
       "      <td>9.0</td>\n",
       "      <td>9.0</td>\n",
       "    </tr>\n",
       "    <tr>\n",
       "      <th>33819</th>\n",
       "      <td>gops</td>\n",
       "      <td>0.0</td>\n",
       "      <td>1.0</td>\n",
       "      <td>1.0</td>\n",
       "    </tr>\n",
       "    <tr>\n",
       "      <th>33820</th>\n",
       "      <td>indirect</td>\n",
       "      <td>0.0</td>\n",
       "      <td>1.0</td>\n",
       "      <td>1.0</td>\n",
       "    </tr>\n",
       "    <tr>\n",
       "      <th>33821</th>\n",
       "      <td>frowns</td>\n",
       "      <td>0.0</td>\n",
       "      <td>1.0</td>\n",
       "      <td>1.0</td>\n",
       "    </tr>\n",
       "  </tbody>\n",
       "</table>\n",
       "<p>33822 rows × 4 columns</p>\n",
       "</div>"
      ],
      "text/plain": [
       "          index  TotalCounts_x  TotalCounts_y  CHILDES_Sum\n",
       "0          come        11421.0         1709.0      13130.0\n",
       "1            on        44194.0         5935.0      50129.0\n",
       "2           now        18710.0         2581.0      21291.0\n",
       "3             .       795706.0       126862.0     922568.0\n",
       "4           you       140360.0        26350.0     166710.0\n",
       "...         ...            ...            ...          ...\n",
       "33817    lizzes            0.0            2.0          2.0\n",
       "33818       gop            0.0            9.0          9.0\n",
       "33819      gops            0.0            1.0          1.0\n",
       "33820  indirect            0.0            1.0          1.0\n",
       "33821    frowns            0.0            1.0          1.0\n",
       "\n",
       "[33822 rows x 4 columns]"
      ]
     },
     "execution_count": 33,
     "metadata": {},
     "output_type": "execute_result"
    }
   ],
   "source": [
    "df3"
   ]
  },
  {
   "cell_type": "code",
   "execution_count": 35,
   "id": "9e838c06-b3b4-4265-bd34-55f73ac3e8d3",
   "metadata": {},
   "outputs": [],
   "source": [
    "df3=df3.rename(columns={'index':'Term', 'TotalCounts_x': 'UK_CHILDES_Raw', 'TotalCounts_y':'Brown_Raw','CHILDES_Sum': 'All_CHILDES_Raw'})"
   ]
  },
  {
   "cell_type": "code",
   "execution_count": 36,
   "id": "15451fe4-1aef-4d40-aa17-8b2c74379f27",
   "metadata": {},
   "outputs": [
    {
     "data": {
      "text/html": [
       "<div>\n",
       "<style scoped>\n",
       "    .dataframe tbody tr th:only-of-type {\n",
       "        vertical-align: middle;\n",
       "    }\n",
       "\n",
       "    .dataframe tbody tr th {\n",
       "        vertical-align: top;\n",
       "    }\n",
       "\n",
       "    .dataframe thead th {\n",
       "        text-align: right;\n",
       "    }\n",
       "</style>\n",
       "<table border=\"1\" class=\"dataframe\">\n",
       "  <thead>\n",
       "    <tr style=\"text-align: right;\">\n",
       "      <th></th>\n",
       "      <th>Term</th>\n",
       "      <th>UK_CHILDES_Raw</th>\n",
       "      <th>Brown_Raw</th>\n",
       "      <th>All_CHILDES_Raw</th>\n",
       "    </tr>\n",
       "  </thead>\n",
       "  <tbody>\n",
       "    <tr>\n",
       "      <th>0</th>\n",
       "      <td>come</td>\n",
       "      <td>11421.0</td>\n",
       "      <td>1709.0</td>\n",
       "      <td>13130.0</td>\n",
       "    </tr>\n",
       "    <tr>\n",
       "      <th>1</th>\n",
       "      <td>on</td>\n",
       "      <td>44194.0</td>\n",
       "      <td>5935.0</td>\n",
       "      <td>50129.0</td>\n",
       "    </tr>\n",
       "    <tr>\n",
       "      <th>2</th>\n",
       "      <td>now</td>\n",
       "      <td>18710.0</td>\n",
       "      <td>2581.0</td>\n",
       "      <td>21291.0</td>\n",
       "    </tr>\n",
       "    <tr>\n",
       "      <th>3</th>\n",
       "      <td>.</td>\n",
       "      <td>795706.0</td>\n",
       "      <td>126862.0</td>\n",
       "      <td>922568.0</td>\n",
       "    </tr>\n",
       "    <tr>\n",
       "      <th>4</th>\n",
       "      <td>you</td>\n",
       "      <td>140360.0</td>\n",
       "      <td>26350.0</td>\n",
       "      <td>166710.0</td>\n",
       "    </tr>\n",
       "    <tr>\n",
       "      <th>...</th>\n",
       "      <td>...</td>\n",
       "      <td>...</td>\n",
       "      <td>...</td>\n",
       "      <td>...</td>\n",
       "    </tr>\n",
       "    <tr>\n",
       "      <th>33817</th>\n",
       "      <td>lizzes</td>\n",
       "      <td>0.0</td>\n",
       "      <td>2.0</td>\n",
       "      <td>2.0</td>\n",
       "    </tr>\n",
       "    <tr>\n",
       "      <th>33818</th>\n",
       "      <td>gop</td>\n",
       "      <td>0.0</td>\n",
       "      <td>9.0</td>\n",
       "      <td>9.0</td>\n",
       "    </tr>\n",
       "    <tr>\n",
       "      <th>33819</th>\n",
       "      <td>gops</td>\n",
       "      <td>0.0</td>\n",
       "      <td>1.0</td>\n",
       "      <td>1.0</td>\n",
       "    </tr>\n",
       "    <tr>\n",
       "      <th>33820</th>\n",
       "      <td>indirect</td>\n",
       "      <td>0.0</td>\n",
       "      <td>1.0</td>\n",
       "      <td>1.0</td>\n",
       "    </tr>\n",
       "    <tr>\n",
       "      <th>33821</th>\n",
       "      <td>frowns</td>\n",
       "      <td>0.0</td>\n",
       "      <td>1.0</td>\n",
       "      <td>1.0</td>\n",
       "    </tr>\n",
       "  </tbody>\n",
       "</table>\n",
       "<p>33822 rows × 4 columns</p>\n",
       "</div>"
      ],
      "text/plain": [
       "           Term  UK_CHILDES_Raw  Brown_Raw  All_CHILDES_Raw\n",
       "0          come         11421.0     1709.0          13130.0\n",
       "1            on         44194.0     5935.0          50129.0\n",
       "2           now         18710.0     2581.0          21291.0\n",
       "3             .        795706.0   126862.0         922568.0\n",
       "4           you        140360.0    26350.0         166710.0\n",
       "...         ...             ...        ...              ...\n",
       "33817    lizzes             0.0        2.0              2.0\n",
       "33818       gop             0.0        9.0              9.0\n",
       "33819      gops             0.0        1.0              1.0\n",
       "33820  indirect             0.0        1.0              1.0\n",
       "33821    frowns             0.0        1.0              1.0\n",
       "\n",
       "[33822 rows x 4 columns]"
      ]
     },
     "execution_count": 36,
     "metadata": {},
     "output_type": "execute_result"
    }
   ],
   "source": [
    "df3"
   ]
  },
  {
   "cell_type": "code",
   "execution_count": 37,
   "id": "830aca56-7778-4327-b6e8-8169c5d11fd9",
   "metadata": {},
   "outputs": [],
   "source": [
    "df3.to_csv('frequencies/allCHILDESraw.csv')"
   ]
  },
  {
   "cell_type": "code",
   "execution_count": null,
   "id": "b6ee03eb-24e9-4fcb-950c-dfb6dfdd4f2a",
   "metadata": {},
   "outputs": [],
   "source": []
  }
 ],
 "metadata": {
  "kernelspec": {
   "display_name": "Python 3",
   "language": "python",
   "name": "python3"
  },
  "language_info": {
   "codemirror_mode": {
    "name": "ipython",
    "version": 3
   },
   "file_extension": ".py",
   "mimetype": "text/x-python",
   "name": "python",
   "nbconvert_exporter": "python",
   "pygments_lexer": "ipython3",
   "version": "3.8.8"
  }
 },
 "nbformat": 4,
 "nbformat_minor": 5
}
