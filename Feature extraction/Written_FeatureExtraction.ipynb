{
 "cells": [
  {
   "cell_type": "code",
   "execution_count": 2,
   "metadata": {},
   "outputs": [],
   "source": [
    "#install bnc corpus reader from nltk to read xml files in zip folder\n",
    "#zip of full xml bnc text is accessible from http://www.natcorp.ox.ac.uk/  \n",
    "#database containing metadata on all files by file ID available for download directly from here: https://www.english-corpora.org/bnc/files/sources_bnc.zip\n",
    "#this was used to filter on audience age for kids books, and for smaller sample sizes \n",
    "import nltk\n",
    "from nltk.corpus.reader.bnc import BNCCorpusReader\n",
    "from nltk import ngrams, FreqDist\n",
    "import pandas as pd"
   ]
  },
  {
   "cell_type": "code",
   "execution_count": 60,
   "metadata": {},
   "outputs": [],
   "source": [
    "#first define all readers for different samples from bnc:\n",
    "#bnc full text, kids books in bnc, a 10% sample (general sample), a 1% sample (baby) and a sample with equal spoken and written (bnc sampler)"
   ]
  },
  {
   "cell_type": "code",
   "execution_count": 2,
   "metadata": {},
   "outputs": [],
   "source": [
    "#read all files in bnc corpus (2554.zip) to create reader\n",
    "#direct download link for 2554.zip: http://hdl.handle.net/20.500.12024/2554\n",
    "bnc_reader=BNCCorpusReader(root='2554.zip/download/Texts/', fileids=r'[A-K]/\\w*/\\w*\\.xml')"
   ]
  },
  {
   "cell_type": "code",
   "execution_count": 15,
   "metadata": {
    "tags": []
   },
   "outputs": [],
   "source": [
    "#all ids in the bnc database with audience age as 'child' for sample of written works intended for children\n",
    "kids_sample=['A/A7/A7A.xml','A/AB/ABX.xml','A/AC/AC5.xml','A/AC/AC4.xml','A/AC/ACB.xml','A/AC/ACV.xml','A/AE/AEB.xml','A/AL/ALS.xml','A/AM/AMB.xml','A/AP/APW.xml','A/AT/AT4.xml','B/B0/B0B.xml','B/B1/B1S.xml','B/B2/B2N.xml','B/BM/BMU.xml','B/BP/BPD.xml','C/C8/C85.xml','C/C8/C8N.xml','C/CA/CA3.xml','C/CA/CAB.xml','C/CA/CAX.xml','C/CC/CCA.xml','C/CE/CE0.xml','C/CE/CEU.xml','C/CF/CFJ.xml','C/CH/CH4.xml','C/CH/CH9.xml','C/CH/CHR.xml','E/EF/EFJ.xml','F/FE/FEH.xml','F/FN/FNS.xml','F/FP/FPT.xml','F/FP/FPV.xml','F/FS/FSL.xml','F/FU/FUB.xml','G/G2/G22.xml','G/G2/G23.xml','G/G2/G24.xml','G/G2/G25.xml','H/H9/H93.xml','H/H9/H9E.xml']\n",
    "kids_reader=BNCCorpusReader(root='2554.zip/download/Texts/', fileids=kids_sample)"
   ]
  },
  {
   "cell_type": "code",
   "execution_count": 5,
   "metadata": {
    "tags": []
   },
   "outputs": [],
   "source": [
    "#10% sample of BNC to investigate differences in sample sizes\n",
    "#general sample size - file ids of books within 'whole' sample to give ~10 million words \n",
    "general_sample=['A/A6/A69.xml', 'A/A7/A79.xml', 'A/A7/A7C.xml','A/AB/ABU.xml','A/AB/ABV.xml','A/AD/AD9.xml','A/AD/ADB.xml','A/AL/AL8.xml','A/AL/ALJ.xml','A/AL/ALL.xml','A/AL/ALU.xml','A/AM/AM4.xml','A/AM/AMU.xml','A/AN/AN3.xml','A/AN/AN5.xml','A/AN/ANB.xml','A/AN/ANC.xml','A/AN/ANU.xml','A/AP/APC.xml','A/AP/APP.xml','A/AP/APT.xml','A/AR/AR0.xml','A/AS/AS3.xml', 'A/AS/ASN.xml', 'A/AS/ASV.xml', 'A/AT/AT3.xml', 'A/AT/ATE.xml', 'A/AY/AYJ.xml', 'B/B0/B07.xml', 'B/B0/B0H.xml', 'B/B0/B0K.xml' 'B/B0/B0N.xml', 'B/B0/B0P.xml', 'B/B0/B0U.xml', 'B/B1/B11.xml', 'B/B1/B1D.xml', 'B/B1/B1N.xml', 'B/B1/B1X.xml', 'B/B2/B20.xml', 'B/B2/B22.xml', 'B/B2/B24.xml', 'B/B2/B2G.xml', 'B/B2/B2S.xml', 'B/B2/B2U.xml', 'B/B3/B32.xml', 'B/BL/BLW.xml', 'B/BL/BLY.xml', 'B/BM/BM1.xml', 'B/BM/BM6.xml', 'B/BM/BM9.xml', 'B/BM/BMN.xml', 'B/BM/BMR.xml', 'B/BM/BMY.xml', 'B/BN/BN4.xml', 'B/BN/BN5.xml', 'B/BN/BNB.xml', 'B/BN/BNF.xml', 'B/BN/BNG.xml', 'B/BN/BNN.xml', 'B/BN/BNU.xml', 'B/BP/BP0.xml', 'B/BP/BP1.xml', 'B/BP/BP7.xml', 'B/BP/BP9.xml', 'B/BP/BPK.xml', 'C/C8/C8S.xml', 'C/C9/C98.xml', 'C/C9/C9U.xml', 'C/CA/CA0.xml', 'C/CA/CA5.xml', 'C/CA/CA7.xml', 'C/CA/CA8.xml', 'C/CA/CAC.xml', 'C/CA/CAM.xml', 'C/CB/CB5.xml', 'C/CB/CB6.xml', 'C/CB/CBJ.xml', 'C/CB/CBN.xml', 'C/CC/CCB.xml', 'C/CC/CCD.xml', 'C/CC/CCK.xml', 'C/CC/CCW.xml', 'C/CD/CD8.xml', 'C/CD/CDB.xml', 'C/CD/CDD.xml', 'C/CD/CDE.xml','C/CD/CDG.xml', 'C/CD/CDS.xml', 'C/CD/CDX.xml', 'C/CE/CE7.xml', 'C/CE/CE9.xml', 'C/CE/CEB.xml', 'C/CE/CEC.xml', 'C/CE/CEE.xml', 'C/CE/CEF.xml', 'C/CE/CEG.xml', 'C/CF/CFY.xml', 'C/CJ/CJX.xml', 'C/CK/CKE.xml', 'C/CM/CML.xml', 'E/E9/E9V.xml', 'E/EA/EA3.xml', 'E/EA/EA6.xml', 'E/EA/EA7.xml', 'E/EA/EAW.xml', 'E/EC/EC3.xml', 'E/ED/EDK.xml', 'E/EE/EEE.xml', 'E/EE/EEF.xml', 'E/EE/EEM.xml', 'E/EE/EEY.xml', 'E/EF/EF4.xml', 'E/EF/EFA.xml', 'E/EF/EFP.xml', 'E/EF/EFS.xml', 'E/EF/EFU.xml', 'E/EF/EFV.xml', 'E/EU/EUX.xml', 'E/EW/EW1.xml', 'E/EW/EW7.xml', 'E/EW/EWM.xml', 'E/EW/EWR.xml','E/EX/EX7.xml', 'F/FA/FAV.xml', 'F/FB/FB2.xml', 'F/FN/FNX.xml', 'F/FP/FP0.xml', 'F/FP/FPJ.xml', 'F/FP/FPN.xml', 'F/FP/FPR.xml', 'F/FR/FR3.xml', 'F/FR/FRB.xml', 'F/FR/FRL.xml', 'F/FS/FS0.xml', 'F/FS/FS6.xml', 'F/FS/FSE.xml', 'F/FS/FSF.xml', 'F/FS/FST.xml', 'G/G0/G0D.xml', 'G/G0/G0L.xml', 'G/G1/G10.xml', 'G/G1/G19.xml', 'G/G1/G1C.xml', 'G/G1/G1G.xml', 'G/G1/G1H.xml', 'G/G2/G20.xml', 'G/G3/G3F.xml', 'G/GU/GU8.xml', 'G/GU/GUC.xml', 'G/GU/GUG.xml', 'G/GU/GUY.xml', 'G/GV/GV5.xml', 'G/GV/GV6.xml', 'G/GV/GVJ.xml', 'G/GV/GVR.xml', 'G/GV/GVS.xml', 'G/GV/GVU.xml', 'G/GV/GVW.xml', 'G/GW/GW3.xml', 'G/GW/GW6.xml', 'G/GW/GW9.xml', 'G/GW/GWK.xml', 'G/GW/GWL.xml', 'H/H1/H10.xml', 'H/H7/H78.xml', 'H/H7/H7T.xml', 'H/H7/H7U.xml', 'H/H7/H7X.xml', 'H/H8/H82.xml', 'H/H8/H84.xml', 'H/H8/H85.xml', 'H/H8/H86.xml', 'H/H8/H88.xml', 'H/H8/H89.xml', 'H/H8/H8A.xml', 'H/H8/H8D.xml', 'H/H8/H8M.xml', 'H/H8/H8T.xml', 'H/H8/H8U.xml', 'H/H8/H8X.xml', 'H/H9/H90.xml', 'H/H9/H92.xml', 'H/H9/H98.xml', 'H/H9/H99.xml', 'H/H9/H9C.xml', 'H/H9/H9G.xml', 'H/H9/H9J.xml', 'H/H9/H9M.xml', 'H/H9/H9Y.xml', 'H/HA/HA0.xml', 'H/HG/HGG.xml', 'H/HG/HGJ.xml', 'H/HH/HH0.xml', 'H/HH/HH2.xml', 'H/HJ/HJH.xml', 'H/HN/HNJ.xml', 'H/HN/HNW.xml', 'H/HP/HP0.xml', 'H/HR/HR4.xml', 'H/HR/HR7.xml', 'H/HR/HR8.xml', 'H/HR/HRA.xml', 'H/HR/HRB.xml', 'H/HR/HRC.xml', 'H/HR/HRM.xml', 'H/HT/HTK.xml', 'H/HT/HTR.xml', 'H/HT/HTT.xml', 'H/HT/HTU.xml', 'H/HT/HTX.xml', 'H/HU/HU0.xml', 'H/HW/HW8.xml', 'H/HW/HWA.xml', 'H/HW/HWD.xml', 'H/HW/HWE.xml', 'H/HW/HWL.xml', 'H/HW/HWM.xml', 'H/HW/HWN.xml', 'J/J0/J0P.xml', 'J/J0/J0W.xml', 'J/J1/J13.xml', 'J/J1/J16.xml', 'J/J5/J56.xml', 'K/K8/K8R.xml', 'K/K8/K8S.xml', 'K/K9/K95.xml']\n",
    "#define reader using general sample files \n",
    "general_reader=BNCCorpusReader(root='2554.zip/download/Texts/', fileids=general_sample)"
   ]
  },
  {
   "cell_type": "code",
   "execution_count": 12,
   "metadata": {},
   "outputs": [],
   "source": [
    "#BNC sampler file for small but representative sample of corpus \n",
    "#~ 2 million written words of both spoken and written (2551.zip) \n",
    "#direct download link for 2551.zip: https://ota.bodleian.ox.ac.uk/repository/xmlui/bitstream/handle/20.500.12024/2551/2551.zip?sequence=3&isAllowed=y\n",
    "small_sample=BNCCorpusReader(root='2551.zip/download/XML/', fileids=r'[A-K]\\w*\\w*\\.xml')"
   ]
  },
  {
   "cell_type": "code",
   "execution_count": 53,
   "metadata": {},
   "outputs": [],
   "source": [
    "#baby bnc sample -  4 samples of 1 million words in different domains - for small sample of bnc will use the fiction section\n",
    "#file names in the baby bnc 'fiction' sample of ~1million written words\n",
    "#direct download link for 2553.zip: https://ota.bodleian.ox.ac.uk/repository/xmlui/bitstream/handle/20.500.12024/2553/2553.zip?sequence=3&isAllowed=y\n",
    "baby_ids=['AB9.xml', 'AC2.xml', 'BMW.xml', 'BPA.xml', 'C8T.xml', 'CB5.xml', 'CCW.xml', 'CDB.xml', 'CFY.xml', 'FAJ.xml', 'FET.xml', 'FPB.xml', 'G0L.xml', 'G0S.xml', 'G0Y.xml','G01.xml', 'GUU.xml', 'GVL.xml', 'H9C.xml', 'H9D.xml', 'H85.xml', 'HR9.xml', 'J10.xml', 'J54.xml', 'K8V.xml']\n",
    "#BNC baby sampler \n",
    "baby_reader=BNCCorpusReader(root='2553.zip/download/Texts/fic/', fileids=baby_ids)"
   ]
  },
  {
   "cell_type": "code",
   "execution_count": 3,
   "metadata": {},
   "outputs": [],
   "source": [
    "#extract all words from files in each reader (subcorpus) - returns list of words\n",
    "#bnc full text may take some time as over 100 million words \n",
    "all_words=bnc_reader.words()"
   ]
  },
  {
   "cell_type": "code",
   "execution_count": 4,
   "metadata": {},
   "outputs": [
    {
     "data": {
      "text/plain": [
       "111978070"
      ]
     },
     "execution_count": 4,
     "metadata": {},
     "output_type": "execute_result"
    }
   ],
   "source": [
    "#count number words in the sample - may also take some time to run \n",
    "len(all_words) #bnc full text total word count "
   ]
  },
  {
   "cell_type": "code",
   "execution_count": 5,
   "metadata": {},
   "outputs": [],
   "source": [
    "#count the number of times each word appears in each sample - returns dict of unique word counts\n",
    "counts=nltk.FreqDist(all_words) #762481 unique words \n",
    "#convert dict of unique word counts to dataframe and export to csv\n",
    "df=pd.DataFrame.from_dict(counts, orient='index').reset_index()\n",
    "df=df.rename(columns={'index':'Term', 0:'All_BNC_Counts'})\n",
    "df.to_csv('allBNC_counts.csv')"
   ]
  },
  {
   "cell_type": "code",
   "execution_count": 7,
   "metadata": {},
   "outputs": [
    {
     "data": {
      "text/html": [
       "<div>\n",
       "<style scoped>\n",
       "    .dataframe tbody tr th:only-of-type {\n",
       "        vertical-align: middle;\n",
       "    }\n",
       "\n",
       "    .dataframe tbody tr th {\n",
       "        vertical-align: top;\n",
       "    }\n",
       "\n",
       "    .dataframe thead th {\n",
       "        text-align: right;\n",
       "    }\n",
       "</style>\n",
       "<table border=\"1\" class=\"dataframe\">\n",
       "  <thead>\n",
       "    <tr style=\"text-align: right;\">\n",
       "      <th></th>\n",
       "      <th>index</th>\n",
       "      <th>0</th>\n",
       "    </tr>\n",
       "  </thead>\n",
       "  <tbody>\n",
       "    <tr>\n",
       "      <th>0</th>\n",
       "      <td>FACTSHEET</td>\n",
       "      <td>17</td>\n",
       "    </tr>\n",
       "    <tr>\n",
       "      <th>1</th>\n",
       "      <td>WHAT</td>\n",
       "      <td>1001</td>\n",
       "    </tr>\n",
       "    <tr>\n",
       "      <th>2</th>\n",
       "      <td>IS</td>\n",
       "      <td>1767</td>\n",
       "    </tr>\n",
       "    <tr>\n",
       "      <th>3</th>\n",
       "      <td>AIDS</td>\n",
       "      <td>1836</td>\n",
       "    </tr>\n",
       "    <tr>\n",
       "      <th>4</th>\n",
       "      <td>?</td>\n",
       "      <td>387952</td>\n",
       "    </tr>\n",
       "    <tr>\n",
       "      <th>...</th>\n",
       "      <td>...</td>\n",
       "      <td>...</td>\n",
       "    </tr>\n",
       "    <tr>\n",
       "      <th>762476</th>\n",
       "      <td>sleeptalk</td>\n",
       "      <td>1</td>\n",
       "    </tr>\n",
       "    <tr>\n",
       "      <th>762477</th>\n",
       "      <td>Danii</td>\n",
       "      <td>2</td>\n",
       "    </tr>\n",
       "    <tr>\n",
       "      <th>762478</th>\n",
       "      <td>poshy</td>\n",
       "      <td>1</td>\n",
       "    </tr>\n",
       "    <tr>\n",
       "      <th>762479</th>\n",
       "      <td>Fridged</td>\n",
       "      <td>1</td>\n",
       "    </tr>\n",
       "    <tr>\n",
       "      <th>762480</th>\n",
       "      <td>Gideons</td>\n",
       "      <td>2</td>\n",
       "    </tr>\n",
       "  </tbody>\n",
       "</table>\n",
       "<p>762481 rows × 2 columns</p>\n",
       "</div>"
      ],
      "text/plain": [
       "            index       0\n",
       "0       FACTSHEET      17\n",
       "1            WHAT    1001\n",
       "2              IS    1767\n",
       "3            AIDS    1836\n",
       "4               ?  387952\n",
       "...           ...     ...\n",
       "762476  sleeptalk       1\n",
       "762477      Danii       2\n",
       "762478      poshy       1\n",
       "762479    Fridged       1\n",
       "762480    Gideons       2\n",
       "\n",
       "[762481 rows x 2 columns]"
      ]
     },
     "execution_count": 7,
     "metadata": {},
     "output_type": "execute_result"
    }
   ],
   "source": [
    "df"
   ]
  },
  {
   "cell_type": "code",
   "execution_count": 8,
   "metadata": {},
   "outputs": [],
   "source": [
    "#get all the words from kids books in the corpus\n",
    "kids_words=kids_reader.words()"
   ]
  },
  {
   "cell_type": "code",
   "execution_count": 9,
   "metadata": {},
   "outputs": [
    {
     "data": {
      "text/plain": [
       "1095907"
      ]
     },
     "execution_count": 9,
     "metadata": {},
     "output_type": "execute_result"
    }
   ],
   "source": [
    "#count total number of words in all the texts \n",
    "len(kids_words) #1095907 words in total of kids subcorpus "
   ]
  },
  {
   "cell_type": "code",
   "execution_count": 11,
   "metadata": {},
   "outputs": [],
   "source": [
    "#unique word count - returns dict of frequency of each words appearance\n",
    "kids_counts=nltk.FreqDist(kids_words)\n",
    "#convert dict to dataframe and export to csv\n",
    "df1=pd.DataFrame.from_dict(kids_counts, orient='index').reset_index()\n",
    "df1 #31450 unique words \n",
    "df1=df1.rename(columns={'index':'Term', 0:'KBNC_Counts'})\n",
    "df1.to_csv('KBNC_wordCounts.csv')"
   ]
  },
  {
   "cell_type": "code",
   "execution_count": 14,
   "metadata": {},
   "outputs": [],
   "source": [
    "#BNC sampler - returns the 1 million spoken and 1 million written words in files\n",
    "ss_words=small_sample.words()"
   ]
  },
  {
   "cell_type": "code",
   "execution_count": 16,
   "metadata": {},
   "outputs": [
    {
     "data": {
      "text/plain": [
       "2279356"
      ]
     },
     "execution_count": 16,
     "metadata": {},
     "output_type": "execute_result"
    }
   ],
   "source": [
    "#counts the number of words ~50/50 split spoken/written\n",
    "len(ss_words) #2279356 in total"
   ]
  },
  {
   "cell_type": "code",
   "execution_count": 37,
   "metadata": {},
   "outputs": [
    {
     "data": {
      "text/html": [
       "<div>\n",
       "<style scoped>\n",
       "    .dataframe tbody tr th:only-of-type {\n",
       "        vertical-align: middle;\n",
       "    }\n",
       "\n",
       "    .dataframe tbody tr th {\n",
       "        vertical-align: top;\n",
       "    }\n",
       "\n",
       "    .dataframe thead th {\n",
       "        text-align: right;\n",
       "    }\n",
       "</style>\n",
       "<table border=\"1\" class=\"dataframe\">\n",
       "  <thead>\n",
       "    <tr style=\"text-align: right;\">\n",
       "      <th></th>\n",
       "      <th>Term</th>\n",
       "      <th>BNC_Sampler_Counts</th>\n",
       "    </tr>\n",
       "  </thead>\n",
       "  <tbody>\n",
       "    <tr>\n",
       "      <th>0</th>\n",
       "      <td>Lebanon</td>\n",
       "      <td>50</td>\n",
       "    </tr>\n",
       "    <tr>\n",
       "      <th>1</th>\n",
       "      <td>leader</td>\n",
       "      <td>193</td>\n",
       "    </tr>\n",
       "    <tr>\n",
       "      <th>2</th>\n",
       "      <td>builds</td>\n",
       "      <td>15</td>\n",
       "    </tr>\n",
       "    <tr>\n",
       "      <th>3</th>\n",
       "      <td>cabinet</td>\n",
       "      <td>66</td>\n",
       "    </tr>\n",
       "    <tr>\n",
       "      <th>4</th>\n",
       "      <td>.</td>\n",
       "      <td>107567</td>\n",
       "    </tr>\n",
       "    <tr>\n",
       "      <th>...</th>\n",
       "      <td>...</td>\n",
       "      <td>...</td>\n",
       "    </tr>\n",
       "    <tr>\n",
       "      <th>64521</th>\n",
       "      <td>Cambri</td>\n",
       "      <td>1</td>\n",
       "    </tr>\n",
       "    <tr>\n",
       "      <th>64522</th>\n",
       "      <td>humping</td>\n",
       "      <td>1</td>\n",
       "    </tr>\n",
       "    <tr>\n",
       "      <th>64523</th>\n",
       "      <td>Wrens</td>\n",
       "      <td>2</td>\n",
       "    </tr>\n",
       "    <tr>\n",
       "      <th>64524</th>\n",
       "      <td>policewoman</td>\n",
       "      <td>1</td>\n",
       "    </tr>\n",
       "    <tr>\n",
       "      <th>64525</th>\n",
       "      <td>Plastering</td>\n",
       "      <td>1</td>\n",
       "    </tr>\n",
       "  </tbody>\n",
       "</table>\n",
       "<p>64526 rows × 2 columns</p>\n",
       "</div>"
      ],
      "text/plain": [
       "              Term  BNC_Sampler_Counts\n",
       "0          Lebanon                  50\n",
       "1           leader                 193\n",
       "2           builds                  15\n",
       "3          cabinet                  66\n",
       "4                .              107567\n",
       "...            ...                 ...\n",
       "64521       Cambri                   1\n",
       "64522      humping                   1\n",
       "64523        Wrens                   2\n",
       "64524  policewoman                   1\n",
       "64525   Plastering                   1\n",
       "\n",
       "[64526 rows x 2 columns]"
      ]
     },
     "execution_count": 37,
     "metadata": {},
     "output_type": "execute_result"
    }
   ],
   "source": [
    "#unique word count of each words occurence \n",
    "ss_counts=nltk.FreqDist(ss_words)\n",
    "df2=pd.DataFrame.from_dict(ss_counts, orient='index').reset_index()\n",
    "df2=df2.rename(columns={'index':'Term', 0:'BNC_Sampler_Counts'})\n",
    "df2 #64526 unique words \n",
    "df2.to_csv('BNC_Sampler_Counts.csv')"
   ]
  },
  {
   "cell_type": "code",
   "execution_count": 55,
   "metadata": {},
   "outputs": [],
   "source": [
    "#Baby BNC counts - 1 million word sample of fiction texts \n",
    "baby_words=baby_reader.words()"
   ]
  },
  {
   "cell_type": "code",
   "execution_count": 61,
   "metadata": {},
   "outputs": [
    {
     "data": {
      "text/plain": [
       "1211132"
      ]
     },
     "execution_count": 61,
     "metadata": {},
     "output_type": "execute_result"
    }
   ],
   "source": [
    "len(baby_words)"
   ]
  },
  {
   "cell_type": "code",
   "execution_count": 56,
   "metadata": {},
   "outputs": [],
   "source": [
    "baby_counts=nltk.FreqDist(baby_words)"
   ]
  },
  {
   "cell_type": "code",
   "execution_count": 57,
   "metadata": {},
   "outputs": [
    {
     "data": {
      "text/html": [
       "<div>\n",
       "<style scoped>\n",
       "    .dataframe tbody tr th:only-of-type {\n",
       "        vertical-align: middle;\n",
       "    }\n",
       "\n",
       "    .dataframe tbody tr th {\n",
       "        vertical-align: top;\n",
       "    }\n",
       "\n",
       "    .dataframe thead th {\n",
       "        text-align: right;\n",
       "    }\n",
       "</style>\n",
       "<table border=\"1\" class=\"dataframe\">\n",
       "  <thead>\n",
       "    <tr style=\"text-align: right;\">\n",
       "      <th></th>\n",
       "      <th>Term</th>\n",
       "      <th>BNC_Baby_Counts</th>\n",
       "    </tr>\n",
       "  </thead>\n",
       "  <tbody>\n",
       "    <tr>\n",
       "      <th>0</th>\n",
       "      <td>Detective</td>\n",
       "      <td>20</td>\n",
       "    </tr>\n",
       "    <tr>\n",
       "      <th>1</th>\n",
       "      <td>Chief</td>\n",
       "      <td>107</td>\n",
       "    </tr>\n",
       "    <tr>\n",
       "      <th>2</th>\n",
       "      <td>Inspector</td>\n",
       "      <td>71</td>\n",
       "    </tr>\n",
       "    <tr>\n",
       "      <th>3</th>\n",
       "      <td>John</td>\n",
       "      <td>207</td>\n",
       "    </tr>\n",
       "    <tr>\n",
       "      <th>4</th>\n",
       "      <td>McLeish</td>\n",
       "      <td>302</td>\n",
       "    </tr>\n",
       "    <tr>\n",
       "      <th>...</th>\n",
       "      <td>...</td>\n",
       "      <td>...</td>\n",
       "    </tr>\n",
       "    <tr>\n",
       "      <th>39748</th>\n",
       "      <td>well-typed</td>\n",
       "      <td>1</td>\n",
       "    </tr>\n",
       "    <tr>\n",
       "      <th>39749</th>\n",
       "      <td>missives</td>\n",
       "      <td>1</td>\n",
       "    </tr>\n",
       "    <tr>\n",
       "      <th>39750</th>\n",
       "      <td>Toothpaste</td>\n",
       "      <td>1</td>\n",
       "    </tr>\n",
       "    <tr>\n",
       "      <th>39751</th>\n",
       "      <td>Memories</td>\n",
       "      <td>1</td>\n",
       "    </tr>\n",
       "    <tr>\n",
       "      <th>39752</th>\n",
       "      <td>Lindsay</td>\n",
       "      <td>1</td>\n",
       "    </tr>\n",
       "  </tbody>\n",
       "</table>\n",
       "<p>39753 rows × 2 columns</p>\n",
       "</div>"
      ],
      "text/plain": [
       "             Term  BNC_Baby_Counts\n",
       "0       Detective               20\n",
       "1           Chief              107\n",
       "2       Inspector               71\n",
       "3            John              207\n",
       "4         McLeish              302\n",
       "...           ...              ...\n",
       "39748  well-typed                1\n",
       "39749    missives                1\n",
       "39750  Toothpaste                1\n",
       "39751    Memories                1\n",
       "39752     Lindsay                1\n",
       "\n",
       "[39753 rows x 2 columns]"
      ]
     },
     "execution_count": 57,
     "metadata": {},
     "output_type": "execute_result"
    }
   ],
   "source": [
    "df3=pd.DataFrame.from_dict(baby_counts, orient='index').reset_index()\n",
    "df3=df3.rename(columns={'index':'Term', 0:'BNC_Baby_Counts'})\n",
    "df3 #39753 unique words \n",
    "df3.to_csv('BNC_baby_counts.csv')"
   ]
  },
  {
   "cell_type": "code",
   "execution_count": 7,
   "metadata": {},
   "outputs": [
    {
     "data": {
      "text/plain": [
       "10022421"
      ]
     },
     "execution_count": 7,
     "metadata": {},
     "output_type": "execute_result"
    }
   ],
   "source": [
    "general_words=general_reader.words()\n",
    "len(general_words) #10 million total words ~10% of total corpus "
   ]
  },
  {
   "cell_type": "code",
   "execution_count": 8,
   "metadata": {},
   "outputs": [],
   "source": [
    "word_counts=nltk.FreqDist(general_words)"
   ]
  },
  {
   "cell_type": "code",
   "execution_count": 10,
   "metadata": {},
   "outputs": [],
   "source": [
    "df1=pd.DataFrame.from_dict(word_counts, orient='index').reset_index()\n",
    ".rename(columns={'index':'Term', 0:'BNC_Gen_Counts'})\n",
    "df1.to_csv('BNC_large_sample_counts.csv')"
   ]
  },
  {
   "cell_type": "code",
   "execution_count": 11,
   "metadata": {},
   "outputs": [
    {
     "data": {
      "text/html": [
       "<div>\n",
       "<style scoped>\n",
       "    .dataframe tbody tr th:only-of-type {\n",
       "        vertical-align: middle;\n",
       "    }\n",
       "\n",
       "    .dataframe tbody tr th {\n",
       "        vertical-align: top;\n",
       "    }\n",
       "\n",
       "    .dataframe thead th {\n",
       "        text-align: right;\n",
       "    }\n",
       "</style>\n",
       "<table border=\"1\" class=\"dataframe\">\n",
       "  <thead>\n",
       "    <tr style=\"text-align: right;\">\n",
       "      <th></th>\n",
       "      <th>index</th>\n",
       "      <th>0</th>\n",
       "    </tr>\n",
       "  </thead>\n",
       "  <tbody>\n",
       "    <tr>\n",
       "      <th>0</th>\n",
       "      <td>SOCIAL</td>\n",
       "      <td>31</td>\n",
       "    </tr>\n",
       "    <tr>\n",
       "      <th>1</th>\n",
       "      <td>POLICIES</td>\n",
       "      <td>10</td>\n",
       "    </tr>\n",
       "    <tr>\n",
       "      <th>2</th>\n",
       "      <td>The</td>\n",
       "      <td>56112</td>\n",
       "    </tr>\n",
       "    <tr>\n",
       "      <th>3</th>\n",
       "      <td>business</td>\n",
       "      <td>2320</td>\n",
       "    </tr>\n",
       "    <tr>\n",
       "      <th>4</th>\n",
       "      <td>of</td>\n",
       "      <td>278401</td>\n",
       "    </tr>\n",
       "    <tr>\n",
       "      <th>...</th>\n",
       "      <td>...</td>\n",
       "      <td>...</td>\n",
       "    </tr>\n",
       "    <tr>\n",
       "      <th>147871</th>\n",
       "      <td>Burghgeshes</td>\n",
       "      <td>1</td>\n",
       "    </tr>\n",
       "    <tr>\n",
       "      <th>147872</th>\n",
       "      <td>ploughlands</td>\n",
       "      <td>1</td>\n",
       "    </tr>\n",
       "    <tr>\n",
       "      <th>147873</th>\n",
       "      <td>barbered</td>\n",
       "      <td>1</td>\n",
       "    </tr>\n",
       "    <tr>\n",
       "      <th>147874</th>\n",
       "      <td>bloody-handed</td>\n",
       "      <td>1</td>\n",
       "    </tr>\n",
       "    <tr>\n",
       "      <th>147875</th>\n",
       "      <td>shaggy-furred</td>\n",
       "      <td>1</td>\n",
       "    </tr>\n",
       "  </tbody>\n",
       "</table>\n",
       "<p>147876 rows × 2 columns</p>\n",
       "</div>"
      ],
      "text/plain": [
       "                index       0\n",
       "0              SOCIAL      31\n",
       "1            POLICIES      10\n",
       "2                 The   56112\n",
       "3            business    2320\n",
       "4                  of  278401\n",
       "...               ...     ...\n",
       "147871    Burghgeshes       1\n",
       "147872    ploughlands       1\n",
       "147873       barbered       1\n",
       "147874  bloody-handed       1\n",
       "147875  shaggy-furred       1\n",
       "\n",
       "[147876 rows x 2 columns]"
      ]
     },
     "execution_count": 11,
     "metadata": {},
     "output_type": "execute_result"
    }
   ],
   "source": [
    "df1"
   ]
  }
 ],
 "metadata": {
  "kernelspec": {
   "display_name": "Python 3",
   "language": "python",
   "name": "python3"
  },
  "language_info": {
   "codemirror_mode": {
    "name": "ipython",
    "version": 3
   },
   "file_extension": ".py",
   "mimetype": "text/x-python",
   "name": "python",
   "nbconvert_exporter": "python",
   "pygments_lexer": "ipython3",
   "version": "3.8.8"
  }
 },
 "nbformat": 4,
 "nbformat_minor": 4
}
